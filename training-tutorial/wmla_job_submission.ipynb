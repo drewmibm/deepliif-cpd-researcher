{
 "cells": [
  {
   "cell_type": "markdown",
   "metadata": {
    "id": "323c4a86-a69d-4b72-801e-ca3574399fc9"
   },
   "source": [
    "# WML-A Job Submission via WML-A CLI\n",
    "\n",
    "Offical examples can be found here: https://wmla-console-cpd-wmla.apps.cpd.mskcc.org/ui/#/cliTools"
   ]
  },
  {
   "cell_type": "code",
   "execution_count": 7,
   "metadata": {
    "id": "9a0475e8-bcb3-4424-8c39-873935847fc4",
    "tags": []
   },
   "outputs": [
    {
     "name": "stdout",
     "output_type": "stream",
     "text": [
      "env: DIR=/userfs/training-tutorial\n",
      "env: NAMESPACE=cpd-wmla\n",
      "env: HOST=wmla-console-cpd-wmla.apps.cpd.mskcc.org\n",
      "env: BASE_URL=https://cpd-cpd.apps.cpd.mskcc.org\n",
      "env: VOLUME_DISPLAY_NAME=AdditionalDeepLIIFVolume\n"
     ]
    }
   ],
   "source": [
    "%env DIR=/userfs/training-tutorial\n",
    "%env NAMESPACE=cpd-wmla\n",
    "%env HOST=wmla-console-cpd-wmla.apps.cpd.mskcc.org\n",
    "%env BASE_URL=https://cpd-cpd.apps.cpd.mskcc.org\n",
    "\n",
    "%env VOLUME_DISPLAY_NAME=AdditionalDeepLIIFVolume"
   ]
  },
  {
   "cell_type": "markdown",
   "metadata": {
    "id": "5b383562-c544-48a5-8bc2-89001a46398b"
   },
   "source": [
    "### Submit Jobs\n",
    "#### PyTorch (single GPU or multiple GPUs on one node with multithreading)"
   ]
  },
  {
   "cell_type": "code",
   "execution_count": 21,
   "metadata": {
    "id": "b58687a3-7084-416c-a2ac-e1dc3bd2a032",
    "tags": []
   },
   "outputs": [
    {
     "name": "stdout",
     "output_type": "stream",
     "text": [
      "env: DIR_job_submission=/userfs/training-tutorial/job_submission\n",
      "env: file_exec=train_wmla.py\n"
     ]
    }
   ],
   "source": [
    "%env DIR_job_submission=/userfs/training-tutorial/job_submission\n",
    "%env file_exec=train_wmla.py\n",
    "\n",
    "!rm -rf $DIR_job_submission\n",
    "!mkdir -p $DIR_job_submission\n",
    "\n",
    "!cp $DIR/cifar-visdom/train_wmla.py $DIR_job_submission\n",
    "!cp $DIR/cifar-visdom/utils_wmla.py $DIR_job_submission\n",
    "!cp /userfs/storage_volume_utils.py $DIR_job_submission\n",
    "!cp /userfs/cpd_utils.py $DIR_job_submission"
   ]
  },
  {
   "cell_type": "markdown",
   "metadata": {
    "id": "e8c3c27f-1dea-4f81-9900-7d7fec791ed6"
   },
   "source": [
    "Data path does not matter, because the training script downloads the data into the working directory."
   ]
  },
  {
   "cell_type": "code",
   "execution_count": 22,
   "metadata": {
    "id": "c35c45d6-49e2-4c08-9b65-006a52ff04a2",
    "tags": []
   },
   "outputs": [
    {
     "name": "stdout",
     "output_type": "stream",
     "text": [
      "Copying files and directories ...\n",
      "Content size: 6.8K\n",
      "{\n",
      "  \"execId\": \"cpd-wmla-213\",\n",
      "  \"appId\": \"cpd-wmla-213\"\n",
      "}\n"
     ]
    }
   ],
   "source": [
    "!python dlicmd.py --exec-start PyTorch --rest-host $HOST --rest-port -1 --jwt-token $USER_ACCESS_TOKEN \\\n",
    "                  --msd-env USER_ACCESS_TOKEN=$USER_ACCESS_TOKEN --msd-env BASE_URL=$BASE_URL \\\n",
    "                  --msd-env VOLUME_DISPLAY_NAME=$VOLUME_DISPLAY_NAME \\\n",
    "                  --workerDeviceNum 1 --workerMemory 8g \\\n",
    "                  --model-dir $DIR_job_submission --model-main $file_exec \\\n",
    "                  --cs-datastore-meta type=fs,data_path=/"
   ]
  },
  {
   "cell_type": "code",
   "execution_count": 32,
   "metadata": {
    "id": "b2617082-5911-42f3-bfbd-b079c3e14de1",
    "tags": []
   },
   "outputs": [
    {
     "name": "stdout",
     "output_type": "stream",
     "text": [
      "env: APP_ID=cpd-wmla-213\n"
     ]
    }
   ],
   "source": [
    "%env APP_ID=cpd-wmla-213"
   ]
  },
  {
   "cell_type": "markdown",
   "metadata": {
    "id": "08726af6-6869-469d-9a1b-67b8af1dbe9c"
   },
   "source": [
    "### Submit Jobs\n",
    "#### distPyTorch (multiprocessing using DDP)\n",
    "This does not apply because the training code does not use DDP."
   ]
  },
  {
   "cell_type": "markdown",
   "metadata": {
    "id": "10ab43f9-45c9-443c-836e-70b8d93201a5"
   },
   "source": [
    "### Delete Jobs (and associated results/logs)\n",
    "#### delete one job"
   ]
  },
  {
   "cell_type": "code",
   "execution_count": null,
   "metadata": {
    "id": "9187399d-98df-4842-ae9f-03d83db495e7",
    "tags": []
   },
   "outputs": [],
   "source": [
    "# !python dlicmd.py --exec-delete $NAMESPACE-38 --rest-host $HOST --rest-port -1 --jwt-token $USER_ACCESS_TOKEN "
   ]
  },
  {
   "cell_type": "markdown",
   "metadata": {
    "id": "6bd3a390-7342-440f-9eab-9f81724edc34"
   },
   "source": [
    "#### delete multiple jobs in a loop"
   ]
  },
  {
   "cell_type": "code",
   "execution_count": null,
   "metadata": {
    "id": "839e4708-ebe6-47e9-824a-7ed55715859f",
    "tags": []
   },
   "outputs": [],
   "source": [
    "# for i in range(200,213):\n",
    "#     %env i=$i\n",
    "#     !python dlicmd.py --exec-delete $NAMESPACE-$i --rest-host $HOST --rest-port -1 --jwt-token $USER_ACCESS_TOKEN "
   ]
  },
  {
   "cell_type": "markdown",
   "metadata": {
    "id": "a87fd618-0d5d-4f7d-b14c-abf160171a63"
   },
   "source": [
    "### Get Job Status"
   ]
  },
  {
   "cell_type": "code",
   "execution_count": null,
   "metadata": {
    "id": "5c1ffd65-e531-4fbc-9cef-7d9d47020d24",
    "tags": []
   },
   "outputs": [],
   "source": [
    "!python dlicmd.py --exec-get $APP_ID --rest-host $HOST --rest-port -1 --jwt-token $USER_ACCESS_TOKEN"
   ]
  },
  {
   "cell_type": "markdown",
   "metadata": {
    "id": "31923da7-9f80-4634-bd8e-4fd99b1ce687"
   },
   "source": [
    "### Get Job Log\n",
    "#### last 10 lines"
   ]
  },
  {
   "cell_type": "code",
   "execution_count": 34,
   "metadata": {
    "id": "90b9325a-6aa6-402f-872d-91e2482c5025",
    "tags": []
   },
   "outputs": [
    {
     "name": "stdout",
     "output_type": "stream",
     "text": [
      "================================================================================\n",
      "Executor 1 stdout\n",
      "*Task <1> SubProcess*: |  GPU   GI   CI        PID   Type   Process name                  GPU Memory |\n",
      "*Task <1> SubProcess*: |        ID   ID                                                   Usage      |\n",
      "*Task <1> SubProcess*: |=============================================================================|\n",
      "*Task <1> SubProcess*: |  No running processes found                                                 |\n",
      "*Task <1> SubProcess*: +-----------------------------------------------------------------------------+\n",
      "*Task <1> SubProcess*: 2022-03-31 13:54:56.059486 36 INFO NVIDIA_VISIBLE_DEVICES=GPU-82d79a86-56fa-99a8-fe21-eaed5b689ee5\n",
      "*Task <1> SubProcess*: 2022-03-31 13:54:56.067828 36 INFO NVIDIA_DRIVER_CAPABILITIES=compute,utility\n",
      "*Task <1> SubProcess*: 2022-03-31 13:54:56.088194 36 INFO DATA_SOURCE_RESERVE=false\n",
      "*Task <1> SubProcess*: 2022-03-31 13:54:56.095854 36 INFO Clean up data source\n",
      "*Task <1> SubProcess*: 2022-03-31 13:54:56.106019 36 INFO Command exit with 0\n",
      "\n",
      "\n"
     ]
    }
   ],
   "source": [
    "!python dlicmd.py --exec-outlogs $APP_ID --rest-host $HOST --rest-port -1 --jwt-token $USER_ACCESS_TOKEN"
   ]
  },
  {
   "cell_type": "markdown",
   "metadata": {
    "id": "2d33b3ca-a56c-4087-86f8-396ce81588a5"
   },
   "source": [
    "#### full log files"
   ]
  },
  {
   "cell_type": "code",
   "execution_count": null,
   "metadata": {
    "id": "6cd840da-957c-4725-8a8d-b2879ab9e172",
    "tags": []
   },
   "outputs": [],
   "source": [
    "!python dlicmd.py --exec-trainoutlogs $APP_ID --rest-host $HOST --rest-port -1 --jwt-token $USER_ACCESS_TOKEN "
   ]
  },
  {
   "cell_type": "code",
   "execution_count": null,
   "metadata": {
    "id": "a84e3f7e-71f8-402e-89ec-81a2ed43633f",
    "tags": []
   },
   "outputs": [],
   "source": [
    "!python dlicmd.py --exec-trainerrlogs $APP_ID --rest-host $HOST --rest-port -1 --jwt-token $USER_ACCESS_TOKEN"
   ]
  },
  {
   "cell_type": "markdown",
   "metadata": {
    "id": "7ebb4e11-7c79-4a26-9db2-1ad15409fa84"
   },
   "source": [
    "## Others - Visualizer Application"
   ]
  },
  {
   "cell_type": "code",
   "execution_count": 36,
   "metadata": {
    "id": "5ff76220-7025-4b58-a254-a7287a9bbe58",
    "tags": []
   },
   "outputs": [],
   "source": [
    "from ws_applications import display_link"
   ]
  },
  {
   "cell_type": "code",
   "execution_count": 37,
   "metadata": {
    "id": "cb16229e-003c-4bab-967e-0a0f58c451b7",
    "tags": []
   },
   "outputs": [
    {
     "data": {
      "text/html": [
       "<h3>Apps currently running (experimental)</h3>"
      ],
      "text/plain": [
       "<IPython.core.display.HTML object>"
      ]
     },
     "metadata": {},
     "output_type": "display_data"
    },
    {
     "data": {
      "text/html": [
       "These apps have been detected automatically."
      ],
      "text/plain": [
       "<IPython.core.display.HTML object>"
      ]
     },
     "metadata": {},
     "output_type": "display_data"
    },
    {
     "data": {
      "text/html": [
       "<br>"
      ],
      "text/plain": [
       "<IPython.core.display.HTML object>"
      ]
     },
     "metadata": {},
     "output_type": "display_data"
    },
    {
     "data": {
      "text/html": [
       "\n",
       "    <table>\n",
       "      <tr>\n",
       "        <th>Application Type</th>\n",
       "        <th>Process Name</th>\n",
       "        <th>Port</th>\n",
       "        <th>Link</th>\n",
       "      </tr>\n",
       "    \n",
       "        <tr>\n",
       "            <td>\n",
       "            <svg xmlns=\"http://www.w3.org/2000/svg\" height=\"20\" fill=\"currentColor\" class=\"bi bi-question-circle\" viewBox=\"0 0 16 16\">\n",
       "                <path d=\"M8 15A7 7 0 1 1 8 1a7 7 0 0 1 0 14zm0 1A8 8 0 1 0 8 0a8 8 0 0 0 0 16z\"/>\n",
       "                <path d=\"M5.255 5.786a.237.237 0 0 0 .241.247h.825c.138 0 .248-.113.266-.25.09-.656.54-1.134 1.342-1.134.686 0 1.314.343 1.314 1.168 0 .635-.374.927-.965 1.371-.673.489-1.206 1.06-1.168 1.987l.003.217a.25.25 0 0 0 .25.246h.811a.25.25 0 0 0 .25-.25v-.105c0-.718.273-.927 1.01-1.486.609-.463 1.244-.977 1.244-2.056 0-1.511-1.276-2.241-2.673-2.241-1.267 0-2.655.59-2.75 2.286zm1.557 5.763c0 .533.425.927 1.01.927.609 0 1.028-.394 1.028-.927 0-.552-.42-.94-1.029-.94-.584 0-1.009.388-1.009.94z\"/>\n",
       "            </svg>\n",
       "            </td>\n",
       "            <td>python</td>\n",
       "            <td>42387</td>\n",
       "            <td>\n",
       "        <form action=/dsx-jupyter-lab-py38gpu/ibmdsxuser-1000331006/90b5a4a5-f05a-48cf-833e-33c63933d890/jupyter-lab-py38gpu-ccb422d1-7888-4440-b54b-51ca0457f821/proxy/42387/ target='_blank'>\n",
       "            <input type=\"submit\" value=\"Open app\" />\n",
       "        </form>\n",
       "        </td>\n",
       "        </tr>\n",
       "        \n",
       "        <tr>\n",
       "            <td>\n",
       "            <svg xmlns=\"http://www.w3.org/2000/svg\" height=\"20\" fill=\"currentColor\" class=\"bi bi-question-circle\" viewBox=\"0 0 16 16\">\n",
       "                <path d=\"M8 15A7 7 0 1 1 8 1a7 7 0 0 1 0 14zm0 1A8 8 0 1 0 8 0a8 8 0 0 0 0 16z\"/>\n",
       "                <path d=\"M5.255 5.786a.237.237 0 0 0 .241.247h.825c.138 0 .248-.113.266-.25.09-.656.54-1.134 1.342-1.134.686 0 1.314.343 1.314 1.168 0 .635-.374.927-.965 1.371-.673.489-1.206 1.06-1.168 1.987l.003.217a.25.25 0 0 0 .25.246h.811a.25.25 0 0 0 .25-.25v-.105c0-.718.273-.927 1.01-1.486.609-.463 1.244-.977 1.244-2.056 0-1.511-1.276-2.241-2.673-2.241-1.267 0-2.655.59-2.75 2.286zm1.557 5.763c0 .533.425.927 1.01.927.609 0 1.028-.394 1.028-.927 0-.552-.42-.94-1.029-.94-.584 0-1.009.388-1.009.94z\"/>\n",
       "            </svg>\n",
       "            </td>\n",
       "            <td>python</td>\n",
       "            <td>8097</td>\n",
       "            <td>\n",
       "        <form action=/dsx-jupyter-lab-py38gpu/ibmdsxuser-1000331006/90b5a4a5-f05a-48cf-833e-33c63933d890/jupyter-lab-py38gpu-ccb422d1-7888-4440-b54b-51ca0457f821/proxy/8097/ target='_blank'>\n",
       "            <input type=\"submit\" value=\"Open app\" />\n",
       "        </form>\n",
       "        </td>\n",
       "        </tr>\n",
       "        \n",
       "        <tr>\n",
       "            <td>\n",
       "            <svg xmlns=\"http://www.w3.org/2000/svg\" height=\"20\" fill=\"currentColor\" class=\"bi bi-question-circle\" viewBox=\"0 0 16 16\">\n",
       "                <path d=\"M8 15A7 7 0 1 1 8 1a7 7 0 0 1 0 14zm0 1A8 8 0 1 0 8 0a8 8 0 0 0 0 16z\"/>\n",
       "                <path d=\"M5.255 5.786a.237.237 0 0 0 .241.247h.825c.138 0 .248-.113.266-.25.09-.656.54-1.134 1.342-1.134.686 0 1.314.343 1.314 1.168 0 .635-.374.927-.965 1.371-.673.489-1.206 1.06-1.168 1.987l.003.217a.25.25 0 0 0 .25.246h.811a.25.25 0 0 0 .25-.25v-.105c0-.718.273-.927 1.01-1.486.609-.463 1.244-.977 1.244-2.056 0-1.511-1.276-2.241-2.673-2.241-1.267 0-2.655.59-2.75 2.286zm1.557 5.763c0 .533.425.927 1.01.927.609 0 1.028-.394 1.028-.927 0-.552-.42-.94-1.029-.94-.584 0-1.009.388-1.009.94z\"/>\n",
       "            </svg>\n",
       "            </td>\n",
       "            <td>python</td>\n",
       "            <td>55125</td>\n",
       "            <td>\n",
       "        <form action=/dsx-jupyter-lab-py38gpu/ibmdsxuser-1000331006/90b5a4a5-f05a-48cf-833e-33c63933d890/jupyter-lab-py38gpu-ccb422d1-7888-4440-b54b-51ca0457f821/proxy/55125/ target='_blank'>\n",
       "            <input type=\"submit\" value=\"Open app\" />\n",
       "        </form>\n",
       "        </td>\n",
       "        </tr>\n",
       "        \n",
       "        <tr>\n",
       "            <td>\n",
       "            <svg xmlns=\"http://www.w3.org/2000/svg\" height=\"20\" fill=\"currentColor\" class=\"bi bi-question-circle\" viewBox=\"0 0 16 16\">\n",
       "                <path d=\"M8 15A7 7 0 1 1 8 1a7 7 0 0 1 0 14zm0 1A8 8 0 1 0 8 0a8 8 0 0 0 0 16z\"/>\n",
       "                <path d=\"M5.255 5.786a.237.237 0 0 0 .241.247h.825c.138 0 .248-.113.266-.25.09-.656.54-1.134 1.342-1.134.686 0 1.314.343 1.314 1.168 0 .635-.374.927-.965 1.371-.673.489-1.206 1.06-1.168 1.987l.003.217a.25.25 0 0 0 .25.246h.811a.25.25 0 0 0 .25-.25v-.105c0-.718.273-.927 1.01-1.486.609-.463 1.244-.977 1.244-2.056 0-1.511-1.276-2.241-2.673-2.241-1.267 0-2.655.59-2.75 2.286zm1.557 5.763c0 .533.425.927 1.01.927.609 0 1.028-.394 1.028-.927 0-.552-.42-.94-1.029-.94-.584 0-1.009.388-1.009.94z\"/>\n",
       "            </svg>\n",
       "            </td>\n",
       "            <td>python</td>\n",
       "            <td>34349</td>\n",
       "            <td>\n",
       "        <form action=/dsx-jupyter-lab-py38gpu/ibmdsxuser-1000331006/90b5a4a5-f05a-48cf-833e-33c63933d890/jupyter-lab-py38gpu-ccb422d1-7888-4440-b54b-51ca0457f821/proxy/34349/ target='_blank'>\n",
       "            <input type=\"submit\" value=\"Open app\" />\n",
       "        </form>\n",
       "        </td>\n",
       "        </tr>\n",
       "        \n",
       "        <tr>\n",
       "            <td>\n",
       "            <svg xmlns=\"http://www.w3.org/2000/svg\" height=\"20\" fill=\"currentColor\" class=\"bi bi-question-circle\" viewBox=\"0 0 16 16\">\n",
       "                <path d=\"M8 15A7 7 0 1 1 8 1a7 7 0 0 1 0 14zm0 1A8 8 0 1 0 8 0a8 8 0 0 0 0 16z\"/>\n",
       "                <path d=\"M5.255 5.786a.237.237 0 0 0 .241.247h.825c.138 0 .248-.113.266-.25.09-.656.54-1.134 1.342-1.134.686 0 1.314.343 1.314 1.168 0 .635-.374.927-.965 1.371-.673.489-1.206 1.06-1.168 1.987l.003.217a.25.25 0 0 0 .25.246h.811a.25.25 0 0 0 .25-.25v-.105c0-.718.273-.927 1.01-1.486.609-.463 1.244-.977 1.244-2.056 0-1.511-1.276-2.241-2.673-2.241-1.267 0-2.655.59-2.75 2.286zm1.557 5.763c0 .533.425.927 1.01.927.609 0 1.028-.394 1.028-.927 0-.552-.42-.94-1.029-.94-.584 0-1.009.388-1.009.94z\"/>\n",
       "            </svg>\n",
       "            </td>\n",
       "            <td>python</td>\n",
       "            <td>42533</td>\n",
       "            <td>\n",
       "        <form action=/dsx-jupyter-lab-py38gpu/ibmdsxuser-1000331006/90b5a4a5-f05a-48cf-833e-33c63933d890/jupyter-lab-py38gpu-ccb422d1-7888-4440-b54b-51ca0457f821/proxy/42533/ target='_blank'>\n",
       "            <input type=\"submit\" value=\"Open app\" />\n",
       "        </form>\n",
       "        </td>\n",
       "        </tr>\n",
       "        \n",
       "        <tr>\n",
       "            <td>\n",
       "            <svg xmlns=\"http://www.w3.org/2000/svg\" height=\"20\" fill=\"currentColor\" class=\"bi bi-question-circle\" viewBox=\"0 0 16 16\">\n",
       "                <path d=\"M8 15A7 7 0 1 1 8 1a7 7 0 0 1 0 14zm0 1A8 8 0 1 0 8 0a8 8 0 0 0 0 16z\"/>\n",
       "                <path d=\"M5.255 5.786a.237.237 0 0 0 .241.247h.825c.138 0 .248-.113.266-.25.09-.656.54-1.134 1.342-1.134.686 0 1.314.343 1.314 1.168 0 .635-.374.927-.965 1.371-.673.489-1.206 1.06-1.168 1.987l.003.217a.25.25 0 0 0 .25.246h.811a.25.25 0 0 0 .25-.25v-.105c0-.718.273-.927 1.01-1.486.609-.463 1.244-.977 1.244-2.056 0-1.511-1.276-2.241-2.673-2.241-1.267 0-2.655.59-2.75 2.286zm1.557 5.763c0 .533.425.927 1.01.927.609 0 1.028-.394 1.028-.927 0-.552-.42-.94-1.029-.94-.584 0-1.009.388-1.009.94z\"/>\n",
       "            </svg>\n",
       "            </td>\n",
       "            <td>python</td>\n",
       "            <td>55043</td>\n",
       "            <td>\n",
       "        <form action=/dsx-jupyter-lab-py38gpu/ibmdsxuser-1000331006/90b5a4a5-f05a-48cf-833e-33c63933d890/jupyter-lab-py38gpu-ccb422d1-7888-4440-b54b-51ca0457f821/proxy/55043/ target='_blank'>\n",
       "            <input type=\"submit\" value=\"Open app\" />\n",
       "        </form>\n",
       "        </td>\n",
       "        </tr>\n",
       "        \n",
       "        <tr>\n",
       "            <td>\n",
       "            <svg xmlns=\"http://www.w3.org/2000/svg\" height=\"20\" fill=\"currentColor\" class=\"bi bi-question-circle\" viewBox=\"0 0 16 16\">\n",
       "                <path d=\"M8 15A7 7 0 1 1 8 1a7 7 0 0 1 0 14zm0 1A8 8 0 1 0 8 0a8 8 0 0 0 0 16z\"/>\n",
       "                <path d=\"M5.255 5.786a.237.237 0 0 0 .241.247h.825c.138 0 .248-.113.266-.25.09-.656.54-1.134 1.342-1.134.686 0 1.314.343 1.314 1.168 0 .635-.374.927-.965 1.371-.673.489-1.206 1.06-1.168 1.987l.003.217a.25.25 0 0 0 .25.246h.811a.25.25 0 0 0 .25-.25v-.105c0-.718.273-.927 1.01-1.486.609-.463 1.244-.977 1.244-2.056 0-1.511-1.276-2.241-2.673-2.241-1.267 0-2.655.59-2.75 2.286zm1.557 5.763c0 .533.425.927 1.01.927.609 0 1.028-.394 1.028-.927 0-.552-.42-.94-1.029-.94-.584 0-1.009.388-1.009.94z\"/>\n",
       "            </svg>\n",
       "            </td>\n",
       "            <td>python</td>\n",
       "            <td>38795</td>\n",
       "            <td>\n",
       "        <form action=/dsx-jupyter-lab-py38gpu/ibmdsxuser-1000331006/90b5a4a5-f05a-48cf-833e-33c63933d890/jupyter-lab-py38gpu-ccb422d1-7888-4440-b54b-51ca0457f821/proxy/38795/ target='_blank'>\n",
       "            <input type=\"submit\" value=\"Open app\" />\n",
       "        </form>\n",
       "        </td>\n",
       "        </tr>\n",
       "        \n",
       "        <tr>\n",
       "            <td>\n",
       "            <svg xmlns=\"http://www.w3.org/2000/svg\" height=\"20\" fill=\"currentColor\" class=\"bi bi-question-circle\" viewBox=\"0 0 16 16\">\n",
       "                <path d=\"M8 15A7 7 0 1 1 8 1a7 7 0 0 1 0 14zm0 1A8 8 0 1 0 8 0a8 8 0 0 0 0 16z\"/>\n",
       "                <path d=\"M5.255 5.786a.237.237 0 0 0 .241.247h.825c.138 0 .248-.113.266-.25.09-.656.54-1.134 1.342-1.134.686 0 1.314.343 1.314 1.168 0 .635-.374.927-.965 1.371-.673.489-1.206 1.06-1.168 1.987l.003.217a.25.25 0 0 0 .25.246h.811a.25.25 0 0 0 .25-.25v-.105c0-.718.273-.927 1.01-1.486.609-.463 1.244-.977 1.244-2.056 0-1.511-1.276-2.241-2.673-2.241-1.267 0-2.655.59-2.75 2.286zm1.557 5.763c0 .533.425.927 1.01.927.609 0 1.028-.394 1.028-.927 0-.552-.42-.94-1.029-.94-.584 0-1.009.388-1.009.94z\"/>\n",
       "            </svg>\n",
       "            </td>\n",
       "            <td>python</td>\n",
       "            <td>33909</td>\n",
       "            <td>\n",
       "        <form action=/dsx-jupyter-lab-py38gpu/ibmdsxuser-1000331006/90b5a4a5-f05a-48cf-833e-33c63933d890/jupyter-lab-py38gpu-ccb422d1-7888-4440-b54b-51ca0457f821/proxy/33909/ target='_blank'>\n",
       "            <input type=\"submit\" value=\"Open app\" />\n",
       "        </form>\n",
       "        </td>\n",
       "        </tr>\n",
       "        \n",
       "        <tr>\n",
       "            <td>\n",
       "            <svg xmlns=\"http://www.w3.org/2000/svg\" height=\"20\" fill=\"currentColor\" class=\"bi bi-question-circle\" viewBox=\"0 0 16 16\">\n",
       "                <path d=\"M8 15A7 7 0 1 1 8 1a7 7 0 0 1 0 14zm0 1A8 8 0 1 0 8 0a8 8 0 0 0 0 16z\"/>\n",
       "                <path d=\"M5.255 5.786a.237.237 0 0 0 .241.247h.825c.138 0 .248-.113.266-.25.09-.656.54-1.134 1.342-1.134.686 0 1.314.343 1.314 1.168 0 .635-.374.927-.965 1.371-.673.489-1.206 1.06-1.168 1.987l.003.217a.25.25 0 0 0 .25.246h.811a.25.25 0 0 0 .25-.25v-.105c0-.718.273-.927 1.01-1.486.609-.463 1.244-.977 1.244-2.056 0-1.511-1.276-2.241-2.673-2.241-1.267 0-2.655.59-2.75 2.286zm1.557 5.763c0 .533.425.927 1.01.927.609 0 1.028-.394 1.028-.927 0-.552-.42-.94-1.029-.94-.584 0-1.009.388-1.009.94z\"/>\n",
       "            </svg>\n",
       "            </td>\n",
       "            <td>python</td>\n",
       "            <td>44229</td>\n",
       "            <td>\n",
       "        <form action=/dsx-jupyter-lab-py38gpu/ibmdsxuser-1000331006/90b5a4a5-f05a-48cf-833e-33c63933d890/jupyter-lab-py38gpu-ccb422d1-7888-4440-b54b-51ca0457f821/proxy/44229/ target='_blank'>\n",
       "            <input type=\"submit\" value=\"Open app\" />\n",
       "        </form>\n",
       "        </td>\n",
       "        </tr>\n",
       "        \n",
       "        <tr>\n",
       "            <td>\n",
       "            <svg xmlns=\"http://www.w3.org/2000/svg\" height=\"20\" fill=\"currentColor\" class=\"bi bi-question-circle\" viewBox=\"0 0 16 16\">\n",
       "                <path d=\"M8 15A7 7 0 1 1 8 1a7 7 0 0 1 0 14zm0 1A8 8 0 1 0 8 0a8 8 0 0 0 0 16z\"/>\n",
       "                <path d=\"M5.255 5.786a.237.237 0 0 0 .241.247h.825c.138 0 .248-.113.266-.25.09-.656.54-1.134 1.342-1.134.686 0 1.314.343 1.314 1.168 0 .635-.374.927-.965 1.371-.673.489-1.206 1.06-1.168 1.987l.003.217a.25.25 0 0 0 .25.246h.811a.25.25 0 0 0 .25-.25v-.105c0-.718.273-.927 1.01-1.486.609-.463 1.244-.977 1.244-2.056 0-1.511-1.276-2.241-2.673-2.241-1.267 0-2.655.59-2.75 2.286zm1.557 5.763c0 .533.425.927 1.01.927.609 0 1.028-.394 1.028-.927 0-.552-.42-.94-1.029-.94-.584 0-1.009.388-1.009.94z\"/>\n",
       "            </svg>\n",
       "            </td>\n",
       "            <td>python</td>\n",
       "            <td>8097</td>\n",
       "            <td>\n",
       "        <form action=/dsx-jupyter-lab-py38gpu/ibmdsxuser-1000331006/90b5a4a5-f05a-48cf-833e-33c63933d890/jupyter-lab-py38gpu-ccb422d1-7888-4440-b54b-51ca0457f821/proxy/8097/ target='_blank'>\n",
       "            <input type=\"submit\" value=\"Open app\" />\n",
       "        </form>\n",
       "        </td>\n",
       "        </tr>\n",
       "        \n",
       "        <tr>\n",
       "            <td>\n",
       "            <svg xmlns=\"http://www.w3.org/2000/svg\" height=\"20\" fill=\"currentColor\" class=\"bi bi-question-circle\" viewBox=\"0 0 16 16\">\n",
       "                <path d=\"M8 15A7 7 0 1 1 8 1a7 7 0 0 1 0 14zm0 1A8 8 0 1 0 8 0a8 8 0 0 0 0 16z\"/>\n",
       "                <path d=\"M5.255 5.786a.237.237 0 0 0 .241.247h.825c.138 0 .248-.113.266-.25.09-.656.54-1.134 1.342-1.134.686 0 1.314.343 1.314 1.168 0 .635-.374.927-.965 1.371-.673.489-1.206 1.06-1.168 1.987l.003.217a.25.25 0 0 0 .25.246h.811a.25.25 0 0 0 .25-.25v-.105c0-.718.273-.927 1.01-1.486.609-.463 1.244-.977 1.244-2.056 0-1.511-1.276-2.241-2.673-2.241-1.267 0-2.655.59-2.75 2.286zm1.557 5.763c0 .533.425.927 1.01.927.609 0 1.028-.394 1.028-.927 0-.552-.42-.94-1.029-.94-.584 0-1.009.388-1.009.94z\"/>\n",
       "            </svg>\n",
       "            </td>\n",
       "            <td>python</td>\n",
       "            <td>52143</td>\n",
       "            <td>\n",
       "        <form action=/dsx-jupyter-lab-py38gpu/ibmdsxuser-1000331006/90b5a4a5-f05a-48cf-833e-33c63933d890/jupyter-lab-py38gpu-ccb422d1-7888-4440-b54b-51ca0457f821/proxy/52143/ target='_blank'>\n",
       "            <input type=\"submit\" value=\"Open app\" />\n",
       "        </form>\n",
       "        </td>\n",
       "        </tr>\n",
       "        \n",
       "        <tr>\n",
       "            <td>\n",
       "            <svg xmlns=\"http://www.w3.org/2000/svg\" height=\"20\" fill=\"currentColor\" class=\"bi bi-question-circle\" viewBox=\"0 0 16 16\">\n",
       "                <path d=\"M8 15A7 7 0 1 1 8 1a7 7 0 0 1 0 14zm0 1A8 8 0 1 0 8 0a8 8 0 0 0 0 16z\"/>\n",
       "                <path d=\"M5.255 5.786a.237.237 0 0 0 .241.247h.825c.138 0 .248-.113.266-.25.09-.656.54-1.134 1.342-1.134.686 0 1.314.343 1.314 1.168 0 .635-.374.927-.965 1.371-.673.489-1.206 1.06-1.168 1.987l.003.217a.25.25 0 0 0 .25.246h.811a.25.25 0 0 0 .25-.25v-.105c0-.718.273-.927 1.01-1.486.609-.463 1.244-.977 1.244-2.056 0-1.511-1.276-2.241-2.673-2.241-1.267 0-2.655.59-2.75 2.286zm1.557 5.763c0 .533.425.927 1.01.927.609 0 1.028-.394 1.028-.927 0-.552-.42-.94-1.029-.94-.584 0-1.009.388-1.009.94z\"/>\n",
       "            </svg>\n",
       "            </td>\n",
       "            <td>python</td>\n",
       "            <td>57507</td>\n",
       "            <td>\n",
       "        <form action=/dsx-jupyter-lab-py38gpu/ibmdsxuser-1000331006/90b5a4a5-f05a-48cf-833e-33c63933d890/jupyter-lab-py38gpu-ccb422d1-7888-4440-b54b-51ca0457f821/proxy/57507/ target='_blank'>\n",
       "            <input type=\"submit\" value=\"Open app\" />\n",
       "        </form>\n",
       "        </td>\n",
       "        </tr>\n",
       "        \n",
       "        <tr>\n",
       "            <td>\n",
       "            <svg xmlns=\"http://www.w3.org/2000/svg\" height=\"20\" fill=\"currentColor\" class=\"bi bi-question-circle\" viewBox=\"0 0 16 16\">\n",
       "                <path d=\"M8 15A7 7 0 1 1 8 1a7 7 0 0 1 0 14zm0 1A8 8 0 1 0 8 0a8 8 0 0 0 0 16z\"/>\n",
       "                <path d=\"M5.255 5.786a.237.237 0 0 0 .241.247h.825c.138 0 .248-.113.266-.25.09-.656.54-1.134 1.342-1.134.686 0 1.314.343 1.314 1.168 0 .635-.374.927-.965 1.371-.673.489-1.206 1.06-1.168 1.987l.003.217a.25.25 0 0 0 .25.246h.811a.25.25 0 0 0 .25-.25v-.105c0-.718.273-.927 1.01-1.486.609-.463 1.244-.977 1.244-2.056 0-1.511-1.276-2.241-2.673-2.241-1.267 0-2.655.59-2.75 2.286zm1.557 5.763c0 .533.425.927 1.01.927.609 0 1.028-.394 1.028-.927 0-.552-.42-.94-1.029-.94-.584 0-1.009.388-1.009.94z\"/>\n",
       "            </svg>\n",
       "            </td>\n",
       "            <td>python</td>\n",
       "            <td>39393</td>\n",
       "            <td>\n",
       "        <form action=/dsx-jupyter-lab-py38gpu/ibmdsxuser-1000331006/90b5a4a5-f05a-48cf-833e-33c63933d890/jupyter-lab-py38gpu-ccb422d1-7888-4440-b54b-51ca0457f821/proxy/39393/ target='_blank'>\n",
       "            <input type=\"submit\" value=\"Open app\" />\n",
       "        </form>\n",
       "        </td>\n",
       "        </tr>\n",
       "        \n",
       "        <tr>\n",
       "            <td>\n",
       "            <svg xmlns=\"http://www.w3.org/2000/svg\" height=\"20\" fill=\"currentColor\" class=\"bi bi-question-circle\" viewBox=\"0 0 16 16\">\n",
       "                <path d=\"M8 15A7 7 0 1 1 8 1a7 7 0 0 1 0 14zm0 1A8 8 0 1 0 8 0a8 8 0 0 0 0 16z\"/>\n",
       "                <path d=\"M5.255 5.786a.237.237 0 0 0 .241.247h.825c.138 0 .248-.113.266-.25.09-.656.54-1.134 1.342-1.134.686 0 1.314.343 1.314 1.168 0 .635-.374.927-.965 1.371-.673.489-1.206 1.06-1.168 1.987l.003.217a.25.25 0 0 0 .25.246h.811a.25.25 0 0 0 .25-.25v-.105c0-.718.273-.927 1.01-1.486.609-.463 1.244-.977 1.244-2.056 0-1.511-1.276-2.241-2.673-2.241-1.267 0-2.655.59-2.75 2.286zm1.557 5.763c0 .533.425.927 1.01.927.609 0 1.028-.394 1.028-.927 0-.552-.42-.94-1.029-.94-.584 0-1.009.388-1.009.94z\"/>\n",
       "            </svg>\n",
       "            </td>\n",
       "            <td>python</td>\n",
       "            <td>42539</td>\n",
       "            <td>\n",
       "        <form action=/dsx-jupyter-lab-py38gpu/ibmdsxuser-1000331006/90b5a4a5-f05a-48cf-833e-33c63933d890/jupyter-lab-py38gpu-ccb422d1-7888-4440-b54b-51ca0457f821/proxy/42539/ target='_blank'>\n",
       "            <input type=\"submit\" value=\"Open app\" />\n",
       "        </form>\n",
       "        </td>\n",
       "        </tr>\n",
       "        </table>"
      ],
      "text/plain": [
       "<IPython.core.display.HTML object>"
      ]
     },
     "metadata": {},
     "output_type": "display_data"
    },
    {
     "data": {
      "text/html": [
       "<br><br>"
      ],
      "text/plain": [
       "<IPython.core.display.HTML object>"
      ]
     },
     "metadata": {},
     "output_type": "display_data"
    },
    {
     "data": {
      "text/html": [
       "<h3>Link builder</h3>"
      ],
      "text/plain": [
       "<IPython.core.display.HTML object>"
      ]
     },
     "metadata": {},
     "output_type": "display_data"
    },
    {
     "data": {
      "text/html": [
       "Once your application is running, click on the link generated below.<br>"
      ],
      "text/plain": [
       "<IPython.core.display.HTML object>"
      ]
     },
     "metadata": {},
     "output_type": "display_data"
    },
    {
     "data": {
      "application/vnd.jupyter.widget-view+json": {
       "model_id": "c639950860e040ffb34c82545eb38941",
       "version_major": 2,
       "version_minor": 0
      },
      "text/plain": [
       "Dropdown(description='Application type', options=(('Plotly Dash (port 8050)', 8050), ('Streamlit (port 8501)',…"
      ]
     },
     "metadata": {},
     "output_type": "display_data"
    },
    {
     "data": {
      "application/vnd.jupyter.widget-view+json": {
       "model_id": "4c80181e2ee14dd1b9a42b1f5a25263e",
       "version_major": 2,
       "version_minor": 0
      },
      "text/plain": [
       "interactive(children=(BoundedIntText(value=8050, description='Port where application is exposed', max=9999, st…"
      ]
     },
     "metadata": {},
     "output_type": "display_data"
    }
   ],
   "source": [
    "display_link()"
   ]
  },
  {
   "cell_type": "code",
   "execution_count": null,
   "metadata": {
    "id": "a7e9d133-80c1-4acc-b9ff-51fea652482a"
   },
   "outputs": [],
   "source": []
  }
 ],
 "metadata": {
  "kernelspec": {
   "display_name": "Python 3.8 + GPU with applications",
   "language": "python",
   "name": "python3"
  },
  "language_info": {
   "codemirror_mode": {
    "name": "ipython",
    "version": 3
   },
   "file_extension": ".py",
   "mimetype": "text/x-python",
   "name": "python",
   "nbconvert_exporter": "python",
   "pygments_lexer": "ipython3",
   "version": "3.8.11"
  }
 },
 "nbformat": 4,
 "nbformat_minor": 4
}
