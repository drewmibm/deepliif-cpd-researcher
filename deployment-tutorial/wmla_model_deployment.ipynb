{
 "cells": [
  {
   "cell_type": "markdown",
   "id": "dated-conclusion",
   "metadata": {
    "id": "f3dbd92a-d383-4ee4-9e6a-a3e1b442f3ab"
   },
   "source": [
    "# WML-A Model Deployment via CLI\n",
    "Offical examples can be found here: https://wmla-console-cpd-wmla.apps.cpd.mskcc.org/ui/#/cliTools"
   ]
  },
  {
   "cell_type": "code",
   "execution_count": 29,
   "id": "continuing-desktop",
   "metadata": {
    "id": "5943c35e-1e9e-40dd-ac51-7d580805d5b8",
    "tags": []
   },
   "outputs": [
    {
     "name": "stdout",
     "output_type": "stream",
     "text": [
      "env: DIR=/userfs/deployment-tutorial\n",
      "env: HOST=wmla-console-cpd-wmla.apps.cpd.mskcc.org\n",
      "env: REST_SERVER=wmla-console-cpd-wmla.apps.cpd.mskcc.org/dlim/v1/\n",
      "env: dlim=../wmla-utils/dlicmd.py\n"
     ]
    }
   ],
   "source": [
    "%env DIR=/userfs/deployment-tutorial\n",
    "%env HOST=wmla-console-cpd-wmla.apps.cpd.mskcc.org\n",
    "%env REST_SERVER=wmla-console-cpd-wmla.apps.cpd.mskcc.org/dlim/v1/\n",
    "\n",
    "%env dlim=../wmla-utils/dlicmd.py"
   ]
  },
  {
   "cell_type": "code",
   "execution_count": 21,
   "id": "viral-croatia",
   "metadata": {
    "id": "e135254f-0ed8-435b-a8cb-7b8b500048f0",
    "tags": []
   },
   "outputs": [],
   "source": [
    "!chmod +x $dlim"
   ]
  },
  {
   "cell_type": "markdown",
   "id": "bizarre-sussex",
   "metadata": {
    "id": "6e1bf43a-591e-40e7-aa41-a60949052e40"
   },
   "source": [
    "## Stage and deploy model\n",
    "Model needs to be staged to the WML assets space and then deployed to WMLA.  The following command needs to be run in a terminal session"
   ]
  },
  {
   "cell_type": "code",
   "execution_count": 22,
   "id": "secret-warren",
   "metadata": {
    "id": "78f59c90-0bf0-4941-aef4-fabc7c471ed3"
   },
   "outputs": [
    {
     "name": "stdout",
     "output_type": "stream",
     "text": [
      "env: DIR_submission=/userfs/deployment-tutorial/deployment_submission\n",
      "env: file_kernel=kernel.py\n"
     ]
    }
   ],
   "source": [
    "%env DIR_submission=/userfs/deployment-tutorial/deployment_submission\n",
    "%env file_kernel=kernel.py\n",
    "\n",
    "!rm -rf $DIR_submission\n",
    "!mkdir -p $DIR_submission\n",
    "\n",
    "!cp /userfs/training-tutorial/cifar-visdom/model/model.pt $DIR_submission\n",
    "!cp $DIR/kernel.py $DIR_submission\n",
    "!cp $DIR/model.json $DIR_submission\n",
    "!cp $DIR/README.md $DIR_submission"
   ]
  },
  {
   "cell_type": "code",
   "execution_count": 30,
   "id": "impressive-sheet",
   "metadata": {
    "id": "8850bfe1-e8ee-4eb1-bc6b-986aaf9d6499"
   },
   "outputs": [
    {
     "name": "stdout",
     "output_type": "stream",
     "text": [
      "Traceback (most recent call last):\n",
      "  File \"../wmla-utils/dlicmd.py\", line 2860, in <module>\n",
      "    sys.exit(main())\n",
      "  File \"../wmla-utils/dlicmd.py\", line 2779, in main\n",
      "    get_info_from_dli_rest()\n",
      "  File \"../wmla-utils/dlicmd.py\", line 878, in get_info_from_dli_rest\n",
      "    flags.dli_rest_url = \"https://\" + flags.rest_host + get_dlirest_port() + DLI_REST\n",
      "TypeError: can only concatenate str (not \"NoneType\") to str\n"
     ]
    }
   ],
   "source": [
    "!$dlim model deploy -p $DIR_submission --rest-server $REST_SERVER --rest-port -1 --jwt-token $USER_ACCESS_TOKEN"
   ]
  },
  {
   "cell_type": "code",
   "execution_count": null,
   "id": "understanding-variance",
   "metadata": {
    "id": "088edd24-32f5-43be-b2d9-cd05eed5ef21"
   },
   "outputs": [],
   "source": []
  },
  {
   "cell_type": "code",
   "execution_count": null,
   "id": "general-occurrence",
   "metadata": {
    "id": "bde9f625-4775-4c68-a6f4-56fcb903ffc3"
   },
   "outputs": [],
   "source": []
  },
  {
   "cell_type": "code",
   "execution_count": null,
   "id": "maritime-count",
   "metadata": {
    "id": "dfea07f6-afe7-4c7e-8a4d-939dcdba6e3e"
   },
   "outputs": [],
   "source": []
  },
  {
   "cell_type": "code",
   "execution_count": null,
   "id": "clean-external",
   "metadata": {
    "id": "8e3bd6e2-0da5-4e90-aea5-75761ceb4dc4"
   },
   "outputs": [],
   "source": []
  },
  {
   "cell_type": "code",
   "execution_count": null,
   "id": "progressive-transmission",
   "metadata": {
    "id": "2b43a6b5-d12d-4561-be97-0661e05e316a"
   },
   "outputs": [],
   "source": []
  },
  {
   "cell_type": "code",
   "execution_count": null,
   "id": "sunset-thursday",
   "metadata": {
    "id": "2c74958d-ad53-4e0c-8d97-b52d6bb28200",
    "tags": []
   },
   "outputs": [],
   "source": [
    "!python cli_mlops.py prepare stage --path-yml deployment_metadata_cli_example.yml --path-model /mnts/AdditionalDeepLIIFVolume/deepliif-ws-output/Test_Model_wendy_ws_serialized3 --path-dependency /userfs/wmla-deployment/edi-deployment-dirs/deepliif-base -f"
   ]
  },
  {
   "cell_type": "code",
   "execution_count": null,
   "id": "occupational-masters",
   "metadata": {
    "id": "9f926f43-58e1-4e73-9d07-c0cf3b84de3f",
    "tags": []
   },
   "outputs": [],
   "source": [
    "!python cli_mlops.py deploy stop --name deepliif-test"
   ]
  },
  {
   "cell_type": "code",
   "execution_count": null,
   "id": "covered-thanksgiving",
   "metadata": {
    "id": "4859d730-0fcd-44d9-92c3-39a96f041a5b",
    "tags": []
   },
   "outputs": [],
   "source": [
    "!python cli_mlops.py deploy delete --name deepliif-test"
   ]
  },
  {
   "cell_type": "code",
   "execution_count": null,
   "id": "headed-bubble",
   "metadata": {
    "id": "d1289162-2a87-4271-8740-a4dc0c88b8d8",
    "tags": []
   },
   "outputs": [],
   "source": [
    "!python cli_mlops.py deploy create --model-asset-id 8ec4ed52-a390-4fa1-9114-a48ffd437bc8  --cpd-username *** --cpd-api-key *** --kernel-filename kernel.py --name deepliif-test --dlim-path /home/wsuser/bin --custom-arg CPD_USERNAME=*** --custom-arg CPD_API_KEY=*** --custom-arg VOLUME_DISPLAY_NAME=AdditionalDeepLIIFVolume"
   ]
  },
  {
   "cell_type": "markdown",
   "id": "heard-resource",
   "metadata": {
    "id": "df06565e-1cfb-4982-96de-4bb7ca3e3a99",
    "tags": []
   },
   "source": [
    "## Image on volume (recommended for large images)"
   ]
  },
  {
   "cell_type": "code",
   "execution_count": null,
   "id": "choice-reflection",
   "metadata": {
    "id": "2c1a96a6-1531-4a54-805e-187234186d08",
    "tags": []
   },
   "outputs": [],
   "source": [
    "headers = {'Authorization': f'Bearer {os.getenv(\"USER_ACCESS_TOKEN\")}'}\n",
    "data = {\n",
    "        'img_path_on_pvc':'edi_deployments/sample_input_images/22_2_real_A.png',\n",
    "        'save_path_on_pvc':'edi_inference/output_images',\n",
    "        'tile_size': 512,\n",
    "        'images_to_return': 'seg_masks',\n",
    "        }"
   ]
  },
  {
   "cell_type": "code",
   "execution_count": null,
   "id": "violent-engine",
   "metadata": {
    "id": "afe66859-f92d-48a9-9c1b-f4d3712279dc",
    "tags": []
   },
   "outputs": [],
   "source": [
    "r = requests.post(DEPLOYMENT_URL, headers=headers,\n",
    "                  json = data, verify = False)\n",
    "r.status_code"
   ]
  },
  {
   "cell_type": "code",
   "execution_count": null,
   "id": "racial-atlantic",
   "metadata": {
    "id": "e15b2c10-48ec-44d2-8b21-8f6b57944d0a",
    "tags": []
   },
   "outputs": [],
   "source": [
    "r.json()"
   ]
  },
  {
   "cell_type": "markdown",
   "id": "acquired-preparation",
   "metadata": {
    "id": "207200bf-19be-4612-80ab-91288be266b8"
   },
   "source": [
    "## Send and return serialized image in request"
   ]
  },
  {
   "cell_type": "code",
   "execution_count": null,
   "id": "vocational-modification",
   "metadata": {
    "id": "e6e9491c-a89d-4cc2-8af9-22d70eb67c92",
    "tags": []
   },
   "outputs": [],
   "source": [
    "local_image = Image.open(\"/mnts/DeepLIIFData/edi_deployments/sample_input_images/22_2_real_A.png\")"
   ]
  },
  {
   "cell_type": "code",
   "execution_count": null,
   "id": "dying-parent",
   "metadata": {
    "id": "ff0e9ba2-bc81-44ed-8705-a3fd95ad5eea",
    "tags": []
   },
   "outputs": [],
   "source": [
    "headers = {'Authorization': f'Bearer {os.getenv(\"USER_ACCESS_TOKEN\")}'}\n",
    "data = {\n",
    "        'local_input_image': edi.serialize_image(local_image),\n",
    "        'tile_size': 512,\n",
    "        'images_to_return': 'all',\n",
    "        }"
   ]
  },
  {
   "cell_type": "code",
   "execution_count": null,
   "id": "effective-programming",
   "metadata": {
    "id": "e375ef8a-76b2-4c5d-bd44-e8ec80e09e30",
    "tags": []
   },
   "outputs": [],
   "source": [
    "r2 = requests.post(DEPLOYMENT_URL, headers=headers,\n",
    "                  json = data, verify = False)\n",
    "r2.status_code"
   ]
  },
  {
   "cell_type": "code",
   "execution_count": null,
   "id": "supreme-gross",
   "metadata": {
    "id": "24c0013f-aa93-481e-9abf-f9bf1bd75c5a",
    "tags": []
   },
   "outputs": [],
   "source": [
    "output = r2.json()"
   ]
  },
  {
   "cell_type": "code",
   "execution_count": null,
   "id": "connected-harassment",
   "metadata": {
    "id": "4b1b5104-eee7-485f-8944-404cd9b7900b",
    "tags": []
   },
   "outputs": [],
   "source": [
    "output['images'].keys()"
   ]
  },
  {
   "cell_type": "code",
   "execution_count": null,
   "id": "delayed-permission",
   "metadata": {
    "id": "c0eb7280-17f9-4fa9-8a67-91ce253522b6",
    "tags": []
   },
   "outputs": [],
   "source": [
    "output['msg']"
   ]
  },
  {
   "cell_type": "code",
   "execution_count": null,
   "id": "authorized-message",
   "metadata": {
    "id": "2ead2198-6c85-4d4f-b4b4-64bafac73932",
    "tags": []
   },
   "outputs": [],
   "source": [
    "Image.open(edi.deserialize_image(output['images']['local_SegOverlaid.png']))"
   ]
  }
 ],
 "metadata": {
  "kernelspec": {
   "display_name": "Python 3.8 + GPU with applications",
   "language": "python",
   "name": "python3"
  },
  "language_info": {
   "codemirror_mode": {
    "name": "ipython",
    "version": 3
   },
   "file_extension": ".py",
   "mimetype": "text/x-python",
   "name": "python",
   "nbconvert_exporter": "python",
   "pygments_lexer": "ipython3",
   "version": "3.8.11"
  }
 },
 "nbformat": 4,
 "nbformat_minor": 5
}
