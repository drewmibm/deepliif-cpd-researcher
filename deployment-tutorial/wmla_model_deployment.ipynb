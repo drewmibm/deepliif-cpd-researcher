{
 "cells": [
  {
   "cell_type": "markdown",
   "id": "close-preparation",
   "metadata": {
    "id": "f3dbd92a-d383-4ee4-9e6a-a3e1b442f3ab"
   },
   "source": [
    "# WML-A Model Deployment via CLI\n",
    "Offical examples can be found here: https://wmla-console-cpd-wmla.apps.cpd.mskcc.org/ui/#/cliTools"
   ]
  },
  {
   "cell_type": "code",
   "execution_count": 1,
   "id": "extreme-biodiversity",
   "metadata": {
    "id": "5943c35e-1e9e-40dd-ac51-7d580805d5b8",
    "tags": []
   },
   "outputs": [
    {
     "name": "stdout",
     "output_type": "stream",
     "text": [
      "env: DIR=/userfs/deployment-tutorial\n",
      "env: REST_SERVER=https://wmla-console-cpd-wmla.apps.cpd.mskcc.org/dlim/v1/\n",
      "env: dlim=../wmla-utils/dlim\n"
     ]
    }
   ],
   "source": [
    "%env DIR=/userfs/deployment-tutorial\n",
    "%env REST_SERVER=https://wmla-console-cpd-wmla.apps.cpd.mskcc.org/dlim/v1/\n",
    "\n",
    "%env dlim=../wmla-utils/dlim"
   ]
  },
  {
   "cell_type": "code",
   "execution_count": 2,
   "id": "fatty-jefferson",
   "metadata": {
    "id": "305c68bc-beaf-4283-9e30-b039334dfdc9",
    "tags": []
   },
   "outputs": [],
   "source": [
    "import os\n",
    "os.environ['auth'] = f\"--rest-server {os.environ['REST_SERVER']} --jwt-token {os.environ['USER_ACCESS_TOKEN']}\""
   ]
  },
  {
   "cell_type": "markdown",
   "id": "realistic-finland",
   "metadata": {
    "id": "6e1bf43a-591e-40e7-aa41-a60949052e40"
   },
   "source": [
    "## 1. Create Model Deployment\n",
    "Model / deployment name is specified in `model.json`. Whitesapce not allowed."
   ]
  },
  {
   "cell_type": "code",
   "execution_count": 3,
   "id": "knowing-study",
   "metadata": {
    "id": "78f59c90-0bf0-4941-aef4-fabc7c471ed3",
    "tags": []
   },
   "outputs": [
    {
     "name": "stdout",
     "output_type": "stream",
     "text": [
      "env: DIR_submission=/userfs/deployment-tutorial/deployment_submission\n",
      "env: file_kernel=kernel.py\n"
     ]
    }
   ],
   "source": [
    "%env DIR_submission=/userfs/deployment-tutorial/deployment_submission\n",
    "%env file_kernel=kernel.py\n",
    "\n",
    "!rm -rf $DIR_submission\n",
    "!mkdir -p $DIR_submission\n",
    "\n",
    "!cp /userfs/training-tutorial/cifar-visdom/model/model.pt $DIR_submission\n",
    "!cp $DIR/kernel.py $DIR_submission\n",
    "!cp $DIR/model.json $DIR_submission\n",
    "!cp $DIR/README.md $DIR_submission"
   ]
  },
  {
   "cell_type": "code",
   "execution_count": 4,
   "id": "turned-gather",
   "metadata": {
    "id": "8850bfe1-e8ee-4eb1-bc6b-986aaf9d6499",
    "tags": []
   },
   "outputs": [
    {
     "name": "stdout",
     "output_type": "stream",
     "text": [
      "Uploading...\n",
      "</userfs/deployment-tutorial/deployment_submission/README.md> uploaded to server.\n",
      "</userfs/deployment-tutorial/deployment_submission/kernel.py> uploaded to server.\n",
      "</userfs/deployment-tutorial/deployment_submission/model.json> uploaded to server.\n",
      "</userfs/deployment-tutorial/deployment_submission/model.pt> uploaded to server.\n",
      "Registering...\n",
      "Model <cifar-model-wendy> is deployed successfully\n"
     ]
    }
   ],
   "source": [
    "!$dlim model deploy -p $DIR_submission $auth -f"
   ]
  },
  {
   "cell_type": "markdown",
   "id": "adaptive-forge",
   "metadata": {
    "id": "6b274042-6670-4172-ad6d-623a6abb363a"
   },
   "source": [
    "A newly created deployment is not in \"active\" status."
   ]
  },
  {
   "cell_type": "code",
   "execution_count": 5,
   "id": "purple-debut",
   "metadata": {
    "id": "2bb05d64-3be7-46a3-96e0-8a19db15232b",
    "tags": []
   },
   "outputs": [
    {
     "name": "stdout",
     "output_type": "stream",
     "text": [
      "NAME                 REST URI\n",
      "cifar-model-wendy    -\n",
      "deepliif-wendy-test  -\n"
     ]
    }
   ],
   "source": [
    "!$dlim model list $auth"
   ]
  },
  {
   "cell_type": "code",
   "execution_count": 6,
   "id": "protected-jurisdiction",
   "metadata": {
    "id": "0966bcd5-0703-44b8-9d5f-d0a241cb3184",
    "tags": []
   },
   "outputs": [
    {
     "name": "stdout",
     "output_type": "stream",
     "text": [
      "env: model_name=cifar-model-wendy\n"
     ]
    }
   ],
   "source": [
    "%env model_name=cifar-model-wendy"
   ]
  },
  {
   "cell_type": "markdown",
   "id": "republican-pickup",
   "metadata": {
    "id": "b5f1ab14-a4a6-4d9a-97c6-c9a5faf401dc",
    "tags": []
   },
   "source": [
    "## 2. Modify Configurations\n",
    "\n",
    "Some configurations can **only** be specified or modified after the deployment gets created. \n",
    "\n",
    "These configurations are flexible and changeable to an existing deployment, meaning that you can stop a deployment, change such config, activate the deployment again, and this new setting will be effective immediately, without the need to do a re-deployment all over again.\n",
    "\n",
    "One example is resource usage.\n",
    "\n",
    "A full list of configurable parameters in this category can be found in this doc page: https://www.ibm.com/docs/en/wmla/2.3?topic=inference-edit-service"
   ]
  },
  {
   "cell_type": "code",
   "execution_count": 7,
   "id": "historic-wound",
   "metadata": {
    "id": "f8160450-e814-41b9-b11b-7bde2f197ac3",
    "tags": []
   },
   "outputs": [],
   "source": [
    "!$dlim model viewprofile $model_name -j $auth > model_profile.json"
   ]
  },
  {
   "cell_type": "code",
   "execution_count": 8,
   "id": "alive-leonard",
   "metadata": {
    "id": "7f4eb1ae-771e-4d2e-9753-fc6be2141205",
    "tags": []
   },
   "outputs": [
    {
     "data": {
      "text/plain": [
       "{'schema_version': '1.2',\n",
       " 'type': 'inference',\n",
       " 'name': 'cifar-model-wendy',\n",
       " 'create_time': 'Wed May  4 17:16:08 2022 GMT',\n",
       " 'last_update_time': 'Wed May  4 17:16:08 2022 GMT',\n",
       " 'replica': 1,\n",
       " 'policy': {'name': 'capacity',\n",
       "  'schedule_interval': 3,\n",
       "  'kernel_min': 1,\n",
       "  'kernel_max': 100,\n",
       "  'kernel_delay_release_time': 60,\n",
       "  'task_execution_timeout': 60,\n",
       "  'task_batch_size': 1,\n",
       "  'task_pipe_size': 1,\n",
       "  'task_parallel_size': 1,\n",
       "  'stream_number_per_group': 0,\n",
       "  'stream_discard_slow_tasks': True},\n",
       " 'security': {'ssl': {'enable': True,\n",
       "   'server_crt': '${REDHARE_TOP}/security/tls.crt',\n",
       "   'server_key': '${REDHARE_TOP}/security/tls.key'}},\n",
       " 'resource_allocation': {'service': {'type': 'k8s',\n",
       "   'namespace': '',\n",
       "   'image_name': '',\n",
       "   'node_selector': ''},\n",
       "  'kernel': {'type': 'msd',\n",
       "   'namespace': '',\n",
       "   'image_name': '',\n",
       "   'resource_plan': 'sample-project/inference',\n",
       "   'resources': 'ncpus=0.5,ncpus_limit=2,mem=1024,mem_limit=4096',\n",
       "   'accelerator_resources': '',\n",
       "   'gpu_pack_id': '',\n",
       "   'node_selector': '',\n",
       "   'scheduler': ''}},\n",
       " 'kernel': {'working_directory': '${REDHARE_TOP}/work',\n",
       "  'connection_timeout': 90,\n",
       "  'log_directory': '${REDHARE_TOP}/logs',\n",
       "  'run_as': '',\n",
       "  'umask': '022',\n",
       "  'gpu': 'no',\n",
       "  'envs': [{'name': 'DLIM_MK_LOG_LEVEL', 'value': 'INFO'}]}}"
      ]
     },
     "execution_count": 8,
     "metadata": {},
     "output_type": "execute_result"
    }
   ],
   "source": [
    "import json\n",
    "\n",
    "profile = json.load(open('model_profile.json'))\n",
    "profile"
   ]
  },
  {
   "cell_type": "code",
   "execution_count": 9,
   "id": "accompanied-there",
   "metadata": {
    "id": "26d483e1-c5c2-461b-bb3a-a0f9792069f5",
    "tags": []
   },
   "outputs": [],
   "source": [
    "profile['kernel']['gpu'] = 'exclusive'"
   ]
  },
  {
   "cell_type": "code",
   "execution_count": 10,
   "id": "informed-hamburg",
   "metadata": {
    "id": "153d9125-a205-4853-a668-8523452f237d",
    "tags": []
   },
   "outputs": [],
   "source": [
    "with open('model_profile.json','w') as f:\n",
    "    json.dump(profile, f)"
   ]
  },
  {
   "cell_type": "code",
   "execution_count": 11,
   "id": "provincial-milwaukee",
   "metadata": {
    "id": "93a4c585-c674-4898-ab12-4187bfdc39df",
    "tags": []
   },
   "outputs": [
    {
     "name": "stdout",
     "output_type": "stream",
     "text": [
      "Model is updated successfully\n"
     ]
    }
   ],
   "source": [
    "!$dlim model updateprofile $model_name -f model_profile.json $auth"
   ]
  },
  {
   "cell_type": "markdown",
   "id": "specified-brazilian",
   "metadata": {
    "id": "d653f9f8-fdf6-40e4-b76c-0148e7bfe070"
   },
   "source": [
    "## 3. Start Deployment"
   ]
  },
  {
   "cell_type": "code",
   "execution_count": 12,
   "id": "acquired-repair",
   "metadata": {
    "id": "382340fa-7a0a-4356-addd-a49d6ba4ed8f",
    "tags": []
   },
   "outputs": [
    {
     "name": "stdout",
     "output_type": "stream",
     "text": [
      "Starting model \"cifar-model-wendy\", run \"dlim model view cifar-model-wendy -s\" to ensure startup.\n"
     ]
    }
   ],
   "source": [
    "!$dlim model start $model_name $auth"
   ]
  },
  {
   "cell_type": "code",
   "execution_count": 15,
   "id": "structured-rolling",
   "metadata": {
    "id": "9feaa2f2-059e-4751-a161-3893442e1984",
    "tags": []
   },
   "outputs": [
    {
     "name": "stdout",
     "output_type": "stream",
     "text": [
      "Name:\t\tcifar-model-wendy\n",
      "Tag:\t\t-\n",
      "Model path:\t/opt/wml-edi/repo/cifar-model-wendy/cifar-model-wendy-20220504-171607\n",
      "Size:\t\t248.15KB\n",
      "Weight path:\t./\n",
      "Runtime:\tdlipy3\n",
      "Kernel path:\tkernel.py\n",
      "Creator:\twangw6\n",
      "Create time:\tWed May  4 17:16:08 UTC 2022\n",
      "Update time:\tWed May  4 17:16:08 UTC 2022\n",
      "REST URI:\thttps://wmla-inference-cpd-wmla.apps.cpd.mskcc.org/dlim/v1/inference/cifar-model-wendy\n",
      "Attributes:\tNo attribute defined\n",
      "Environments:\tNo environment variable defined\n",
      "Schema version:\t1\n"
     ]
    }
   ],
   "source": [
    "!$dlim model view $model_name $auth"
   ]
  },
  {
   "cell_type": "code",
   "execution_count": 16,
   "id": "removable-faith",
   "metadata": {
    "id": "b9511fb6-100d-492f-84da-a77583cbc227",
    "tags": []
   },
   "outputs": [
    {
     "name": "stdout",
     "output_type": "stream",
     "text": [
      "Name:             cifar-model-wendy\n",
      "State:            Started\n",
      "Serving replica:  1\n",
      "============================================================\n",
      "Serving service ID:   8c077629-5355-41de-80a6-f55239f540ad\n",
      "Service JobID:        edi-cifar-model-wendy-c46d8f7c9-w4w2x\n",
      "GPU Mode:             exclusive\n",
      "Served clients:       0\n",
      "Pending requests:     0\n",
      "Requests per second:  0.00\n",
      "Data per second:      0.00\n",
      "Kernel started:       0\n"
     ]
    }
   ],
   "source": [
    "!$dlim model view $model_name -s $auth"
   ]
  },
  {
   "cell_type": "markdown",
   "id": "assisted-empire",
   "metadata": {
    "id": "f3c60211-0154-4857-85eb-5d546b4b4f3a"
   },
   "source": [
    "### Test Deployment"
   ]
  },
  {
   "cell_type": "code",
   "execution_count": 17,
   "id": "starting-virus",
   "metadata": {
    "id": "09190815-df34-4eb9-8a71-9834095f7f3f",
    "tags": []
   },
   "outputs": [],
   "source": [
    "from PIL import Image\n",
    "from io import BytesIO\n",
    "import base64\n",
    "\n",
    "img = Image.open('camion_s_000148.png')\n",
    "\n",
    "buffer = BytesIO()\n",
    "img.save(buffer, 'PNG')\n",
    "\n",
    "img_bytes = base64.b64encode(buffer.getvalue()).decode('utf-8')"
   ]
  },
  {
   "cell_type": "code",
   "execution_count": 18,
   "id": "blond-inspection",
   "metadata": {
    "id": "8f39e0eb-ba9c-4786-b653-8d32efc85ad0",
    "tags": []
   },
   "outputs": [
    {
     "data": {
      "text/plain": [
       "'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'"
      ]
     },
     "execution_count": 18,
     "metadata": {},
     "output_type": "execute_result"
    }
   ],
   "source": [
    "img_bytes"
   ]
  },
  {
   "cell_type": "code",
   "execution_count": 19,
   "id": "activated-military",
   "metadata": {
    "id": "60101dfc-29ed-4273-8a0c-6432117cbbe2",
    "tags": []
   },
   "outputs": [
    {
     "name": "stderr",
     "output_type": "stream",
     "text": [
      "/opt/conda/envs/Python-3.8-main/lib/python3.8/site-packages/urllib3/connectionpool.py:1013: InsecureRequestWarning: Unverified HTTPS request is being made to host 'wmla-inference-cpd-wmla.apps.cpd.mskcc.org'. Adding certificate verification is strongly advised. See: https://urllib3.readthedocs.io/en/1.26.x/advanced-usage.html#ssl-warnings\n",
      "  warnings.warn(\n"
     ]
    },
    {
     "data": {
      "text/plain": [
       "<Response [200]>"
      ]
     },
     "execution_count": 19,
     "metadata": {},
     "output_type": "execute_result"
    }
   ],
   "source": [
    "import requests\n",
    "\n",
    "url = 'https://wmla-inference-cpd-wmla.apps.cpd.mskcc.org/dlim/v1/inference/cifar-model-wendy'\n",
    "headers = {'Authorization': 'Bearer '  + os.environ['USER_ACCESS_TOKEN']}\n",
    "\n",
    "res = requests.post(url=url, headers=headers, json={'img':img_bytes}, verify=False)\n",
    "res"
   ]
  },
  {
   "cell_type": "code",
   "execution_count": 20,
   "id": "incoming-speech",
   "metadata": {
    "id": "c7562145-11f5-4f35-a799-ae5d109348d2",
    "tags": []
   },
   "outputs": [
    {
     "data": {
      "text/plain": [
       "'{\"pred_class\": 0}'"
      ]
     },
     "execution_count": 20,
     "metadata": {},
     "output_type": "execute_result"
    }
   ],
   "source": [
    "res.text"
   ]
  },
  {
   "cell_type": "markdown",
   "id": "minute-tokyo",
   "metadata": {
    "id": "95dd9fc8-8b33-485f-9687-951e5b817554",
    "tags": []
   },
   "source": [
    "## 4. Stop Deployment\n",
    "You need to stop a deployment when\n",
    "- you want to change configurable parameters for the existing deployment, or\n",
    "- you want to delete this deployment"
   ]
  },
  {
   "cell_type": "code",
   "execution_count": 21,
   "id": "photographic-design",
   "metadata": {
    "id": "7748dcb8-fb09-47bf-88ec-8eaaae635b25",
    "tags": []
   },
   "outputs": [
    {
     "name": "stdout",
     "output_type": "stream",
     "text": [
      "Stopping model \"cifar-model-wendy\", run \"dlim model view cifar-model-wendy -s\" to ensure stop.\n"
     ]
    }
   ],
   "source": [
    "!$dlim model stop $model_name $auth -f"
   ]
  },
  {
   "cell_type": "markdown",
   "id": "attractive-intention",
   "metadata": {
    "id": "088edd24-32f5-43be-b2d9-cd05eed5ef21",
    "tags": []
   },
   "source": [
    "## 5. Remove Deployment"
   ]
  },
  {
   "cell_type": "code",
   "execution_count": 24,
   "id": "improving-motorcycle",
   "metadata": {
    "id": "bde9f625-4775-4c68-a6f4-56fcb903ffc3",
    "tags": []
   },
   "outputs": [
    {
     "name": "stdout",
     "output_type": "stream",
     "text": [
      "Undeployed model \"cifar-model-wendy\", run \"dlim model list\" to ensure deletion.\n"
     ]
    }
   ],
   "source": [
    "!$dlim model undeploy $model_name $auth -f"
   ]
  },
  {
   "cell_type": "code",
   "execution_count": 25,
   "id": "valid-prime",
   "metadata": {
    "id": "dfea07f6-afe7-4c7e-8a4d-939dcdba6e3e",
    "tags": []
   },
   "outputs": [
    {
     "name": "stdout",
     "output_type": "stream",
     "text": [
      "NAME                 REST URI\n",
      "deepliif-wendy-test  -\n"
     ]
    }
   ],
   "source": [
    "!$dlim model list $auth"
   ]
  }
 ],
 "metadata": {
  "kernelspec": {
   "display_name": "Python 3.8 with applications",
   "language": "python",
   "name": "python3"
  },
  "language_info": {
   "codemirror_mode": {
    "name": "ipython",
    "version": 3
   },
   "file_extension": ".py",
   "mimetype": "text/x-python",
   "name": "python",
   "nbconvert_exporter": "python",
   "pygments_lexer": "ipython3",
   "version": "3.8.11"
  }
 },
 "nbformat": 4,
 "nbformat_minor": 5
}
