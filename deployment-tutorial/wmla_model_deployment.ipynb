{
 "cells": [
  {
   "cell_type": "markdown",
   "id": "educated-commander",
   "metadata": {
    "id": "f3dbd92a-d383-4ee4-9e6a-a3e1b442f3ab"
   },
   "source": [
    "# WML-A Model Deployment via CLI\n",
    "Offical examples can be found here: https://wmla-console-cpd-wmla.apps.cpd.mskcc.org/ui/#/cliTools"
   ]
  },
  {
   "cell_type": "code",
   "execution_count": 1,
   "id": "substantial-crazy",
   "metadata": {
    "id": "5943c35e-1e9e-40dd-ac51-7d580805d5b8",
    "tags": []
   },
   "outputs": [
    {
     "name": "stdout",
     "output_type": "stream",
     "text": [
      "env: DIR=/userfs/deployment-tutorial\n",
      "env: REST_SERVER=https://wmla-console-cpd-wmla.apps.cpd.mskcc.org/dlim/v1/\n",
      "env: dlim=../wmla-utils/dlim\n"
     ]
    }
   ],
   "source": [
    "%env DIR=/userfs/deployment-tutorial\n",
    "%env REST_SERVER=https://wmla-console-cpd-wmla.apps.cpd.mskcc.org/dlim/v1/\n",
    "\n",
    "%env dlim=../wmla-utils/dlim"
   ]
  },
  {
   "cell_type": "code",
   "execution_count": 2,
   "id": "protected-hayes",
   "metadata": {
    "id": "305c68bc-beaf-4283-9e30-b039334dfdc9",
    "tags": []
   },
   "outputs": [],
   "source": [
    "import os\n",
    "os.environ['auth'] = f\"--rest-server {os.environ['REST_SERVER']} --jwt-token {os.environ['USER_ACCESS_TOKEN']}\""
   ]
  },
  {
   "cell_type": "markdown",
   "id": "small-affect",
   "metadata": {
    "id": "6e1bf43a-591e-40e7-aa41-a60949052e40"
   },
   "source": [
    "## 1. Create Model Deployment\n",
    "Model / deployment name is specified in `model.json`. Whitesapce not allowed."
   ]
  },
  {
   "cell_type": "code",
   "execution_count": 3,
   "id": "popular-lunch",
   "metadata": {
    "id": "78f59c90-0bf0-4941-aef4-fabc7c471ed3",
    "tags": []
   },
   "outputs": [
    {
     "name": "stdout",
     "output_type": "stream",
     "text": [
      "env: DIR_submission=/userfs/deployment-tutorial/deployment_submission\n",
      "env: file_kernel=kernel.py\n"
     ]
    }
   ],
   "source": [
    "%env DIR_submission=/userfs/deployment-tutorial/deployment_submission\n",
    "%env file_kernel=kernel.py\n",
    "\n",
    "!rm -rf $DIR_submission\n",
    "!mkdir -p $DIR_submission\n",
    "\n",
    "!cp /userfs/training-tutorial/cifar-visdom/model/model.pt $DIR_submission\n",
    "!cp $DIR/kernel.py $DIR_submission\n",
    "!cp $DIR/model.json $DIR_submission\n",
    "!cp $DIR/README.md $DIR_submission"
   ]
  },
  {
   "cell_type": "code",
   "execution_count": 4,
   "id": "sharing-finder",
   "metadata": {
    "id": "8850bfe1-e8ee-4eb1-bc6b-986aaf9d6499",
    "tags": []
   },
   "outputs": [
    {
     "name": "stdout",
     "output_type": "stream",
     "text": [
      "Uploading...\n",
      "</userfs/deployment-tutorial/deployment_submission/README.md> uploaded to server.\n",
      "</userfs/deployment-tutorial/deployment_submission/kernel.py> uploaded to server.\n",
      "</userfs/deployment-tutorial/deployment_submission/model.json> uploaded to server.\n",
      "</userfs/deployment-tutorial/deployment_submission/model.pt> uploaded to server.\n",
      "Registering...\n",
      "Model <cifar-model-wendy> is deployed successfully\n"
     ]
    }
   ],
   "source": [
    "!$dlim model deploy -p $DIR_submission $auth -f"
   ]
  },
  {
   "cell_type": "markdown",
   "id": "numeric-bathroom",
   "metadata": {
    "id": "6b274042-6670-4172-ad6d-623a6abb363a"
   },
   "source": [
    "A newly created deployment is not in \"active\" status."
   ]
  },
  {
   "cell_type": "code",
   "execution_count": 5,
   "id": "solid-entry",
   "metadata": {
    "id": "2bb05d64-3be7-46a3-96e0-8a19db15232b",
    "tags": []
   },
   "outputs": [
    {
     "name": "stdout",
     "output_type": "stream",
     "text": [
      "NAME                 REST URI\n",
      "cifar-model-wendy    -\n",
      "deepliif-wendy-test  https://wmla-inference-cpd-wmla.apps.cpd.mskcc.org/dlim/v1/inference/deepliif-wendy-test\n"
     ]
    }
   ],
   "source": [
    "!$dlim model list $auth"
   ]
  },
  {
   "cell_type": "code",
   "execution_count": 6,
   "id": "bored-links",
   "metadata": {
    "id": "0966bcd5-0703-44b8-9d5f-d0a241cb3184",
    "tags": []
   },
   "outputs": [
    {
     "name": "stdout",
     "output_type": "stream",
     "text": [
      "env: model_name=cifar-model-wendy\n"
     ]
    }
   ],
   "source": [
    "%env model_name=cifar-model-wendy"
   ]
  },
  {
   "cell_type": "markdown",
   "id": "becoming-better",
   "metadata": {
    "id": "b5f1ab14-a4a6-4d9a-97c6-c9a5faf401dc",
    "tags": []
   },
   "source": [
    "## 2. Modify Configurations\n",
    "\n",
    "Some configurations can **only** be specified or modified after the deployment gets created. \n",
    "\n",
    "These configurations are flexible and changeable to an existing deployment, meaning that you can stop a deployment, change such config, activate the deployment again, and this new setting will be effective immediately, without the need to do a re-deployment all over again.\n",
    "\n",
    "One example is resource usage.\n",
    "\n",
    "A full list of configurable parameters in this category can be found in this doc page: https://www.ibm.com/docs/en/wmla/2.3?topic=inference-edit-service"
   ]
  },
  {
   "cell_type": "code",
   "execution_count": 7,
   "id": "printable-internship",
   "metadata": {
    "id": "f8160450-e814-41b9-b11b-7bde2f197ac3",
    "tags": []
   },
   "outputs": [],
   "source": [
    "!$dlim model viewprofile $model_name -j $auth > model_profile.json"
   ]
  },
  {
   "cell_type": "code",
   "execution_count": 8,
   "id": "introductory-paintball",
   "metadata": {
    "id": "7f4eb1ae-771e-4d2e-9753-fc6be2141205",
    "tags": []
   },
   "outputs": [
    {
     "data": {
      "text/plain": [
       "{'schema_version': '1.2',\n",
       " 'type': 'inference',\n",
       " 'name': 'cifar-model-wendy',\n",
       " 'create_time': 'Wed May 11 00:42:12 2022 GMT',\n",
       " 'last_update_time': 'Wed May 11 00:42:12 2022 GMT',\n",
       " 'replica': 1,\n",
       " 'policy': {'name': 'capacity',\n",
       "  'schedule_interval': 3,\n",
       "  'kernel_min': 1,\n",
       "  'kernel_max': 100,\n",
       "  'kernel_delay_release_time': 60,\n",
       "  'task_execution_timeout': 60,\n",
       "  'task_batch_size': 1,\n",
       "  'task_pipe_size': 1,\n",
       "  'task_parallel_size': 1,\n",
       "  'stream_number_per_group': 0,\n",
       "  'stream_discard_slow_tasks': True},\n",
       " 'security': {'ssl': {'enable': True,\n",
       "   'server_crt': '${REDHARE_TOP}/security/tls.crt',\n",
       "   'server_key': '${REDHARE_TOP}/security/tls.key'}},\n",
       " 'resource_allocation': {'service': {'type': 'k8s',\n",
       "   'namespace': '',\n",
       "   'image_name': '',\n",
       "   'node_selector': ''},\n",
       "  'kernel': {'type': 'msd',\n",
       "   'namespace': '',\n",
       "   'image_name': '',\n",
       "   'resource_plan': 'sample-project/inference',\n",
       "   'resources': 'ncpus=0.5,ncpus_limit=2,mem=1024,mem_limit=4096',\n",
       "   'accelerator_resources': '',\n",
       "   'gpu_pack_id': '',\n",
       "   'node_selector': '',\n",
       "   'scheduler': ''}},\n",
       " 'kernel': {'working_directory': '${REDHARE_TOP}/work',\n",
       "  'connection_timeout': 90,\n",
       "  'log_directory': '${REDHARE_TOP}/logs',\n",
       "  'run_as': '',\n",
       "  'umask': '022',\n",
       "  'gpu': 'no',\n",
       "  'envs': [{'name': 'DLIM_MK_LOG_LEVEL', 'value': 'INFO'}]}}"
      ]
     },
     "execution_count": 8,
     "metadata": {},
     "output_type": "execute_result"
    }
   ],
   "source": [
    "import json\n",
    "\n",
    "profile = json.load(open('model_profile.json'))\n",
    "profile"
   ]
  },
  {
   "cell_type": "code",
   "execution_count": 9,
   "id": "occasional-crest",
   "metadata": {
    "id": "26d483e1-c5c2-461b-bb3a-a0f9792069f5",
    "tags": []
   },
   "outputs": [],
   "source": [
    "profile['kernel']['gpu'] = 'exclusive'\n",
    "profile['policy']['kernel_max'] = 3"
   ]
  },
  {
   "cell_type": "code",
   "execution_count": 10,
   "id": "binding-fiction",
   "metadata": {
    "id": "153d9125-a205-4853-a668-8523452f237d",
    "tags": []
   },
   "outputs": [],
   "source": [
    "with open('model_profile.json','w') as f:\n",
    "    json.dump(profile, f)"
   ]
  },
  {
   "cell_type": "code",
   "execution_count": 11,
   "id": "european-invasion",
   "metadata": {
    "id": "93a4c585-c674-4898-ab12-4187bfdc39df",
    "tags": []
   },
   "outputs": [
    {
     "name": "stdout",
     "output_type": "stream",
     "text": [
      "Model is updated successfully\n"
     ]
    }
   ],
   "source": [
    "!$dlim model updateprofile $model_name -f model_profile.json $auth"
   ]
  },
  {
   "cell_type": "markdown",
   "id": "adjusted-ambassador",
   "metadata": {
    "id": "d653f9f8-fdf6-40e4-b76c-0148e7bfe070"
   },
   "source": [
    "## 3. Start Deployment"
   ]
  },
  {
   "cell_type": "code",
   "execution_count": 12,
   "id": "scenic-andrews",
   "metadata": {
    "id": "382340fa-7a0a-4356-addd-a49d6ba4ed8f",
    "tags": []
   },
   "outputs": [
    {
     "name": "stdout",
     "output_type": "stream",
     "text": [
      "Starting model \"cifar-model-wendy\", run \"dlim model view cifar-model-wendy -s\" to ensure startup.\n"
     ]
    }
   ],
   "source": [
    "!$dlim model start $model_name $auth"
   ]
  },
  {
   "cell_type": "code",
   "execution_count": 17,
   "id": "serial-platform",
   "metadata": {
    "id": "9feaa2f2-059e-4751-a161-3893442e1984",
    "tags": []
   },
   "outputs": [
    {
     "name": "stdout",
     "output_type": "stream",
     "text": [
      "Name:\t\tcifar-model-wendy\n",
      "Tag:\t\t-\n",
      "Model path:\t/opt/wml-edi/repo/cifar-model-wendy/cifar-model-wendy-20220511-004212\n",
      "Size:\t\t248.07KB\n",
      "Weight path:\t./\n",
      "Runtime:\tdlipy3\n",
      "Kernel path:\tkernel.py\n",
      "Creator:\twangw6\n",
      "Create time:\tWed May 11 00:42:12 UTC 2022\n",
      "Update time:\tWed May 11 00:42:12 UTC 2022\n",
      "REST URI:\thttps://wmla-inference-cpd-wmla.apps.cpd.mskcc.org/dlim/v1/inference/cifar-model-wendy\n",
      "Attributes:\tNo attribute defined\n",
      "Environments:\tNo environment variable defined\n",
      "Schema version:\t1\n"
     ]
    }
   ],
   "source": [
    "!$dlim model view $model_name $auth"
   ]
  },
  {
   "cell_type": "code",
   "execution_count": 19,
   "id": "paperback-thomas",
   "metadata": {
    "id": "b9511fb6-100d-492f-84da-a77583cbc227",
    "tags": []
   },
   "outputs": [
    {
     "name": "stdout",
     "output_type": "stream",
     "text": [
      "Name:   cifar-model-wendy\n",
      "State:  Not-available\n"
     ]
    }
   ],
   "source": [
    "!$dlim model view $model_name -s $auth"
   ]
  },
  {
   "cell_type": "markdown",
   "id": "neutral-client",
   "metadata": {
    "id": "f3c60211-0154-4857-85eb-5d546b4b4f3a"
   },
   "source": [
    "### Test Deployment"
   ]
  },
  {
   "cell_type": "code",
   "execution_count": 20,
   "id": "increasing-cartoon",
   "metadata": {
    "id": "09190815-df34-4eb9-8a71-9834095f7f3f",
    "tags": []
   },
   "outputs": [],
   "source": [
    "from PIL import Image\n",
    "from io import BytesIO\n",
    "import base64\n",
    "\n",
    "img = Image.open('camion_s_000148.png')\n",
    "\n",
    "buffer = BytesIO()\n",
    "img.save(buffer, 'PNG')\n",
    "\n",
    "img_bytes = base64.b64encode(buffer.getvalue()).decode('utf-8')"
   ]
  },
  {
   "cell_type": "code",
   "execution_count": 21,
   "id": "executive-plaintiff",
   "metadata": {
    "id": "8f39e0eb-ba9c-4786-b653-8d32efc85ad0",
    "tags": []
   },
   "outputs": [
    {
     "data": {
      "text/plain": [
       "'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'"
      ]
     },
     "execution_count": 21,
     "metadata": {},
     "output_type": "execute_result"
    }
   ],
   "source": [
    "img_bytes"
   ]
  },
  {
   "cell_type": "code",
   "execution_count": 22,
   "id": "promising-switch",
   "metadata": {
    "id": "df93d901-31ce-44bc-8327-f3f98af567d6",
    "tags": []
   },
   "outputs": [],
   "source": [
    "import urllib3\n",
    "urllib3.disable_warnings()"
   ]
  },
  {
   "cell_type": "markdown",
   "id": "signal-engineer",
   "metadata": {
    "id": "3f7e8ede-baad-4d36-860b-da177e4f3a0a"
   },
   "source": [
    "#### Test: A Single Request"
   ]
  },
  {
   "cell_type": "code",
   "execution_count": 23,
   "id": "interim-gazette",
   "metadata": {
    "id": "60101dfc-29ed-4273-8a0c-6432117cbbe2",
    "tags": []
   },
   "outputs": [
    {
     "name": "stdout",
     "output_type": "stream",
     "text": [
      "CPU times: user 46.2 ms, sys: 5.53 ms, total: 51.7 ms\n",
      "Wall time: 21.6 s\n"
     ]
    },
    {
     "data": {
      "text/plain": [
       "<Response [200]>"
      ]
     },
     "execution_count": 23,
     "metadata": {},
     "output_type": "execute_result"
    }
   ],
   "source": [
    "%%time\n",
    "import requests\n",
    "\n",
    "url = 'https://wmla-inference-cpd-wmla.apps.cpd.mskcc.org/dlim/v1/inference/cifar-model-wendy'\n",
    "headers = {'Authorization': 'Bearer ' + os.environ['USER_ACCESS_TOKEN']}\n",
    "\n",
    "res = requests.post(url=url, headers=headers, json={'img':img_bytes}, verify=False)\n",
    "res"
   ]
  },
  {
   "cell_type": "code",
   "execution_count": 24,
   "id": "digital-nancy",
   "metadata": {
    "id": "c7562145-11f5-4f35-a799-ae5d109348d2",
    "tags": []
   },
   "outputs": [
    {
     "data": {
      "text/plain": [
       "'{\"pred_class\": 0}'"
      ]
     },
     "execution_count": 24,
     "metadata": {},
     "output_type": "execute_result"
    }
   ],
   "source": [
    "res.text"
   ]
  },
  {
   "cell_type": "code",
   "execution_count": 27,
   "id": "conditional-future",
   "metadata": {
    "id": "db14cb24-282f-47e2-9f2e-96686d6e2379",
    "tags": []
   },
   "outputs": [
    {
     "data": {
      "text/plain": [
       "<Response [200]>"
      ]
     },
     "execution_count": 27,
     "metadata": {},
     "output_type": "execute_result"
    }
   ],
   "source": [
    "res = requests.post(url=url, headers=headers, json={'img':''}, verify=False)\n",
    "res"
   ]
  },
  {
   "cell_type": "code",
   "execution_count": 28,
   "id": "explicit-ready",
   "metadata": {
    "id": "2ef7ddd1-44bb-4828-b4ca-15b3669f8c59",
    "tags": []
   },
   "outputs": [
    {
     "data": {
      "text/plain": [
       "'{\"msg\": \"cannot identify image file <_io.BytesIO object at 0x7fd0f8ebf3b0>\"}'"
      ]
     },
     "execution_count": 28,
     "metadata": {},
     "output_type": "execute_result"
    }
   ],
   "source": [
    "res.text"
   ]
  },
  {
   "cell_type": "markdown",
   "id": "sunset-cambodia",
   "metadata": {
    "id": "08586fcc-5675-467a-993f-62e0aee0237c"
   },
   "source": [
    "#### Test: Multiple Concurrent Requests\n",
    "You can use `requests-futures` to initiate async calls to mimic concurrent requests. At the backend it uses multi-threading. More details can be found in the git repository: https://github.com/ross/requests-futures\n",
    "\n",
    "In this way, you will be able to trigger WMLA EDI deployment to generate new kernel pods in order to handle these requests and measure/evaluate the performance.\n",
    "\n",
    "*If your inference request takes very short time, say 20ms, then the timing estimated by this method could be way off due to additional costs such as opening threads.*\n",
    "\n",
    "*This is more for the mlops team to do. A researcher doesn't have to worry about concurrent requests.*"
   ]
  },
  {
   "cell_type": "code",
   "execution_count": 29,
   "id": "intelligent-multiple",
   "metadata": {
    "id": "e41b1211-7800-4786-bbf8-97517a0bfa13",
    "tags": []
   },
   "outputs": [
    {
     "name": "stdout",
     "output_type": "stream",
     "text": [
      "Requirement already satisfied: requests-futures in /opt/conda/envs/Python-3.8-main/lib/python3.8/site-packages (1.0.0)\n",
      "Requirement already satisfied: requests>=1.2.0 in /opt/conda/envs/Python-3.8-main/lib/python3.8/site-packages (from requests-futures) (2.25.1)\n",
      "Requirement already satisfied: idna<3,>=2.5 in /opt/conda/envs/Python-3.8-main/lib/python3.8/site-packages (from requests>=1.2.0->requests-futures) (2.8)\n",
      "Requirement already satisfied: certifi>=2017.4.17 in /opt/conda/envs/Python-3.8-main/lib/python3.8/site-packages (from requests>=1.2.0->requests-futures) (2021.10.8)\n",
      "Requirement already satisfied: urllib3<1.27,>=1.21.1 in /opt/conda/envs/Python-3.8-main/lib/python3.8/site-packages (from requests>=1.2.0->requests-futures) (1.26.6)\n",
      "Requirement already satisfied: chardet<5,>=3.0.2 in /opt/conda/envs/Python-3.8-main/lib/python3.8/site-packages (from requests>=1.2.0->requests-futures) (3.0.4)\n"
     ]
    }
   ],
   "source": [
    "!pip install requests-futures"
   ]
  },
  {
   "cell_type": "code",
   "execution_count": 30,
   "id": "cultural-screw",
   "metadata": {
    "id": "83ec1cde-191d-4e1b-8a83-eccb905167c0",
    "tags": []
   },
   "outputs": [],
   "source": [
    "import datetime"
   ]
  },
  {
   "cell_type": "code",
   "execution_count": 31,
   "id": "optical-catalyst",
   "metadata": {
    "id": "64a63aa4-7ebb-4f8f-bd06-2f58761ba260",
    "tags": []
   },
   "outputs": [
    {
     "name": "stdout",
     "output_type": "stream",
     "text": [
      "2022-05-11 00:45:57.479200 0\n",
      "2022-05-11 00:45:57.481471 1\n",
      "2022-05-11 00:45:57.483664 2\n",
      "2022-05-11 00:45:57.484950 3\n",
      "2022-05-11 00:45:57.488657 4\n",
      "2022-05-11 00:45:57.489994 5\n",
      "2022-05-11 00:45:57.492143 6\n",
      "2022-05-11 00:45:57.493449 7\n",
      "2022-05-11 00:45:57.493537 8\n",
      "2022-05-11 00:45:57.493568 9\n",
      "2022-05-11 00:45:57.493595 10\n",
      "2022-05-11 00:45:57.493990 11\n",
      "2022-05-11 00:45:57.494143 12\n",
      "2022-05-11 00:45:57.494287 13\n",
      "2022-05-11 00:45:57.494393 14\n",
      "2022-05-11 00:45:57.494424 15\n",
      "2022-05-11 00:45:57.494452 16\n",
      "2022-05-11 00:45:57.494482 17\n",
      "2022-05-11 00:45:57.494509 18\n",
      "2022-05-11 00:45:57.494535 19\n",
      "2022-05-11 00:45:57.494566 20\n",
      "2022-05-11 00:45:57.494601 21\n",
      "2022-05-11 00:45:57.495500 22\n",
      "2022-05-11 00:45:57.495693 23\n",
      "2022-05-11 00:45:57.495733 24\n",
      "2022-05-11 00:45:57.508238 25\n",
      "2022-05-11 00:45:57.508837 26\n",
      "2022-05-11 00:45:57.508875 27\n",
      "2022-05-11 00:45:57.537591 28\n",
      "2022-05-11 00:45:57.537640 29\n",
      "2022-05-11 00:45:57.537999 30\n",
      "2022-05-11 00:45:57.538054 31\n",
      "2022-05-11 00:45:57.551791 32\n",
      "2022-05-11 00:45:57.551832 33\n",
      "2022-05-11 00:45:57.551863 34\n",
      "2022-05-11 00:45:57.551890 35\n",
      "2022-05-11 00:45:57.553145 36\n",
      "2022-05-11 00:45:57.553420 37\n",
      "2022-05-11 00:45:57.553910 38\n",
      "2022-05-11 00:45:57.553940 39\n",
      "2022-05-11 00:45:57.553963 40\n",
      "2022-05-11 00:45:57.553985 41\n",
      "2022-05-11 00:45:57.554009 42\n",
      "2022-05-11 00:45:57.554376 43\n",
      "2022-05-11 00:45:57.554405 44\n",
      "2022-05-11 00:45:57.554427 45\n",
      "2022-05-11 00:45:57.554451 46\n",
      "2022-05-11 00:45:57.554476 47\n",
      "2022-05-11 00:45:57.554502 48\n",
      "2022-05-11 00:45:57.554523 49\n",
      "2022-05-11 00:45:57.554546 50\n",
      "2022-05-11 00:45:57.554567 51\n",
      "2022-05-11 00:45:57.554967 52\n",
      "2022-05-11 00:45:57.555005 53\n",
      "2022-05-11 00:45:57.555030 54\n",
      "2022-05-11 00:45:57.555057 55\n",
      "2022-05-11 00:45:57.555082 56\n",
      "2022-05-11 00:45:57.555349 57\n",
      "2022-05-11 00:45:57.556738 58\n",
      "2022-05-11 00:45:57.556774 59\n",
      "2022-05-11 00:45:57.556800 60\n",
      "2022-05-11 00:45:57.556824 61\n",
      "2022-05-11 00:45:57.556846 62\n",
      "2022-05-11 00:45:57.556869 63\n",
      "2022-05-11 00:45:57.556895 64\n",
      "2022-05-11 00:45:57.556917 65\n",
      "2022-05-11 00:45:57.556940 66\n",
      "2022-05-11 00:45:57.556963 67\n",
      "2022-05-11 00:45:57.557019 68\n",
      "2022-05-11 00:45:57.557043 69\n",
      "2022-05-11 00:45:57.557065 70\n",
      "2022-05-11 00:45:57.557096 71\n",
      "2022-05-11 00:45:57.557127 72\n",
      "2022-05-11 00:45:57.557235 73\n",
      "2022-05-11 00:45:57.557270 74\n",
      "2022-05-11 00:45:57.557306 75\n",
      "2022-05-11 00:45:57.557333 76\n",
      "2022-05-11 00:45:57.557361 77\n",
      "2022-05-11 00:45:57.557399 78\n",
      "2022-05-11 00:45:57.557428 79\n",
      "2022-05-11 00:45:57.557455 80\n",
      "2022-05-11 00:45:57.557496 81\n",
      "2022-05-11 00:45:57.557522 82\n",
      "2022-05-11 00:45:57.557557 83\n",
      "2022-05-11 00:45:57.557584 84\n",
      "2022-05-11 00:45:57.557614 85\n",
      "2022-05-11 00:45:57.560078 86\n",
      "2022-05-11 00:45:57.560116 87\n",
      "2022-05-11 00:45:57.560147 88\n",
      "2022-05-11 00:45:57.560175 89\n",
      "2022-05-11 00:45:57.560203 90\n",
      "2022-05-11 00:45:57.560230 91\n",
      "2022-05-11 00:45:57.560258 92\n",
      "2022-05-11 00:45:57.560286 93\n",
      "2022-05-11 00:45:57.560315 94\n",
      "2022-05-11 00:45:57.560344 95\n",
      "2022-05-11 00:45:57.560378 96\n",
      "2022-05-11 00:45:57.560411 97\n",
      "2022-05-11 00:45:57.560440 98\n",
      "2022-05-11 00:45:57.560470 99\n",
      "CPU times: user 109 ms, sys: 26.8 ms, total: 135 ms\n",
      "Wall time: 86.2 ms\n"
     ]
    }
   ],
   "source": [
    "%%time\n",
    "from requests_futures.sessions import FuturesSession\n",
    "\n",
    "session = FuturesSession()\n",
    "params = {'url':'https://wmla-inference-cpd-wmla.apps.cpd.mskcc.org/dlim/v1/inference/cifar-model-wendy',\n",
    "          'headers':headers, \n",
    "          'json':{'img':img_bytes},\n",
    "          'verify':False}\n",
    "\n",
    "l_sessions = []\n",
    "for i in range(100):\n",
    "    future_session = session.post(**params)\n",
    "    l_sessions.append(future_session)\n",
    "    print(datetime.datetime.now(),i)"
   ]
  },
  {
   "cell_type": "code",
   "execution_count": 32,
   "id": "raised-scope",
   "metadata": {
    "id": "517d3018-1351-4951-bb57-089ae87ad55f",
    "tags": []
   },
   "outputs": [
    {
     "name": "stdout",
     "output_type": "stream",
     "text": [
      "2022-05-11 00:45:58.832526 0\n",
      "2022-05-11 00:46:00.531355 1\n",
      "2022-05-11 00:46:00.531946 2\n",
      "2022-05-11 00:46:00.531979 3\n",
      "2022-05-11 00:46:00.531995 4\n",
      "2022-05-11 00:46:00.532011 5\n",
      "2022-05-11 00:46:00.532026 6\n",
      "2022-05-11 00:46:00.534452 7\n",
      "2022-05-11 00:46:00.534475 8\n",
      "2022-05-11 00:46:01.431330 9\n",
      "2022-05-11 00:46:01.431451 10\n",
      "2022-05-11 00:46:01.431470 11\n",
      "2022-05-11 00:46:01.431486 12\n",
      "2022-05-11 00:46:01.631854 13\n",
      "2022-05-11 00:46:01.631960 14\n",
      "2022-05-11 00:46:01.632359 15\n",
      "2022-05-11 00:46:01.632395 16\n",
      "2022-05-11 00:46:03.531899 17\n",
      "2022-05-11 00:46:03.532004 18\n",
      "2022-05-11 00:46:03.532027 19\n",
      "2022-05-11 00:46:03.532084 20\n",
      "2022-05-11 00:46:03.830730 21\n",
      "2022-05-11 00:46:03.830818 22\n",
      "2022-05-11 00:46:03.830835 23\n",
      "2022-05-11 00:46:03.830857 24\n",
      "2022-05-11 00:46:05.430302 25\n",
      "2022-05-11 00:46:05.430426 26\n",
      "2022-05-11 00:46:05.430448 27\n",
      "2022-05-11 00:46:05.430465 28\n",
      "2022-05-11 00:46:05.730363 29\n",
      "2022-05-11 00:46:05.730503 30\n",
      "2022-05-11 00:46:05.730522 31\n",
      "2022-05-11 00:46:05.730539 32\n",
      "2022-05-11 00:46:07.231128 33\n",
      "2022-05-11 00:46:07.231248 34\n",
      "2022-05-11 00:46:07.231266 35\n",
      "2022-05-11 00:46:07.231292 36\n",
      "2022-05-11 00:46:07.335677 37\n",
      "2022-05-11 00:46:07.335760 38\n",
      "2022-05-11 00:46:07.335781 39\n",
      "2022-05-11 00:46:07.335796 40\n",
      "2022-05-11 00:46:09.032580 41\n",
      "2022-05-11 00:46:09.032672 42\n",
      "2022-05-11 00:46:09.032689 43\n",
      "2022-05-11 00:46:09.032705 44\n",
      "2022-05-11 00:46:09.331292 45\n",
      "2022-05-11 00:46:09.331409 46\n",
      "2022-05-11 00:46:09.331660 47\n",
      "2022-05-11 00:46:09.331695 48\n",
      "2022-05-11 00:46:09.935267 49\n",
      "2022-05-11 00:46:09.935398 50\n",
      "2022-05-11 00:46:09.935417 51\n",
      "2022-05-11 00:46:09.935444 52\n",
      "2022-05-11 00:46:10.431937 53\n",
      "2022-05-11 00:46:10.432043 54\n",
      "2022-05-11 00:46:10.432064 55\n",
      "2022-05-11 00:46:10.432078 56\n",
      "2022-05-11 00:46:10.936826 57\n",
      "2022-05-11 00:46:10.936951 58\n",
      "2022-05-11 00:46:11.036703 59\n",
      "2022-05-11 00:46:11.036817 60\n",
      "2022-05-11 00:46:11.437829 61\n",
      "2022-05-11 00:46:11.438461 62\n",
      "2022-05-11 00:46:11.438491 63\n",
      "2022-05-11 00:46:11.438554 64\n",
      "2022-05-11 00:46:11.932378 65\n",
      "2022-05-11 00:46:11.932464 66\n",
      "2022-05-11 00:46:11.932486 67\n",
      "2022-05-11 00:46:11.932500 68\n",
      "2022-05-11 00:46:12.331122 69\n",
      "2022-05-11 00:46:12.331792 70\n",
      "2022-05-11 00:46:12.331815 71\n",
      "2022-05-11 00:46:12.331834 72\n",
      "2022-05-11 00:46:12.935206 73\n",
      "2022-05-11 00:46:12.935336 74\n",
      "2022-05-11 00:46:12.935416 75\n",
      "2022-05-11 00:46:12.935433 76\n",
      "2022-05-11 00:46:13.230654 77\n",
      "2022-05-11 00:46:13.230743 78\n",
      "2022-05-11 00:46:13.230760 79\n",
      "2022-05-11 00:46:13.230784 80\n",
      "2022-05-11 00:46:13.431609 81\n",
      "2022-05-11 00:46:13.431709 82\n",
      "2022-05-11 00:46:13.431734 83\n",
      "2022-05-11 00:46:13.431749 84\n",
      "2022-05-11 00:46:13.435322 85\n",
      "2022-05-11 00:46:13.934551 86\n",
      "2022-05-11 00:46:13.934644 87\n",
      "2022-05-11 00:46:13.934662 88\n",
      "2022-05-11 00:46:14.231072 89\n",
      "2022-05-11 00:46:14.231188 90\n",
      "2022-05-11 00:46:14.231214 91\n",
      "2022-05-11 00:46:14.231239 92\n",
      "2022-05-11 00:46:14.231269 93\n",
      "2022-05-11 00:46:14.359286 94\n",
      "2022-05-11 00:46:14.359405 95\n",
      "2022-05-11 00:46:14.359433 96\n",
      "2022-05-11 00:46:14.631345 97\n",
      "2022-05-11 00:46:14.631439 98\n",
      "2022-05-11 00:46:14.631457 99\n",
      "CPU times: user 197 ms, sys: 8.48 ms, total: 206 ms\n",
      "Wall time: 17.1 s\n"
     ]
    }
   ],
   "source": [
    "%%time\n",
    "l_res = []\n",
    "for i in range(100):\n",
    "    l_res.append(l_sessions[i].result())\n",
    "    print(datetime.datetime.now(),i)"
   ]
  },
  {
   "cell_type": "code",
   "execution_count": 34,
   "id": "colored-university",
   "metadata": {
    "id": "c1e9ae68-fef6-4581-8f16-2f875e0324fc",
    "tags": []
   },
   "outputs": [
    {
     "name": "stdout",
     "output_type": "stream",
     "text": [
      "{\"pred_class\": 0}\n",
      "{\"pred_class\": 0}\n",
      "{\"pred_class\": 0}\n",
      "{\"pred_class\": 0}\n",
      "{\"pred_class\": 0}\n",
      "{\"pred_class\": 0}\n",
      "{\"pred_class\": 0}\n",
      "{\"pred_class\": 0}\n",
      "{\"pred_class\": 0}\n",
      "{\"pred_class\": 0}\n",
      "{\"pred_class\": 0}\n",
      "{\"pred_class\": 0}\n",
      "{\"pred_class\": 0}\n",
      "{\"pred_class\": 0}\n",
      "{\"pred_class\": 0}\n",
      "{\"pred_class\": 0}\n",
      "{\"pred_class\": 0}\n",
      "{\"pred_class\": 0}\n",
      "{\"pred_class\": 0}\n",
      "{\"pred_class\": 0}\n",
      "{\"pred_class\": 0}\n",
      "{\"pred_class\": 0}\n",
      "{\"pred_class\": 0}\n",
      "{\"pred_class\": 0}\n",
      "{\"pred_class\": 0}\n",
      "{\"pred_class\": 0}\n",
      "{\"pred_class\": 0}\n",
      "{\"pred_class\": 0}\n",
      "{\"pred_class\": 0}\n",
      "{\"pred_class\": 0}\n",
      "{\"pred_class\": 0}\n",
      "{\"pred_class\": 0}\n",
      "{\"pred_class\": 0}\n",
      "{\"pred_class\": 0}\n",
      "{\"pred_class\": 0}\n",
      "{\"pred_class\": 0}\n",
      "{\"pred_class\": 0}\n",
      "{\"pred_class\": 0}\n",
      "{\"pred_class\": 0}\n",
      "{\"pred_class\": 0}\n",
      "{\"pred_class\": 0}\n",
      "{\"pred_class\": 0}\n",
      "{\"pred_class\": 0}\n",
      "{\"pred_class\": 0}\n",
      "{\"pred_class\": 0}\n",
      "{\"pred_class\": 0}\n",
      "{\"pred_class\": 0}\n",
      "{\"pred_class\": 0}\n",
      "{\"pred_class\": 0}\n",
      "{\"pred_class\": 0}\n",
      "{\"pred_class\": 0}\n",
      "{\"pred_class\": 0}\n",
      "{\"pred_class\": 0}\n",
      "{\"pred_class\": 0}\n",
      "{\"pred_class\": 0}\n",
      "{\"pred_class\": 0}\n",
      "{\"pred_class\": 0}\n",
      "{\"pred_class\": 0}\n",
      "{\"pred_class\": 0}\n",
      "{\"pred_class\": 0}\n",
      "{\"pred_class\": 0}\n",
      "{\"pred_class\": 0}\n",
      "{\"pred_class\": 0}\n",
      "{\"pred_class\": 0}\n",
      "{\"pred_class\": 0}\n",
      "{\"pred_class\": 0}\n",
      "{\"pred_class\": 0}\n",
      "{\"pred_class\": 0}\n",
      "{\"pred_class\": 0}\n",
      "{\"pred_class\": 0}\n",
      "{\"pred_class\": 0}\n",
      "{\"pred_class\": 0}\n",
      "{\"pred_class\": 0}\n",
      "{\"pred_class\": 0}\n",
      "{\"pred_class\": 0}\n",
      "{\"pred_class\": 0}\n",
      "{\"pred_class\": 0}\n",
      "{\"pred_class\": 0}\n",
      "{\"pred_class\": 0}\n",
      "{\"pred_class\": 0}\n",
      "{\"pred_class\": 0}\n",
      "{\"pred_class\": 0}\n",
      "{\"pred_class\": 0}\n",
      "{\"pred_class\": 0}\n",
      "{\"pred_class\": 0}\n",
      "{\"pred_class\": 0}\n",
      "{\"pred_class\": 0}\n",
      "{\"pred_class\": 0}\n",
      "{\"pred_class\": 0}\n",
      "{\"pred_class\": 0}\n",
      "{\"pred_class\": 0}\n",
      "{\"pred_class\": 0}\n",
      "{\"pred_class\": 0}\n",
      "{\"pred_class\": 0}\n",
      "{\"pred_class\": 0}\n",
      "{\"pred_class\": 0}\n",
      "{\"pred_class\": 0}\n",
      "{\"pred_class\": 0}\n",
      "{\"pred_class\": 0}\n",
      "{\"pred_class\": 0}\n"
     ]
    }
   ],
   "source": [
    "for res in l_res:\n",
    "    print(res.text)"
   ]
  },
  {
   "cell_type": "markdown",
   "id": "brown-quarter",
   "metadata": {
    "id": "95dd9fc8-8b33-485f-9687-951e5b817554",
    "tags": []
   },
   "source": [
    "## 4. Stop Deployment\n",
    "You need to stop a deployment when\n",
    "- you want to change configurable parameters for the existing deployment, or\n",
    "- you want to delete this deployment"
   ]
  },
  {
   "cell_type": "code",
   "execution_count": 35,
   "id": "recognized-bailey",
   "metadata": {
    "id": "7748dcb8-fb09-47bf-88ec-8eaaae635b25",
    "tags": []
   },
   "outputs": [
    {
     "name": "stdout",
     "output_type": "stream",
     "text": [
      "Stopping model \"cifar-model-wendy\", run \"dlim model view cifar-model-wendy -s\" to ensure stop.\n"
     ]
    }
   ],
   "source": [
    "!$dlim model stop $model_name $auth -f"
   ]
  },
  {
   "cell_type": "markdown",
   "id": "differential-venue",
   "metadata": {
    "id": "088edd24-32f5-43be-b2d9-cd05eed5ef21",
    "tags": []
   },
   "source": [
    "## 5. Remove Deployment"
   ]
  },
  {
   "cell_type": "code",
   "execution_count": 39,
   "id": "velvet-southwest",
   "metadata": {
    "id": "bde9f625-4775-4c68-a6f4-56fcb903ffc3",
    "tags": []
   },
   "outputs": [
    {
     "name": "stdout",
     "output_type": "stream",
     "text": [
      "Undeployed model \"cifar-model-wendy\", run \"dlim model list\" to ensure deletion.\n"
     ]
    }
   ],
   "source": [
    "!$dlim model undeploy $model_name $auth -f"
   ]
  },
  {
   "cell_type": "code",
   "execution_count": 40,
   "id": "convinced-method",
   "metadata": {
    "id": "dfea07f6-afe7-4c7e-8a4d-939dcdba6e3e",
    "tags": []
   },
   "outputs": [
    {
     "name": "stdout",
     "output_type": "stream",
     "text": [
      "NAME                 REST URI\n",
      "deepliif-wendy-test  https://wmla-inference-cpd-wmla.apps.cpd.mskcc.org/dlim/v1/inference/deepliif-wendy-test\n"
     ]
    }
   ],
   "source": [
    "!$dlim model list $auth"
   ]
  },
  {
   "cell_type": "code",
   "execution_count": null,
   "id": "balanced-maria",
   "metadata": {
    "id": "f9c49ff6-d3a3-4d3a-bb00-d78b441e053c"
   },
   "outputs": [],
   "source": []
  }
 ],
 "metadata": {
  "kernelspec": {
   "display_name": "Python 3.8 with applications",
   "language": "python",
   "name": "python3"
  },
  "language_info": {
   "codemirror_mode": {
    "name": "ipython",
    "version": 3
   },
   "file_extension": ".py",
   "mimetype": "text/x-python",
   "name": "python",
   "nbconvert_exporter": "python",
   "pygments_lexer": "ipython3",
   "version": "3.8.11"
  }
 },
 "nbformat": 4,
 "nbformat_minor": 5
}
