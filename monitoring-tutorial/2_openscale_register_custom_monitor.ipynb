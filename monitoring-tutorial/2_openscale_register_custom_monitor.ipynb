{
 "cells": [
  {
   "cell_type": "markdown",
   "id": "joined-marketplace",
   "metadata": {
    "id": "482cd097-e673-48fa-974b-a37911460a11"
   },
   "source": [
    "# Register Custom Monitor in OpenScale\n",
    "This notebook \n",
    "1. registers the custom metric provider as an integrated system in openscale\n",
    "2. creates the corresponding monitor definition\n",
    "3. updates monitor metadata"
   ]
  },
  {
   "cell_type": "code",
   "execution_count": null,
   "id": "improving-knock",
   "metadata": {
    "id": "c866205c-d01f-4cc3-b86a-5a187cc12066",
    "tags": []
   },
   "outputs": [],
   "source": [
    "from ibm_watson_openscale import *\n",
    "from ibm_watson_openscale.base_classes.watson_open_scale_v2 import *\n",
    "import urllib3\n",
    "urllib3.disable_warnings()\n",
    "\n",
    "from datetime import datetime, timezone, timedelta\n",
    "import uuid\n",
    "\n",
    "import os\n",
    "import wos_sdk_utils as wos_util"
   ]
  },
  {
   "cell_type": "code",
   "execution_count": null,
   "id": "found-pearl",
   "metadata": {
    "id": "e8678a0a-c62f-4ab6-8188-dbc9a4ae3cf9",
    "tags": []
   },
   "outputs": [],
   "source": [
    "scoring_url = 'https://internal-nginx-svc:12443/ml/v4/deployments/7ae28492-bbd3-404c-8b3d-ba9181f91f54/predictions?version=2022-04-01'\n",
    "openscale_integrated_system_name = \"custom dummy metrics wendy\"\n",
    "openscale_monitor_name = 'dummy monitor wendy'\n",
    "openscale_monitor_id = None\n",
    "\n",
    "credentials = {'username': 'wangw6',\n",
    "               'api_key': 'kkdAZrXOmFdo3T3d94wFcHW2ith01aP9V4XL1NmN'}"
   ]
  },
  {
   "cell_type": "markdown",
   "id": "moving-burton",
   "metadata": {
    "id": "e774df23-97ce-49f7-b048-9d373baaa33f"
   },
   "source": [
    "## 1. Register Scoring Endpoint in OpenScale"
   ]
  },
  {
   "cell_type": "code",
   "execution_count": null,
   "id": "lucky-region",
   "metadata": {
    "id": "5e16bea0-37cc-4456-9fac-394cecc3560e",
    "tags": []
   },
   "outputs": [],
   "source": [
    "wos_client = wos_util.get_client()\n",
    "wos_client.version"
   ]
  },
  {
   "cell_type": "code",
   "execution_count": null,
   "id": "dominican-honolulu",
   "metadata": {
    "id": "59a764a3-1d55-4426-8c69-54abbd2058cf",
    "tags": []
   },
   "outputs": [],
   "source": [
    "# Delete existing custom metrics provider integrated systems if present\n",
    "wos_util.integrated_system_delete(openscale_integrated_system_name,wos_client)"
   ]
  },
  {
   "cell_type": "code",
   "execution_count": null,
   "id": "hungarian-lucas",
   "metadata": {
    "id": "5954c88b-4919-4301-99bb-7da6faab6c98",
    "tags": []
   },
   "outputs": [],
   "source": [
    "custom_metrics_integrated_system = IntegratedSystems(wos_client).add(\n",
    "    name=openscale_integrated_system_name,\n",
    "    description=openscale_integrated_system_name,\n",
    "    type=\"custom_metrics_provider\",\n",
    "    credentials= {\"auth_type\":\"bearer\",\n",
    "                  \"token_info\": {\n",
    "                      \"url\": \"{}/icp4d-api/v1/authorize\".format(os.environ['RUNTIME_ENV_APSX_URL']),\n",
    "                      \"headers\": {\"Content-Type\": \"application/json\",\n",
    "                                  \"Accept\": \"application/json\"},\n",
    "                      \"payload\": {'username':credentials['username'],\n",
    "                                   'api_key':credentials['api_key']},\n",
    "                      \"method\": \"post\"}\n",
    "                 },\n",
    "    connection={\"display_name\": openscale_integrated_system_name,\n",
    "                \"endpoint\": scoring_url\n",
    "    }).result\n",
    "\n",
    "integrated_system_id = custom_metrics_integrated_system.metadata.id\n",
    "print(integrated_system_id)"
   ]
  },
  {
   "cell_type": "markdown",
   "id": "liquid-color",
   "metadata": {
    "id": "ba49f419-c235-4665-8fe1-7b9bc90f0968"
   },
   "source": [
    "## 2. Setup Custom Monitor Definition"
   ]
  },
  {
   "cell_type": "code",
   "execution_count": null,
   "id": "prerequisite-mount",
   "metadata": {
    "id": "0ddc5ed9-c29d-4cd0-b05b-20ba489e9ffc",
    "tags": []
   },
   "outputs": [],
   "source": [
    "openscale_monitor_defaults = {'specificity': {'threshold':[0.5,'lower']},\n",
    "                              'sensitivity': {'threshold':[0.6,'lower']}\n",
    "                             }"
   ]
  },
  {
   "cell_type": "code",
   "execution_count": null,
   "id": "military-edward",
   "metadata": {
    "id": "7838408d-47f6-4ae4-8124-9ac7caa4f4aa",
    "tags": []
   },
   "outputs": [],
   "source": [
    "monitor_id = wos_util.monitor_definition_create(openscale_monitor_name,\n",
    "                                                openscale_monitor_defaults,\n",
    "                                                wos_client,overwrite=True)\n",
    "print(monitor_id)"
   ]
  },
  {
   "cell_type": "code",
   "execution_count": null,
   "id": "innocent-repository",
   "metadata": {
    "id": "54eb062c-15e1-45cb-b832-0f72e5a0a337",
    "tags": []
   },
   "outputs": [],
   "source": [
    "wos_client.monitor_definitions.show()"
   ]
  },
  {
   "cell_type": "code",
   "execution_count": null,
   "id": "fancy-region",
   "metadata": {
    "id": "71aa692f-c2a6-473b-82c9-333e93457840",
    "tags": []
   },
   "outputs": [],
   "source": [
    "wos_util.get_monitor_definition(wos_client,monitor_name=openscale_monitor_name)"
   ]
  }
 ],
 "metadata": {
  "kernelspec": {
   "display_name": "Python 3.8 with applications",
   "language": "python",
   "name": "python3"
  },
  "language_info": {
   "codemirror_mode": {
    "name": "ipython",
    "version": 3
   },
   "file_extension": ".py",
   "mimetype": "text/x-python",
   "name": "python",
   "nbconvert_exporter": "python",
   "pygments_lexer": "ipython3",
   "version": "3.8.11"
  }
 },
 "nbformat": 4,
 "nbformat_minor": 5
}
