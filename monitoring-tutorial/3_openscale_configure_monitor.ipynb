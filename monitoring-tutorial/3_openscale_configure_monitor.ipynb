{
 "cells": [
  {
   "cell_type": "code",
   "execution_count": 27,
   "id": "clean-cabinet",
   "metadata": {
    "id": "e2ef5cb6-cd00-4605-b1d1-b6e8a88082da",
    "tags": []
   },
   "outputs": [],
   "source": [
    "import os\n",
    "import json\n",
    "from datetime import datetime, timezone, timedelta\n",
    "import time\n",
    "import uuid\n",
    "from ibm_watson_openscale.base_classes.watson_open_scale_v2 import WMLCredentialsCP4D\n",
    "import urllib3\n",
    "urllib3.disable_warnings(urllib3.exceptions.InsecureRequestWarning)\n",
    "\n",
    "import wos_sdk_utils as wos_util\n",
    "import wml_sdk_utils as wml_util"
   ]
  },
  {
   "cell_type": "markdown",
   "id": "functional-irish",
   "metadata": {
    "id": "d099020b-2f0b-403f-9384-ab66227d5978"
   },
   "source": [
    "# OpenScale Configuration"
   ]
  },
  {
   "cell_type": "code",
   "execution_count": 42,
   "id": "frequent-resident",
   "metadata": {
    "id": "e13165fb-f527-46bd-8810-dc8e780efd82",
    "tags": []
   },
   "outputs": [],
   "source": [
    "SERVICE_PROVIDER_NAME = \"OpenScale Headless Service Provider\"\n",
    "SUBSCRIPTION_NAME = \"cifar monitor wendy\"\n",
    "\n",
    "WML_SPACE_ID = '416d5be2-0964-4605-aa0a-e1764a78f916' \n",
    "\n",
    "WOS_GUID = '00000000-0000-0000-0000-000000000000'"
   ]
  },
  {
   "cell_type": "code",
   "execution_count": 43,
   "id": "forbidden-multiple",
   "metadata": {
    "id": "1bee7ffb-46dc-471a-8aae-3c259bda1791",
    "tags": []
   },
   "outputs": [],
   "source": [
    "wos_client = wos_util.get_client()\n",
    "wml_client = wml_util.get_client(space_id=WML_SPACE_ID)"
   ]
  },
  {
   "cell_type": "markdown",
   "id": "creative-spell",
   "metadata": {
    "id": "1c26a1aa-b0f1-4990-be62-a189b7ffe8cb"
   },
   "source": [
    "## 1. Subscribe to Deployment\n",
    "Here we create a dummy subscription because there is no need for OpenScale to communicate with the deployment's scoring endpoint."
   ]
  },
  {
   "cell_type": "code",
   "execution_count": 44,
   "id": "global-decision",
   "metadata": {
    "id": "89161e5a-609b-418a-a720-c3a9d68becac",
    "tags": []
   },
   "outputs": [],
   "source": [
    "from ibm_cloud_sdk_core.authenticators import BearerTokenAuthenticator\n",
    "from ibm_watson_openscale import *\n",
    "from ibm_watson_openscale.supporting_classes.enums import *\n",
    "from ibm_watson_openscale.supporting_classes import *\n",
    "from ibm_watson_openscale.base_classes.watson_open_scale_v2 import ScoringEndpointRequest\n",
    "from ibm_watson_openscale.base_classes.watson_open_scale_v2 import MonitorMeasurementRequest"
   ]
  },
  {
   "cell_type": "code",
   "execution_count": 45,
   "id": "specified-appreciation",
   "metadata": {
    "id": "32c50c01-9d70-45e0-bb73-9c33f3fcab2a",
    "tags": []
   },
   "outputs": [
    {
     "name": "stdout",
     "output_type": "stream",
     "text": [
      "Service provider ID: 1059fa1d-7dfc-4d7b-8e40-ae8aef72afe1\n"
     ]
    }
   ],
   "source": [
    "existing_providers_dict = wos_client.service_providers.list().get_result().to_dict()['service_providers']\n",
    "existing_providers = [sp['entity']['name'] for sp in existing_providers_dict]\n",
    "\n",
    "SERVICE_PROVIDER_ID = next((sp['metadata']['id'] for sp in existing_providers_dict \\\n",
    "                            if sp['entity']['name'] == SERVICE_PROVIDER_NAME))\n",
    "print(f\"Service provider ID: {SERVICE_PROVIDER_ID}\")"
   ]
  },
  {
   "cell_type": "code",
   "execution_count": 46,
   "id": "grand-farmer",
   "metadata": {
    "id": "64de8cc3-7355-464c-bfe9-adfac8944689",
    "tags": []
   },
   "outputs": [
    {
     "data": {
      "text/html": [
       "<HTML>\n",
       "        <body>\n",
       "            <h3>Service Providers</h3>\n",
       "            <table style='border: 1px solid #dddddd; font-family: Courier'>\n",
       "                <th style='border: 1px solid #dddddd'>instance_id</th><th style='border: 1px solid #dddddd'>status</th><th style='border: 1px solid #dddddd'>name</th><th style='border: 1px solid #dddddd'>service_type</th><th style='border: 1px solid #dddddd'>created_at</th><th style='border: 1px solid #dddddd'>id</th>\n",
       "                <tr><td style='border: 1px solid #dddddd'>None</td><td style='border: 1px solid #dddddd'>active</td><td style='border: 1px solid #dddddd'>OpenScale Headless Service Provider - Test</td><td style='border: 1px solid #dddddd'>custom_machine_learning</td><td style='border: 1px solid #dddddd'>2022-02-23 18:40:27.254000+00:00</td><td style='border: 1px solid #dddddd'>046a4364-6c34-4a66-ae25-ed83a9f764ec</td></tr><tr><td style='border: 1px solid #dddddd'>None</td><td style='border: 1px solid #dddddd'>active</td><td style='border: 1px solid #dddddd'>OpenScale Headless Service Provider</td><td style='border: 1px solid #dddddd'>custom_machine_learning</td><td style='border: 1px solid #dddddd'>2022-02-07 19:41:21.084000+00:00</td><td style='border: 1px solid #dddddd'>1059fa1d-7dfc-4d7b-8e40-ae8aef72afe1</td></tr><tr><td style='border: 1px solid #dddddd'>99999999-9999-9999-9999-999999999999</td><td style='border: 1px solid #dddddd'>active</td><td style='border: 1px solid #dddddd'>DeepLIIF WML Prod</td><td style='border: 1px solid #dddddd'>watson_machine_learning</td><td style='border: 1px solid #dddddd'>2022-01-13 19:11:00.897000+00:00</td><td style='border: 1px solid #dddddd'>09d6e718-c51f-41e2-9655-3991b6ac0104</td></tr><tr><td style='border: 1px solid #dddddd'>99999999-9999-9999-9999-999999999999</td><td style='border: 1px solid #dddddd'>active</td><td style='border: 1px solid #dddddd'>DeepLIIF WML Pre-Prod</td><td style='border: 1px solid #dddddd'>watson_machine_learning</td><td style='border: 1px solid #dddddd'>2022-01-13 19:10:38.638000+00:00</td><td style='border: 1px solid #dddddd'>1f4fab35-d955-4b91-a1f3-3dab72491116</td></tr><tr><td style='border: 1px solid #dddddd'>99999999-9999-9999-9999-999999999999</td><td style='border: 1px solid #dddddd'>active</td><td style='border: 1px solid #dddddd'>WOS ExpressPath WML pre_production binding</td><td style='border: 1px solid #dddddd'>watson_machine_learning</td><td style='border: 1px solid #dddddd'>2022-01-13 06:19:31.996000+00:00</td><td style='border: 1px solid #dddddd'>ae0d9dae-8599-400a-bcb9-0b5ab9e004f6</td></tr>\n",
       "            </table>\n",
       "        </body>\n",
       "        </HTML>"
      ],
      "text/plain": [
       "<IPython.core.display.HTML object>"
      ]
     },
     "metadata": {},
     "output_type": "display_data"
    }
   ],
   "source": [
    "wos_client.service_providers.show()"
   ]
  },
  {
   "cell_type": "code",
   "execution_count": 47,
   "id": "satisfied-pharmaceutical",
   "metadata": {
    "id": "40360718-21be-4d42-9f02-a05771c7f238",
    "tags": []
   },
   "outputs": [
    {
     "name": "stdout",
     "output_type": "stream",
     "text": [
      "Subscription ID: 5c983c3c-6ea7-4c84-9915-988fe259fe52\n"
     ]
    }
   ],
   "source": [
    "existing_subscriptions_dict = wos_client.subscriptions.list().get_result().to_dict()['subscriptions']\n",
    "existing_subscriptions = [sp['entity']['asset']['name'] for sp in existing_subscriptions_dict]\n",
    "\n",
    "if not SUBSCRIPTION_NAME in existing_subscriptions:\n",
    "    ASSET_ID = str(uuid.uuid4())\n",
    "    ASSET_NAME = SUBSCRIPTION_NAME\n",
    "    url = ''\n",
    "\n",
    "    ASSET_DEPLOYMENT_ID = str(uuid.uuid4())\n",
    "    ASSET_DEPLOYMENT_NAME = SUBSCRIPTION_NAME\n",
    "    \n",
    "    subscription_details = wos_client.subscriptions.add(\n",
    "        data_mart_id=WOS_GUID,\n",
    "        service_provider_id=SERVICE_PROVIDER_ID,\n",
    "        asset=Asset(\n",
    "            asset_id=ASSET_ID,\n",
    "            name=ASSET_NAME,\n",
    "            url=url,\n",
    "            asset_type=AssetTypes.MODEL,\n",
    "            input_data_type=InputDataType.STRUCTURED,\n",
    "            problem_type=ProblemType.MULTICLASS_CLASSIFICATION\n",
    "        ),\n",
    "        deployment=AssetDeploymentRequest(\n",
    "            deployment_id=ASSET_DEPLOYMENT_ID,\n",
    "            name=ASSET_DEPLOYMENT_NAME,\n",
    "            deployment_type= DeploymentTypes.ONLINE\n",
    "        ),\n",
    "        asset_properties=AssetPropertiesRequest(\n",
    "            probability_fields=['probability']\n",
    "            )\n",
    "    ).result\n",
    "    \n",
    "    SUBSCRIPTION_ID = subscription_details.metadata.id\n",
    "    print(\"Subscription ID: {}\".format(SUBSCRIPTION_ID))\n",
    "else:\n",
    "    SUBSCRIPTION_ID = next((sp['metadata']['id'] for sp in existing_subscriptions_dict \\\n",
    "                            if sp['entity']['asset']['name'] == SUBSCRIPTION_NAME))\n",
    "    print(\"Subscription ID: {}\".format(SUBSCRIPTION_ID))"
   ]
  },
  {
   "cell_type": "code",
   "execution_count": 48,
   "id": "aging-geometry",
   "metadata": {
    "id": "1dc5c86e-7dfb-402d-93bc-c54ea18a0251",
    "tags": []
   },
   "outputs": [
    {
     "data": {
      "text/html": [
       "<HTML>\n",
       "        <body>\n",
       "            <h3>Subscriptions</h3>\n",
       "            <table style='border: 1px solid #dddddd; font-family: Courier'>\n",
       "                <th style='border: 1px solid #dddddd'>asset_id</th><th style='border: 1px solid #dddddd'>asset_name</th><th style='border: 1px solid #dddddd'>data_mart_id</th><th style='border: 1px solid #dddddd'>deployment_id</th><th style='border: 1px solid #dddddd'>deployment_name</th><th style='border: 1px solid #dddddd'>service_provider_id</th><th style='border: 1px solid #dddddd'>status</th><th style='border: 1px solid #dddddd'>created_at</th><th style='border: 1px solid #dddddd'>id</th>\n",
       "                <tr><td style='border: 1px solid #dddddd'>0a0931ad-2ce2-4435-90a8-0ed1467fefcf</td><td style='border: 1px solid #dddddd'>cifar monitor wendy</td><td style='border: 1px solid #dddddd'>00000000-0000-0000-0000-000000000000</td><td style='border: 1px solid #dddddd'>98e120b4-0677-4275-bad7-2423085dc932</td><td style='border: 1px solid #dddddd'>cifar monitor wendy</td><td style='border: 1px solid #dddddd'>1059fa1d-7dfc-4d7b-8e40-ae8aef72afe1</td><td style='border: 1px solid #dddddd'>active</td><td style='border: 1px solid #dddddd'>2022-03-31 20:49:19.363000+00:00</td><td style='border: 1px solid #dddddd'>5c983c3c-6ea7-4c84-9915-988fe259fe52</td></tr><tr><td style='border: 1px solid #dddddd'>59ca2dc0-5155-46aa-b625-3e3d2b823e77</td><td style='border: 1px solid #dddddd'>deepliif-wendy-test9 Monitor</td><td style='border: 1px solid #dddddd'>00000000-0000-0000-0000-000000000000</td><td style='border: 1px solid #dddddd'>1727641c-8d1a-4e0e-8e52-283cc8fd028c</td><td style='border: 1px solid #dddddd'>deepliif-wendy-test9 Monitor</td><td style='border: 1px solid #dddddd'>1059fa1d-7dfc-4d7b-8e40-ae8aef72afe1</td><td style='border: 1px solid #dddddd'>active</td><td style='border: 1px solid #dddddd'>2022-03-21 22:05:44.342000+00:00</td><td style='border: 1px solid #dddddd'>f359c41d-698e-4efa-9da0-222e8b50ced7</td></tr><tr><td style='border: 1px solid #dddddd'>80f88f3e-e7ed-41e0-8546-2a6732dea0e2</td><td style='border: 1px solid #dddddd'>deepliif-wendy Monitor</td><td style='border: 1px solid #dddddd'>00000000-0000-0000-0000-000000000000</td><td style='border: 1px solid #dddddd'>e06982a9-7e72-4d47-9656-6cb7e65bf9a4</td><td style='border: 1px solid #dddddd'>deepliif-wendy Monitor</td><td style='border: 1px solid #dddddd'>1059fa1d-7dfc-4d7b-8e40-ae8aef72afe1</td><td style='border: 1px solid #dddddd'>active</td><td style='border: 1px solid #dddddd'>2022-03-18 15:08:03.898000+00:00</td><td style='border: 1px solid #dddddd'>54f5e250-d12a-4f9a-89bd-423d0a2faeab</td></tr><tr><td style='border: 1px solid #dddddd'>9f2cd22a-15fc-4046-988a-5270a414a331</td><td style='border: 1px solid #dddddd'>DeepLIIF Monitor drew</td><td style='border: 1px solid #dddddd'>00000000-0000-0000-0000-000000000000</td><td style='border: 1px solid #dddddd'>6c562b7a-9a82-4a97-81ce-78857f71de79</td><td style='border: 1px solid #dddddd'>DeepLIIF Monitor drew</td><td style='border: 1px solid #dddddd'>1059fa1d-7dfc-4d7b-8e40-ae8aef72afe1</td><td style='border: 1px solid #dddddd'>active</td><td style='border: 1px solid #dddddd'>2022-03-09 18:42:29.239000+00:00</td><td style='border: 1px solid #dddddd'>ae81dd6d-19d1-4fae-96aa-b17768261997</td></tr><tr><td style='border: 1px solid #dddddd'>6eb7d805-d311-4bc3-878d-5d43edb76ad3</td><td style='border: 1px solid #dddddd'>GermanCreditRiskModelPreProdICP</td><td style='border: 1px solid #dddddd'>00000000-0000-0000-0000-000000000000</td><td style='border: 1px solid #dddddd'>5549aabc-ca61-46ce-ab8a-d7d33cc1b1d5</td><td style='border: 1px solid #dddddd'>GermanCreditRiskModelPreProdICP</td><td style='border: 1px solid #dddddd'>ae0d9dae-8599-400a-bcb9-0b5ab9e004f6</td><td style='border: 1px solid #dddddd'>active</td><td style='border: 1px solid #dddddd'>2022-01-13 06:23:13.902000+00:00</td><td style='border: 1px solid #dddddd'>3944c36d-c97d-4cbe-9066-d9637f4ec715</td></tr><tr><td style='border: 1px solid #dddddd'>a6e676d0-c9c3-4c7a-b1b3-5fdf10e2b22d</td><td style='border: 1px solid #dddddd'>GermanCreditRiskModelChallengerICP</td><td style='border: 1px solid #dddddd'>00000000-0000-0000-0000-000000000000</td><td style='border: 1px solid #dddddd'>641e28cf-ea00-4867-9562-5cb7bfaa281c</td><td style='border: 1px solid #dddddd'>GermanCreditRiskModelChallengerICP</td><td style='border: 1px solid #dddddd'>ae0d9dae-8599-400a-bcb9-0b5ab9e004f6</td><td style='border: 1px solid #dddddd'>active</td><td style='border: 1px solid #dddddd'>2022-01-13 06:21:41.540000+00:00</td><td style='border: 1px solid #dddddd'>ec94173d-6cfa-4f47-ae04-5fb1497710f5</td></tr>\n",
       "            </table>\n",
       "        </body>\n",
       "        </HTML>"
      ],
      "text/plain": [
       "<IPython.core.display.HTML object>"
      ]
     },
     "metadata": {},
     "output_type": "display_data"
    }
   ],
   "source": [
    "wos_client.subscriptions.show()"
   ]
  },
  {
   "cell_type": "markdown",
   "id": "impressive-proceeding",
   "metadata": {
    "id": "c80a8f62-2aa3-436b-b85e-a97c0042e743"
   },
   "source": [
    "## 2. Configure Custom Metric Monitors"
   ]
  },
  {
   "cell_type": "markdown",
   "id": "stopped-point",
   "metadata": {
    "id": "e968edf9-cbd8-4bcb-9d5a-62a320d8125a"
   },
   "source": [
    "### Check existence of custom monitor instance"
   ]
  },
  {
   "cell_type": "code",
   "execution_count": 49,
   "id": "opposite-bosnia",
   "metadata": {
    "id": "8e2b72fb-e7c8-4dc3-92af-3bc5def80808",
    "tags": []
   },
   "outputs": [],
   "source": [
    "monitor_id = 'dummy_monitor_wendy'"
   ]
  },
  {
   "cell_type": "code",
   "execution_count": 50,
   "id": "mobile-memphis",
   "metadata": {
    "id": "c2cb7c2b-40b7-4f4d-a6f8-d2fee31b0ba1",
    "tags": []
   },
   "outputs": [
    {
     "name": "stdout",
     "output_type": "stream",
     "text": [
      "No existing instance for monitor dummy_monitor_wendy found with subscription 5c983c3c-6ea7-4c84-9915-988fe259fe52\n"
     ]
    }
   ],
   "source": [
    "existing_monitor_instance = wos_util.get_monitor_instance(monitor_id,SUBSCRIPTION_ID,wos_client)\n",
    "existing_monitor_instance"
   ]
  },
  {
   "cell_type": "markdown",
   "id": "palestinian-division",
   "metadata": {
    "id": "5323f4f8-94e1-4ce7-93d8-3abde807ea67"
   },
   "source": [
    "### Create one custom monitor instance per monitor"
   ]
  },
  {
   "cell_type": "code",
   "execution_count": 51,
   "id": "toxic-shopper",
   "metadata": {
    "id": "23af683f-ac89-43ca-a7e7-ed32460b52ce",
    "tags": []
   },
   "outputs": [],
   "source": [
    "integrated_system_id = 'cb642a26-e270-408d-8aef-4042543eadab'"
   ]
  },
  {
   "cell_type": "code",
   "execution_count": 52,
   "id": "bulgarian-movie",
   "metadata": {
    "id": "255c2b85-91dd-4fa4-8713-22aa215e9484",
    "tags": []
   },
   "outputs": [],
   "source": [
    "# Openscale MRM service invokes custom metrics deployment url during runtime and wait for the default time of 60 second's to \n",
    "# to check the run status ie finished/Failed and fetch the latest measurement. Increase the wait time, if the runtime deployment \n",
    "# takes more than 60 seconds to compute and publish the custom metrics \n",
    "\n",
    "#Update the wait time here.\n",
    "custom_metrics_wait_time = 360 #time in seconds <update the time here>"
   ]
  },
  {
   "cell_type": "code",
   "execution_count": 53,
   "id": "seventh-delay",
   "metadata": {
    "id": "597368d7-8784-46af-8375-b7ea60d937be",
    "tags": []
   },
   "outputs": [
    {
     "name": "stdout",
     "output_type": "stream",
     "text": [
      "\n",
      "\n",
      "===================================================================================\n",
      "\n",
      " Waiting for end of monitor instance creation 17cfb8f9-6eb3-471e-a38f-3bdb5a3f724c \n",
      "\n",
      "===================================================================================\n",
      "\n",
      "\n",
      "\n",
      "active\n",
      "\n",
      "---------------------------------------\n",
      " Monitor instance successfully created \n",
      "---------------------------------------\n",
      "\n",
      "\n"
     ]
    },
    {
     "data": {
      "text/plain": [
       "<ibm_watson_openscale.base_classes.watson_open_scale_v2.MonitorInstanceResponse at 0x7f33fcb8c7f0>"
      ]
     },
     "execution_count": 53,
     "metadata": {},
     "output_type": "execute_result"
    }
   ],
   "source": [
    "# If it does not exist, then create one\n",
    "if existing_monitor_instance is None:\n",
    "    target = Target(\n",
    "            target_type=TargetTypes.SUBSCRIPTION,\n",
    "            target_id=SUBSCRIPTION_ID\n",
    "        )\n",
    "    parameters = {\n",
    "        \"custom_metrics_provider_id\": integrated_system_id,\n",
    "        \"custom_metrics_wait_time\":   custom_metrics_wait_time \n",
    "    }\n",
    "\n",
    "    #Update your custom monitor metric ids in the below thresholds to update the default value\n",
    "    thresholds = [ MetricThresholdOverride(metric_id='sensitivity', type = MetricThresholdTypes.LOWER_LIMIT, value=0.85),\n",
    "                   MetricThresholdOverride(metric_id='specificity', type = MetricThresholdTypes.LOWER_LIMIT, value=0.7)]\n",
    "    # create the custom monitor instance id here.\n",
    "    custom_monitor_instance_details = wos_client.monitor_instances.create(\n",
    "                data_mart_id=WOS_GUID,\n",
    "                background_mode=False,\n",
    "                monitor_definition_id=monitor_id,\n",
    "                target=target,\n",
    "                parameters=parameters,\n",
    "                thresholds = thresholds\n",
    "    ).result\n",
    "else:\n",
    "    pass\n",
    "\n",
    "custom_monitor_instance_details"
   ]
  },
  {
   "cell_type": "markdown",
   "id": "crude-contract",
   "metadata": {
    "id": "bb4d670b-c757-4b54-8882-4ddb3a77cbe7"
   },
   "source": [
    "### Manual Evaluation"
   ]
  },
  {
   "cell_type": "code",
   "execution_count": 54,
   "id": "affiliated-fantasy",
   "metadata": {
    "id": "929dd514-83c2-4e7b-9825-1390753c4936",
    "tags": []
   },
   "outputs": [
    {
     "name": "stdout",
     "output_type": "stream",
     "text": [
      "****************************** dummy_monitor_wendy ******************************\n",
      "{'error_msg': 'Expecting value: line 1 column 1 (char 0)', 'predictions': []}\n"
     ]
    }
   ],
   "source": [
    "import uuid\n",
    "from pprint import pprint\n",
    "\n",
    "subscription_id = SUBSCRIPTION_ID\n",
    "wml_deployment_id = '4f07b97a-c4c0-43d0-964c-1e8ce9d87ccd'\n",
    "\n",
    "print('*'*30,monitor_id,'*'*30)\n",
    "parameters = {\n",
    "    \"custom_metrics_provider_id\": integrated_system_id,\n",
    "    \"custom_metrics_wait_time\":   custom_metrics_wait_time,\n",
    "    \"run_details\": {\n",
    "    \"run_id\": str(uuid.uuid4()),\n",
    "    \"run_status\": \"Running\"\n",
    "    }\n",
    "}\n",
    "\n",
    "payload= {\n",
    "    \"data_mart_id\" : WOS_GUID,\n",
    "    \"subscription_id\" : subscription_id,\n",
    "    \"custom_monitor_id\" : monitor_id,\n",
    "    \"custom_monitor_instance_id\" : custom_monitor_instance_details.metadata.id,\n",
    "    \"custom_monitor_instance_params\": parameters\n",
    "\n",
    "}\n",
    "\n",
    "input_data= { \"input_data\": [ { \"values\": payload } ]\n",
    "            }\n",
    "\n",
    "#     print(input_data)\n",
    "\n",
    "job_details = wml_client.deployments.score(wml_deployment_id, input_data)\n",
    "pprint(job_details)"
   ]
  },
  {
   "cell_type": "code",
   "execution_count": null,
   "id": "honest-rover",
   "metadata": {
    "id": "d64b1b49-d3b8-4679-99b2-142f3bc99511"
   },
   "outputs": [],
   "source": []
  }
 ],
 "metadata": {
  "kernelspec": {
   "display_name": "Python 3.8 with applications",
   "language": "python",
   "name": "python3"
  },
  "language_info": {
   "codemirror_mode": {
    "name": "ipython",
    "version": 3
   },
   "file_extension": ".py",
   "mimetype": "text/x-python",
   "name": "python",
   "nbconvert_exporter": "python",
   "pygments_lexer": "ipython3",
   "version": "3.8.11"
  }
 },
 "nbformat": 4,
 "nbformat_minor": 5
}
