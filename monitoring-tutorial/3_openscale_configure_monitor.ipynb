{
 "cells": [
  {
   "cell_type": "markdown",
   "id": "favorite-matter",
   "metadata": {
    "id": "d099020b-2f0b-403f-9384-ab66227d5978"
   },
   "source": [
    "# OpenScale Configuration\n",
    "\n",
    "This notebook \n",
    "1. creates a dummy subscription\n",
    "2. for the dummy subscription, creates and configures a custom monitor"
   ]
  },
  {
   "cell_type": "code",
   "execution_count": 1,
   "id": "impaired-certificate",
   "metadata": {
    "id": "e2ef5cb6-cd00-4605-b1d1-b6e8a88082da",
    "tags": []
   },
   "outputs": [],
   "source": [
    "import os\n",
    "import json\n",
    "from datetime import datetime, timezone, timedelta\n",
    "import time\n",
    "import uuid\n",
    "from ibm_watson_openscale.base_classes.watson_open_scale_v2 import WMLCredentialsCP4D\n",
    "import urllib3\n",
    "urllib3.disable_warnings(urllib3.exceptions.InsecureRequestWarning)\n",
    "\n",
    "import wos_sdk_utils as wos_util\n",
    "import wml_sdk_utils as wml_util"
   ]
  },
  {
   "cell_type": "code",
   "execution_count": 2,
   "id": "operating-strategy",
   "metadata": {
    "id": "e13165fb-f527-46bd-8810-dc8e780efd82",
    "tags": []
   },
   "outputs": [],
   "source": [
    "SERVICE_PROVIDER_NAME = \"OpenScale Headless Service Provider\"\n",
    "SUBSCRIPTION_NAME = \"cifar monitor wendy\"\n",
    "\n",
    "WML_SPACE_ID = '934341dc-0a71-4d86-9c09-a47261359cca' \n",
    "\n",
    "WOS_GUID = '00000000-0000-0000-0000-000000000000'"
   ]
  },
  {
   "cell_type": "code",
   "execution_count": 3,
   "id": "average-registration",
   "metadata": {
    "id": "1bee7ffb-46dc-471a-8aae-3c259bda1791",
    "tags": []
   },
   "outputs": [],
   "source": [
    "wos_client = wos_util.get_client()\n",
    "wml_client = wml_util.get_client(space_id=WML_SPACE_ID)"
   ]
  },
  {
   "cell_type": "markdown",
   "id": "organic-series",
   "metadata": {
    "id": "1c26a1aa-b0f1-4990-be62-a189b7ffe8cb"
   },
   "source": [
    "## 1. Create Subscription\n",
    "Here we create a dummy subscription that does not link to a real deployment endpoint."
   ]
  },
  {
   "cell_type": "code",
   "execution_count": 4,
   "id": "animal-orchestra",
   "metadata": {
    "id": "89161e5a-609b-418a-a720-c3a9d68becac",
    "tags": []
   },
   "outputs": [],
   "source": [
    "from ibm_cloud_sdk_core.authenticators import BearerTokenAuthenticator\n",
    "from ibm_watson_openscale import *\n",
    "from ibm_watson_openscale.supporting_classes.enums import *\n",
    "from ibm_watson_openscale.supporting_classes import *\n",
    "from ibm_watson_openscale.base_classes.watson_open_scale_v2 import ScoringEndpointRequest\n",
    "from ibm_watson_openscale.base_classes.watson_open_scale_v2 import MonitorMeasurementRequest"
   ]
  },
  {
   "cell_type": "code",
   "execution_count": 5,
   "id": "material-delight",
   "metadata": {
    "id": "32c50c01-9d70-45e0-bb73-9c33f3fcab2a",
    "tags": []
   },
   "outputs": [
    {
     "name": "stdout",
     "output_type": "stream",
     "text": [
      "Service provider ID: 42431cc1-115a-49b8-b6b7-b73527804739\n"
     ]
    }
   ],
   "source": [
    "existing_providers_dict = wos_client.service_providers.list().get_result().to_dict()['service_providers']\n",
    "existing_providers = [sp['entity']['name'] for sp in existing_providers_dict]\n",
    "\n",
    "SERVICE_PROVIDER_ID = next((sp['metadata']['id'] for sp in existing_providers_dict \\\n",
    "                            if sp['entity']['name'] == SERVICE_PROVIDER_NAME))\n",
    "print(f\"Service provider ID: {SERVICE_PROVIDER_ID}\")"
   ]
  },
  {
   "cell_type": "code",
   "execution_count": 6,
   "id": "stainless-drawing",
   "metadata": {
    "id": "64de8cc3-7355-464c-bfe9-adfac8944689",
    "tags": []
   },
   "outputs": [
    {
     "data": {
      "text/html": [
       "<HTML>\n",
       "        <body>\n",
       "            <h3>Service Providers</h3>\n",
       "            <table style='border: 1px solid #dddddd; font-family: Courier'>\n",
       "                <th style='border: 1px solid #dddddd'>instance_id</th><th style='border: 1px solid #dddddd'>status</th><th style='border: 1px solid #dddddd'>name</th><th style='border: 1px solid #dddddd'>service_type</th><th style='border: 1px solid #dddddd'>created_at</th><th style='border: 1px solid #dddddd'>id</th>\n",
       "                <tr><td style='border: 1px solid #dddddd'>None</td><td style='border: 1px solid #dddddd'>active</td><td style='border: 1px solid #dddddd'>OpenScale Headless Service Provider</td><td style='border: 1px solid #dddddd'>custom_machine_learning</td><td style='border: 1px solid #dddddd'>2022-05-03 14:45:46.933000+00:00</td><td style='border: 1px solid #dddddd'>42431cc1-115a-49b8-b6b7-b73527804739</td></tr><tr><td style='border: 1px solid #dddddd'>99999999-9999-9999-9999-999999999999</td><td style='border: 1px solid #dddddd'>active</td><td style='border: 1px solid #dddddd'>WOS ExpressPath WML pre_production binding</td><td style='border: 1px solid #dddddd'>watson_machine_learning</td><td style='border: 1px solid #dddddd'>2022-01-13 06:19:31.996000+00:00</td><td style='border: 1px solid #dddddd'>ae0d9dae-8599-400a-bcb9-0b5ab9e004f6</td></tr>\n",
       "            </table>\n",
       "        </body>\n",
       "        </HTML>"
      ],
      "text/plain": [
       "<IPython.core.display.HTML object>"
      ]
     },
     "metadata": {},
     "output_type": "display_data"
    }
   ],
   "source": [
    "wos_client.service_providers.show()"
   ]
  },
  {
   "cell_type": "code",
   "execution_count": 7,
   "id": "surface-aviation",
   "metadata": {
    "id": "40360718-21be-4d42-9f02-a05771c7f238",
    "tags": []
   },
   "outputs": [
    {
     "name": "stdout",
     "output_type": "stream",
     "text": [
      "Subscription ID: 0ed3bd5b-6e13-4863-95d7-82ba35900285\n"
     ]
    }
   ],
   "source": [
    "existing_subscriptions_dict = wos_client.subscriptions.list().get_result().to_dict()['subscriptions']\n",
    "existing_subscriptions = [sp['entity']['asset']['name'] for sp in existing_subscriptions_dict]\n",
    "\n",
    "if not SUBSCRIPTION_NAME in existing_subscriptions:\n",
    "    \n",
    "    # generate dummy information\n",
    "    ASSET_ID = str(uuid.uuid4())\n",
    "    ASSET_NAME = SUBSCRIPTION_NAME\n",
    "    url = ''\n",
    "\n",
    "    ASSET_DEPLOYMENT_ID = str(uuid.uuid4())\n",
    "    ASSET_DEPLOYMENT_NAME = SUBSCRIPTION_NAME\n",
    "    \n",
    "    # pass dummy information to create a dummy subscription\n",
    "    subscription_details = wos_client.subscriptions.add(\n",
    "        data_mart_id=WOS_GUID,\n",
    "        service_provider_id=SERVICE_PROVIDER_ID,\n",
    "        asset=Asset(\n",
    "            asset_id=ASSET_ID,\n",
    "            name=ASSET_NAME,\n",
    "            url=url,\n",
    "            asset_type=AssetTypes.MODEL,\n",
    "            input_data_type=InputDataType.STRUCTURED,\n",
    "            problem_type=ProblemType.MULTICLASS_CLASSIFICATION\n",
    "        ),\n",
    "        deployment=AssetDeploymentRequest(\n",
    "            deployment_id=ASSET_DEPLOYMENT_ID,\n",
    "            name=ASSET_DEPLOYMENT_NAME,\n",
    "            deployment_type= DeploymentTypes.ONLINE\n",
    "        ),\n",
    "        asset_properties=AssetPropertiesRequest(\n",
    "            probability_fields=['probability']\n",
    "            )\n",
    "    ).result\n",
    "    \n",
    "    SUBSCRIPTION_ID = subscription_details.metadata.id\n",
    "    print(\"Subscription ID: {}\".format(SUBSCRIPTION_ID))\n",
    "else:\n",
    "    SUBSCRIPTION_ID = next((sp['metadata']['id'] for sp in existing_subscriptions_dict \\\n",
    "                            if sp['entity']['asset']['name'] == SUBSCRIPTION_NAME))\n",
    "    print(\"Subscription ID: {}\".format(SUBSCRIPTION_ID))"
   ]
  },
  {
   "cell_type": "code",
   "execution_count": 8,
   "id": "forward-circulation",
   "metadata": {
    "id": "1dc5c86e-7dfb-402d-93bc-c54ea18a0251",
    "tags": []
   },
   "outputs": [
    {
     "data": {
      "text/html": [
       "<HTML>\n",
       "        <body>\n",
       "            <h3>Subscriptions</h3>\n",
       "            <table style='border: 1px solid #dddddd; font-family: Courier'>\n",
       "                <th style='border: 1px solid #dddddd'>asset_id</th><th style='border: 1px solid #dddddd'>asset_name</th><th style='border: 1px solid #dddddd'>data_mart_id</th><th style='border: 1px solid #dddddd'>deployment_id</th><th style='border: 1px solid #dddddd'>deployment_name</th><th style='border: 1px solid #dddddd'>service_provider_id</th><th style='border: 1px solid #dddddd'>status</th><th style='border: 1px solid #dddddd'>created_at</th><th style='border: 1px solid #dddddd'>id</th>\n",
       "                <tr><td style='border: 1px solid #dddddd'>291c22ee-90cd-43c8-bbac-095ee2cbd429</td><td style='border: 1px solid #dddddd'>cifar monitor wendy</td><td style='border: 1px solid #dddddd'>00000000-0000-0000-0000-000000000000</td><td style='border: 1px solid #dddddd'>fd2ca910-2c64-4bc6-98ae-6546665fe75a</td><td style='border: 1px solid #dddddd'>cifar monitor wendy</td><td style='border: 1px solid #dddddd'>42431cc1-115a-49b8-b6b7-b73527804739</td><td style='border: 1px solid #dddddd'>active</td><td style='border: 1px solid #dddddd'>2022-05-03 20:27:31.457000+00:00</td><td style='border: 1px solid #dddddd'>0ed3bd5b-6e13-4863-95d7-82ba35900285</td></tr><tr><td style='border: 1px solid #dddddd'>6eb7d805-d311-4bc3-878d-5d43edb76ad3</td><td style='border: 1px solid #dddddd'>GermanCreditRiskModelPreProdICP</td><td style='border: 1px solid #dddddd'>00000000-0000-0000-0000-000000000000</td><td style='border: 1px solid #dddddd'>5549aabc-ca61-46ce-ab8a-d7d33cc1b1d5</td><td style='border: 1px solid #dddddd'>GermanCreditRiskModelPreProdICP</td><td style='border: 1px solid #dddddd'>ae0d9dae-8599-400a-bcb9-0b5ab9e004f6</td><td style='border: 1px solid #dddddd'>active</td><td style='border: 1px solid #dddddd'>2022-01-13 06:23:13.902000+00:00</td><td style='border: 1px solid #dddddd'>3944c36d-c97d-4cbe-9066-d9637f4ec715</td></tr><tr><td style='border: 1px solid #dddddd'>a6e676d0-c9c3-4c7a-b1b3-5fdf10e2b22d</td><td style='border: 1px solid #dddddd'>GermanCreditRiskModelChallengerICP</td><td style='border: 1px solid #dddddd'>00000000-0000-0000-0000-000000000000</td><td style='border: 1px solid #dddddd'>641e28cf-ea00-4867-9562-5cb7bfaa281c</td><td style='border: 1px solid #dddddd'>GermanCreditRiskModelChallengerICP</td><td style='border: 1px solid #dddddd'>ae0d9dae-8599-400a-bcb9-0b5ab9e004f6</td><td style='border: 1px solid #dddddd'>active</td><td style='border: 1px solid #dddddd'>2022-01-13 06:21:41.540000+00:00</td><td style='border: 1px solid #dddddd'>ec94173d-6cfa-4f47-ae04-5fb1497710f5</td></tr>\n",
       "            </table>\n",
       "        </body>\n",
       "        </HTML>"
      ],
      "text/plain": [
       "<IPython.core.display.HTML object>"
      ]
     },
     "metadata": {},
     "output_type": "display_data"
    }
   ],
   "source": [
    "wos_client.subscriptions.show()"
   ]
  },
  {
   "cell_type": "markdown",
   "id": "distant-potter",
   "metadata": {
    "id": "c80a8f62-2aa3-436b-b85e-a97c0042e743"
   },
   "source": [
    "## 2. Configure Custom Metric Monitors"
   ]
  },
  {
   "cell_type": "markdown",
   "id": "statutory-sector",
   "metadata": {
    "id": "e968edf9-cbd8-4bcb-9d5a-62a320d8125a"
   },
   "source": [
    "### Check existence of custom monitor instance"
   ]
  },
  {
   "cell_type": "code",
   "execution_count": 9,
   "id": "cutting-massage",
   "metadata": {
    "id": "8e2b72fb-e7c8-4dc3-92af-3bc5def80808",
    "tags": []
   },
   "outputs": [],
   "source": [
    "monitor_id = 'dummy_monitor_example_wendy'"
   ]
  },
  {
   "cell_type": "code",
   "execution_count": 10,
   "id": "motivated-cradle",
   "metadata": {
    "id": "c2cb7c2b-40b7-4f4d-a6f8-d2fee31b0ba1",
    "tags": []
   },
   "outputs": [
    {
     "name": "stdout",
     "output_type": "stream",
     "text": [
      "No existing instance for monitor dummy_monitor_example_wendy found with subscription 0ed3bd5b-6e13-4863-95d7-82ba35900285\n"
     ]
    }
   ],
   "source": [
    "existing_monitor_instance = wos_util.get_monitor_instance(monitor_id,SUBSCRIPTION_ID,wos_client)\n",
    "existing_monitor_instance"
   ]
  },
  {
   "cell_type": "markdown",
   "id": "excessive-blackjack",
   "metadata": {
    "id": "5323f4f8-94e1-4ce7-93d8-3abde807ea67"
   },
   "source": [
    "### Create one custom monitor instance per monitor"
   ]
  },
  {
   "cell_type": "code",
   "execution_count": 11,
   "id": "rubber-audit",
   "metadata": {
    "id": "23af683f-ac89-43ca-a7e7-ed32460b52ce",
    "tags": []
   },
   "outputs": [],
   "source": [
    "integrated_system_id = '9e9ed5ba-b462-422c-b9cb-cb3becbdfb9d'\n",
    "custom_metrics_wait_time = 360 # time in seconds "
   ]
  },
  {
   "cell_type": "code",
   "execution_count": 12,
   "id": "bizarre-blame",
   "metadata": {
    "id": "597368d7-8784-46af-8375-b7ea60d937be",
    "tags": []
   },
   "outputs": [
    {
     "name": "stdout",
     "output_type": "stream",
     "text": [
      "\n",
      "\n",
      "===================================================================================\n",
      "\n",
      " Waiting for end of monitor instance creation 97fbef2e-d8a7-4a9e-8ac8-7bbc0e6ae2db \n",
      "\n",
      "===================================================================================\n",
      "\n",
      "\n",
      "\n",
      "active\n",
      "\n",
      "---------------------------------------\n",
      " Monitor instance successfully created \n",
      "---------------------------------------\n",
      "\n",
      "\n"
     ]
    },
    {
     "data": {
      "text/plain": [
       "<ibm_watson_openscale.base_classes.watson_open_scale_v2.MonitorInstanceResponse at 0x7f7f58641e50>"
      ]
     },
     "execution_count": 12,
     "metadata": {},
     "output_type": "execute_result"
    }
   ],
   "source": [
    "# If it does not exist, then create one\n",
    "if existing_monitor_instance is None:\n",
    "    target = Target(\n",
    "            target_type=TargetTypes.SUBSCRIPTION,\n",
    "            target_id=SUBSCRIPTION_ID\n",
    "        )\n",
    "    parameters = {\n",
    "        \"custom_metrics_provider_id\": integrated_system_id,\n",
    "        \"custom_metrics_wait_time\":   custom_metrics_wait_time \n",
    "    }\n",
    "\n",
    "    # Update the threshold for metrics in your custom monitor metric\n",
    "    thresholds = [ MetricThresholdOverride(metric_id='sensitivity', type = MetricThresholdTypes.LOWER_LIMIT, value=100),\n",
    "                   MetricThresholdOverride(metric_id='specificity', type = MetricThresholdTypes.LOWER_LIMIT, value=800)]\n",
    "\n",
    "    # create the custom monitor instance id here.\n",
    "    custom_monitor_instance_details = wos_client.monitor_instances.create(\n",
    "                data_mart_id=WOS_GUID,\n",
    "                background_mode=False,\n",
    "                monitor_definition_id=monitor_id,\n",
    "                target=target,\n",
    "                parameters=parameters,\n",
    "                thresholds = thresholds\n",
    "    ).result\n",
    "else:\n",
    "    pass\n",
    "\n",
    "custom_monitor_instance_details"
   ]
  },
  {
   "cell_type": "markdown",
   "id": "bulgarian-declaration",
   "metadata": {
    "id": "bb4d670b-c757-4b54-8882-4ddb3a77cbe7"
   },
   "source": [
    "### Manual Evaluation"
   ]
  },
  {
   "cell_type": "code",
   "execution_count": 13,
   "id": "laughing-ratio",
   "metadata": {
    "id": "929dd514-83c2-4e7b-9825-1390753c4936",
    "tags": []
   },
   "outputs": [
    {
     "name": "stdout",
     "output_type": "stream",
     "text": [
      "****************************** dummy_monitor_example_wendy ******************************\n",
      "{'predictions': [{'values': [[{'measurement_id': 'd99f1c28-d046-46b9-826c-1b7d0f57e439',\n",
      "                               'metrics': [{'sensitivity': 0.85,\n",
      "                                            'specificity': 1.2}],\n",
      "                               'run_id': 'dcaa6b1d-28d4-4737-82c1-c7ba7a332ca5',\n",
      "                               'timestamp': '2022-05-03T21:13:58.014515Z'}]]}]}\n"
     ]
    }
   ],
   "source": [
    "import uuid\n",
    "from pprint import pprint\n",
    "\n",
    "subscription_id = SUBSCRIPTION_ID\n",
    "wml_deployment_id = 'af5ea879-60b8-4f9e-a276-893e1f986a34'\n",
    "\n",
    "print('*'*30,monitor_id,'*'*30)\n",
    "parameters = {\n",
    "    \"custom_metrics_provider_id\": integrated_system_id,\n",
    "    \"custom_metrics_wait_time\":   custom_metrics_wait_time,\n",
    "    \"run_details\": {\n",
    "    \"run_id\": str(uuid.uuid4()),\n",
    "    \"run_status\": \"Running\"\n",
    "    }\n",
    "}\n",
    "\n",
    "payload= {\n",
    "    \"data_mart_id\" : WOS_GUID,\n",
    "    \"subscription_id\" : subscription_id,\n",
    "    \"custom_monitor_id\" : monitor_id,\n",
    "    \"custom_monitor_instance_id\" : custom_monitor_instance_details.metadata.id,\n",
    "    \"custom_monitor_instance_params\": parameters\n",
    "\n",
    "}\n",
    "\n",
    "input_data= { \"input_data\": [ { \"values\": payload } ]\n",
    "            }\n",
    "\n",
    "#     print(input_data)\n",
    "\n",
    "job_details = wml_client.deployments.score(wml_deployment_id, input_data)\n",
    "pprint(job_details)"
   ]
  }
 ],
 "metadata": {
  "kernelspec": {
   "display_name": "Python 3.8 with applications",
   "language": "python",
   "name": "python3"
  },
  "language_info": {
   "codemirror_mode": {
    "name": "ipython",
    "version": 3
   },
   "file_extension": ".py",
   "mimetype": "text/x-python",
   "name": "python",
   "nbconvert_exporter": "python",
   "pygments_lexer": "ipython3",
   "version": "3.8.11"
  }
 },
 "nbformat": 4,
 "nbformat_minor": 5
}
