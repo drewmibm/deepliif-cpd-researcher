{
 "cells": [
  {
   "cell_type": "code",
   "execution_count": null,
   "id": "fatty-ideal",
   "metadata": {
    "id": "e2ef5cb6-cd00-4605-b1d1-b6e8a88082da",
    "tags": []
   },
   "outputs": [],
   "source": [
    "import os\n",
    "import json\n",
    "from datetime import datetime, timezone, timedelta\n",
    "import time\n",
    "import uuid\n",
    "from ibm_watson_openscale.base_classes.watson_open_scale_v2 import WMLCredentialsCP4D\n",
    "import urllib3\n",
    "urllib3.disable_warnings(urllib3.exceptions.InsecureRequestWarning)\n",
    "\n",
    "import wos_sdk_utils as wos_util\n",
    "import wml_sdk_utils as wml_util"
   ]
  },
  {
   "cell_type": "markdown",
   "id": "dependent-stationery",
   "metadata": {
    "id": "d099020b-2f0b-403f-9384-ab66227d5978"
   },
   "source": [
    "# OpenScale Configuration"
   ]
  },
  {
   "cell_type": "code",
   "execution_count": null,
   "id": "cross-affiliate",
   "metadata": {
    "id": "e13165fb-f527-46bd-8810-dc8e780efd82",
    "tags": []
   },
   "outputs": [],
   "source": [
    "SERVICE_PROVIDER_NAME = \"OpenScale Headless Service Provider\"\n",
    "SUBSCRIPTION_NAME = \"cifar monitor wendy\"\n",
    "\n",
    "WML_SPACE_ID = '416d5be2-0964-4605-aa0a-e1764a78f916' \n",
    "\n",
    "WOS_GUID = '00000000-0000-0000-0000-000000000000'"
   ]
  },
  {
   "cell_type": "code",
   "execution_count": null,
   "id": "pleased-nepal",
   "metadata": {
    "id": "1bee7ffb-46dc-471a-8aae-3c259bda1791",
    "tags": []
   },
   "outputs": [],
   "source": [
    "wos_client = wos_util.get_client()\n",
    "wml_client = wml_util.get_client(space_id=WML_SPACE_ID)"
   ]
  },
  {
   "cell_type": "markdown",
   "id": "seven-toronto",
   "metadata": {
    "id": "1c26a1aa-b0f1-4990-be62-a189b7ffe8cb"
   },
   "source": [
    "## 1. Subscribe to Deployment\n",
    "Here we create a dummy subscription because there is no need for OpenScale to communicate with the deployment's scoring endpoint."
   ]
  },
  {
   "cell_type": "code",
   "execution_count": null,
   "id": "widespread-russian",
   "metadata": {
    "id": "89161e5a-609b-418a-a720-c3a9d68becac",
    "tags": []
   },
   "outputs": [],
   "source": [
    "from ibm_cloud_sdk_core.authenticators import BearerTokenAuthenticator\n",
    "from ibm_watson_openscale import *\n",
    "from ibm_watson_openscale.supporting_classes.enums import *\n",
    "from ibm_watson_openscale.supporting_classes import *\n",
    "from ibm_watson_openscale.base_classes.watson_open_scale_v2 import ScoringEndpointRequest\n",
    "from ibm_watson_openscale.base_classes.watson_open_scale_v2 import MonitorMeasurementRequest"
   ]
  },
  {
   "cell_type": "code",
   "execution_count": null,
   "id": "furnished-colombia",
   "metadata": {
    "id": "32c50c01-9d70-45e0-bb73-9c33f3fcab2a",
    "tags": []
   },
   "outputs": [],
   "source": [
    "existing_providers_dict = wos_client.service_providers.list().get_result().to_dict()['service_providers']\n",
    "existing_providers = [sp['entity']['name'] for sp in existing_providers_dict]\n",
    "\n",
    "SERVICE_PROVIDER_ID = next((sp['metadata']['id'] for sp in existing_providers_dict \\\n",
    "                            if sp['entity']['name'] == SERVICE_PROVIDER_NAME))\n",
    "print(f\"Service provider ID: {SERVICE_PROVIDER_ID}\")"
   ]
  },
  {
   "cell_type": "code",
   "execution_count": null,
   "id": "friendly-mozambique",
   "metadata": {
    "id": "64de8cc3-7355-464c-bfe9-adfac8944689",
    "tags": []
   },
   "outputs": [],
   "source": [
    "wos_client.service_providers.show()"
   ]
  },
  {
   "cell_type": "code",
   "execution_count": null,
   "id": "provincial-romantic",
   "metadata": {
    "id": "40360718-21be-4d42-9f02-a05771c7f238",
    "tags": []
   },
   "outputs": [],
   "source": [
    "existing_subscriptions_dict = wos_client.subscriptions.list().get_result().to_dict()['subscriptions']\n",
    "existing_subscriptions = [sp['entity']['asset']['name'] for sp in existing_subscriptions_dict]\n",
    "\n",
    "if not SUBSCRIPTION_NAME in existing_subscriptions:\n",
    "    ASSET_ID = str(uuid.uuid4())\n",
    "    ASSET_NAME = SUBSCRIPTION_NAME\n",
    "    url = ''\n",
    "\n",
    "    ASSET_DEPLOYMENT_ID = str(uuid.uuid4())\n",
    "    ASSET_DEPLOYMENT_NAME = SUBSCRIPTION_NAME\n",
    "    \n",
    "    subscription_details = wos_client.subscriptions.add(\n",
    "        data_mart_id=WOS_GUID,\n",
    "        service_provider_id=SERVICE_PROVIDER_ID,\n",
    "        asset=Asset(\n",
    "            asset_id=ASSET_ID,\n",
    "            name=ASSET_NAME,\n",
    "            url=url,\n",
    "            asset_type=AssetTypes.MODEL,\n",
    "            input_data_type=InputDataType.STRUCTURED,\n",
    "            problem_type=ProblemType.MULTICLASS_CLASSIFICATION\n",
    "        ),\n",
    "        deployment=AssetDeploymentRequest(\n",
    "            deployment_id=ASSET_DEPLOYMENT_ID,\n",
    "            name=ASSET_DEPLOYMENT_NAME,\n",
    "            deployment_type= DeploymentTypes.ONLINE\n",
    "        ),\n",
    "        asset_properties=AssetPropertiesRequest(\n",
    "            probability_fields=['probability']\n",
    "            )\n",
    "    ).result\n",
    "    \n",
    "    SUBSCRIPTION_ID = subscription_details.metadata.id\n",
    "    print(\"Subscription ID: {}\".format(SUBSCRIPTION_ID))\n",
    "else:\n",
    "    SUBSCRIPTION_ID = next((sp['metadata']['id'] for sp in existing_subscriptions_dict \\\n",
    "                            if sp['entity']['asset']['name'] == SUBSCRIPTION_NAME))\n",
    "    print(\"Subscription ID: {}\".format(SUBSCRIPTION_ID))"
   ]
  },
  {
   "cell_type": "code",
   "execution_count": null,
   "id": "scientific-premiere",
   "metadata": {
    "id": "1dc5c86e-7dfb-402d-93bc-c54ea18a0251",
    "tags": []
   },
   "outputs": [],
   "source": [
    "wos_client.subscriptions.show()"
   ]
  },
  {
   "cell_type": "markdown",
   "id": "widespread-queen",
   "metadata": {
    "id": "c80a8f62-2aa3-436b-b85e-a97c0042e743"
   },
   "source": [
    "## 2. Configure Custom Metric Monitors"
   ]
  },
  {
   "cell_type": "markdown",
   "id": "scheduled-patio",
   "metadata": {
    "id": "e968edf9-cbd8-4bcb-9d5a-62a320d8125a"
   },
   "source": [
    "### Check existence of custom monitor instance"
   ]
  },
  {
   "cell_type": "code",
   "execution_count": null,
   "id": "synthetic-blond",
   "metadata": {
    "id": "8e2b72fb-e7c8-4dc3-92af-3bc5def80808",
    "tags": []
   },
   "outputs": [],
   "source": [
    "monitor_id = 'generic_monitor_example_wendy'"
   ]
  },
  {
   "cell_type": "code",
   "execution_count": null,
   "id": "refined-question",
   "metadata": {
    "id": "c2cb7c2b-40b7-4f4d-a6f8-d2fee31b0ba1",
    "tags": []
   },
   "outputs": [],
   "source": [
    "existing_monitor_instance = wos_util.get_monitor_instance(monitor_id,SUBSCRIPTION_ID,wos_client)\n",
    "existing_monitor_instance"
   ]
  },
  {
   "cell_type": "markdown",
   "id": "proved-officer",
   "metadata": {
    "id": "5323f4f8-94e1-4ce7-93d8-3abde807ea67"
   },
   "source": [
    "### Create one custom monitor instance per monitor"
   ]
  },
  {
   "cell_type": "code",
   "execution_count": null,
   "id": "beginning-nursing",
   "metadata": {
    "id": "23af683f-ac89-43ca-a7e7-ed32460b52ce",
    "tags": []
   },
   "outputs": [],
   "source": [
    "integrated_system_id = 'bf6c2180-5b68-4297-ab9d-7d39facce12f'"
   ]
  },
  {
   "cell_type": "code",
   "execution_count": null,
   "id": "specific-creature",
   "metadata": {
    "id": "255c2b85-91dd-4fa4-8713-22aa215e9484",
    "tags": []
   },
   "outputs": [],
   "source": [
    "# Openscale MRM service invokes custom metrics deployment url during runtime and wait for the default time of 60 second's to \n",
    "# to check the run status ie finished/Failed and fetch the latest measurement. Increase the wait time, if the runtime deployment \n",
    "# takes more than 60 seconds to compute and publish the custom metrics \n",
    "\n",
    "#Update the wait time here.\n",
    "custom_metrics_wait_time = 360 #time in seconds <update the time here>"
   ]
  },
  {
   "cell_type": "code",
   "execution_count": null,
   "id": "beautiful-lithuania",
   "metadata": {
    "id": "597368d7-8784-46af-8375-b7ea60d937be",
    "tags": []
   },
   "outputs": [],
   "source": [
    "# If it does not exist, then create one\n",
    "if existing_monitor_instance is None:\n",
    "    target = Target(\n",
    "            target_type=TargetTypes.SUBSCRIPTION,\n",
    "            target_id=SUBSCRIPTION_ID\n",
    "        )\n",
    "    parameters = {\n",
    "        \"custom_metrics_provider_id\": integrated_system_id,\n",
    "        \"custom_metrics_wait_time\":   custom_metrics_wait_time \n",
    "    }\n",
    "\n",
    "    #Update your custom monitor metric ids in the below thresholds to update the default value\n",
    "    thresholds = [ MetricThresholdOverride(metric_id='num_images_recent_ground_truth', type = MetricThresholdTypes.LOWER_LIMIT, value=100),\n",
    "                   MetricThresholdOverride(metric_id='num_images_recent_predicted', type = MetricThresholdTypes.LOWER_LIMIT, value=800),\n",
    "                   MetricThresholdOverride(metric_id='num_images_total_ground_truth', type = MetricThresholdTypes.LOWER_LIMIT, value=1000),\n",
    "                   MetricThresholdOverride(metric_id='num_images_total_predicted', type = MetricThresholdTypes.LOWER_LIMIT, value=8000)]\n",
    "\n",
    "    # create the custom monitor instance id here.\n",
    "    custom_monitor_instance_details = wos_client.monitor_instances.create(\n",
    "                data_mart_id=WOS_GUID,\n",
    "                background_mode=False,\n",
    "                monitor_definition_id=monitor_id,\n",
    "                target=target,\n",
    "                parameters=parameters,\n",
    "                thresholds = thresholds\n",
    "    ).result\n",
    "else:\n",
    "    pass\n",
    "\n",
    "custom_monitor_instance_details"
   ]
  },
  {
   "cell_type": "markdown",
   "id": "indoor-orchestra",
   "metadata": {
    "id": "bb4d670b-c757-4b54-8882-4ddb3a77cbe7"
   },
   "source": [
    "### Manual Evaluation"
   ]
  },
  {
   "cell_type": "code",
   "execution_count": null,
   "id": "finnish-silence",
   "metadata": {
    "id": "929dd514-83c2-4e7b-9825-1390753c4936",
    "tags": []
   },
   "outputs": [],
   "source": [
    "import uuid\n",
    "from pprint import pprint\n",
    "\n",
    "subscription_id = SUBSCRIPTION_ID\n",
    "wml_deployment_id = '098fce09-393b-4197-bf53-e3d555031fd7'\n",
    "\n",
    "print('*'*30,monitor_id,'*'*30)\n",
    "parameters = {\n",
    "    \"custom_metrics_provider_id\": integrated_system_id,\n",
    "    \"custom_metrics_wait_time\":   custom_metrics_wait_time,\n",
    "    \"run_details\": {\n",
    "    \"run_id\": str(uuid.uuid4()),\n",
    "    \"run_status\": \"Running\"\n",
    "    }\n",
    "}\n",
    "\n",
    "payload= {\n",
    "    \"data_mart_id\" : WOS_GUID,\n",
    "    \"subscription_id\" : subscription_id,\n",
    "    \"custom_monitor_id\" : monitor_id,\n",
    "    \"custom_monitor_instance_id\" : custom_monitor_instance_details.metadata.id,\n",
    "    \"custom_monitor_instance_params\": parameters\n",
    "\n",
    "}\n",
    "\n",
    "input_data= { \"input_data\": [ { \"values\": payload } ]\n",
    "            }\n",
    "\n",
    "#     print(input_data)\n",
    "\n",
    "job_details = wml_client.deployments.score(wml_deployment_id, input_data)\n",
    "pprint(job_details)"
   ]
  },
  {
   "cell_type": "code",
   "execution_count": null,
   "id": "common-tuition",
   "metadata": {
    "id": "d64b1b49-d3b8-4679-99b2-142f3bc99511"
   },
   "outputs": [],
   "source": []
  }
 ],
 "metadata": {
  "kernelspec": {
   "display_name": "Python 3.8 with applications",
   "language": "python",
   "name": "python3"
  },
  "language_info": {
   "codemirror_mode": {
    "name": "ipython",
    "version": 3
   },
   "file_extension": ".py",
   "mimetype": "text/x-python",
   "name": "python",
   "nbconvert_exporter": "python",
   "pygments_lexer": "ipython3",
   "version": "3.8.11"
  }
 },
 "nbformat": 4,
 "nbformat_minor": 5
}
