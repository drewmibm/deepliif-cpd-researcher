{
 "cells": [
  {
   "cell_type": "code",
   "execution_count": 1,
   "id": "hidden-bleeding",
   "metadata": {
    "id": "50721a5e-4659-439e-af38-693bafab73f0",
    "tags": []
   },
   "outputs": [
    {
     "name": "stdout",
     "output_type": "stream",
     "text": [
      "Requirement already satisfied: chardet<5,>=3.0.2 in /opt/conda/envs/Python-3.8-main/lib/python3.8/site-packages (from requests<3.0,>=2.0->ibm-watson-openscale) (3.0.4)\n"
     ]
    }
   ],
   "source": [
    "!pip install --upgrade ibm-watson-openscale --no-cache | tail -n 1"
   ]
  },
  {
   "cell_type": "code",
   "execution_count": 2,
   "id": "continuing-journey",
   "metadata": {
    "id": "176fb356-8001-4a6e-b2b5-c243734e4eaf",
    "tags": []
   },
   "outputs": [],
   "source": [
    "import os\n",
    "\n",
    "import urllib3\n",
    "urllib3.disable_warnings(urllib3.exceptions.InsecureRequestWarning)\n",
    "\n",
    "from ibm_watson_openscale.base_classes.watson_open_scale_v2 import WMLCredentialsCP4D\n",
    "from ibm_cloud_sdk_core.authenticators import BearerTokenAuthenticator\n",
    "from ibm_watson_openscale import *\n",
    "from ibm_watson_openscale.supporting_classes.enums import *\n",
    "from ibm_watson_openscale.supporting_classes import *"
   ]
  },
  {
   "cell_type": "markdown",
   "id": "tested-crash",
   "metadata": {
    "id": "7f6cf08c-25d7-4216-88d5-b09a8b4630af"
   },
   "source": [
    "# Create Dummy Headless ML Provider in OpenScale\n",
    "\n",
    "This is used when there is no need for OpenScale to communicate with the deployment (e.g., send scoring request to the endpoint)."
   ]
  },
  {
   "cell_type": "markdown",
   "id": "spiritual-paradise",
   "metadata": {
    "id": "3981865a-1ee1-4a0d-8758-35bf8827c8e8"
   },
   "source": [
    "## 1. Setup"
   ]
  },
  {
   "cell_type": "code",
   "execution_count": 3,
   "id": "complex-charter",
   "metadata": {
    "id": "2e1b764f-965f-40fe-aa27-68debc3c0c5f",
    "tags": []
   },
   "outputs": [
    {
     "data": {
      "text/plain": [
       "'3.0.14'"
      ]
     },
     "execution_count": 3,
     "metadata": {},
     "output_type": "execute_result"
    }
   ],
   "source": [
    "# Initialize connection to WOS client\n",
    "authenticator = BearerTokenAuthenticator(\n",
    "        bearer_token=os.environ['USER_ACCESS_TOKEN']\n",
    "    )\n",
    "\n",
    "wos_client = APIClient(authenticator=authenticator, \n",
    "                       service_url=os.environ['RUNTIME_ENV_APSX_URL'])\n",
    "wos_client.version"
   ]
  },
  {
   "cell_type": "markdown",
   "id": "adjacent-timber",
   "metadata": {
    "id": "c551b6c2-a2ad-4799-a0b9-1aa901f0f2ac"
   },
   "source": [
    "## 2. Identify data mart ID"
   ]
  },
  {
   "cell_type": "code",
   "execution_count": 4,
   "id": "posted-emission",
   "metadata": {
    "id": "fdb1cd81-e7ab-4c7b-9964-55c7c3a36ebe",
    "tags": []
   },
   "outputs": [
    {
     "data": {
      "text/html": [
       "<HTML>\n",
       "        <body>\n",
       "            <h3>Data Marts</h3>\n",
       "            <table style='border: 1px solid #dddddd; font-family: Courier'>\n",
       "                <th style='border: 1px solid #dddddd'>name</th><th style='border: 1px solid #dddddd'>description</th><th style='border: 1px solid #dddddd'>internal_database</th><th style='border: 1px solid #dddddd'>status</th><th style='border: 1px solid #dddddd'>created_at</th><th style='border: 1px solid #dddddd'>id</th>\n",
       "                <tr><td style='border: 1px solid #dddddd'>AIOSFASTPATHICP-00000000-0000-0000-0000-000000000000</td><td style='border: 1px solid #dddddd'>Data Mart created by OpenScale ExpressPath</td><td style='border: 1px solid #dddddd'>False</td><td style='border: 1px solid #dddddd'>active</td><td style='border: 1px solid #dddddd'>2022-01-13 06:19:21.327000+00:00</td><td style='border: 1px solid #dddddd'>00000000-0000-0000-0000-000000000000</td></tr>\n",
       "            </table>\n",
       "        </body>\n",
       "        </HTML>"
      ],
      "text/plain": [
       "<IPython.core.display.HTML object>"
      ]
     },
     "metadata": {},
     "output_type": "display_data"
    }
   ],
   "source": [
    "wos_client.data_marts.show()"
   ]
  },
  {
   "cell_type": "code",
   "execution_count": 5,
   "id": "acting-italic",
   "metadata": {
    "id": "1ea4d8c6-e814-4030-921e-60f4b2d70f6f",
    "tags": []
   },
   "outputs": [
    {
     "name": "stdout",
     "output_type": "stream",
     "text": [
      "Data Mart ID: 00000000-0000-0000-0000-000000000000\n"
     ]
    }
   ],
   "source": [
    "data_marts = wos_client.data_marts.list().result.data_marts\n",
    "DATA_MART_ID = data_marts[0].metadata.id\n",
    "DATA_MART_ID \n",
    "print(\"Data Mart ID: {}\".format(DATA_MART_ID))"
   ]
  },
  {
   "cell_type": "markdown",
   "id": "heavy-transcript",
   "metadata": {
    "id": "955f3287-ad4c-4399-a83a-034d920ac1f4"
   },
   "source": [
    "## 3. Create headless service provider"
   ]
  },
  {
   "cell_type": "code",
   "execution_count": 6,
   "id": "adult-plasma",
   "metadata": {
    "id": "62981b35-0031-4615-910f-7f49e1a1f2d5",
    "tags": []
   },
   "outputs": [],
   "source": [
    "# Name the service provider\n",
    "SERVICE_PROVIDER_NAME = \"OpenScale Headless Service Provider\"\n",
    "SERVICE_PROVIDER_DESCRIPTION = \"\""
   ]
  },
  {
   "cell_type": "code",
   "execution_count": 7,
   "id": "union-respondent",
   "metadata": {
    "id": "2da26782-fe13-401b-9533-cc2305fb1aa5",
    "tags": []
   },
   "outputs": [
    {
     "name": "stdout",
     "output_type": "stream",
     "text": [
      "Service provider ID: 1059fa1d-7dfc-4d7b-8e40-ae8aef72afe1\n"
     ]
    }
   ],
   "source": [
    "existing_providers_dict = wos_client.service_providers.list().get_result().to_dict()['service_providers']\n",
    "existing_providers = [sp['entity']['name'] for sp in existing_providers_dict]\n",
    "\n",
    "if not SERVICE_PROVIDER_NAME in existing_providers:\n",
    "    added_service_provider_result = wos_client.service_providers.add(\n",
    "        name=SERVICE_PROVIDER_NAME,\n",
    "        description=SERVICE_PROVIDER_DESCRIPTION,\n",
    "        service_type=ServiceTypes.CUSTOM_MACHINE_LEARNING,\n",
    "        operational_space_id = \"production\",\n",
    "        credentials=WMLCredentialsCP4D(),\n",
    "        background_mode=False\n",
    "     ).result\n",
    "    \n",
    "    SERVICE_PROVIDER_ID = added_service_provider_result.metadata.id\n",
    "    print(f\"Service provider ID: {SERVICE_PROVIDER_ID}\")\n",
    "else:\n",
    "    SERVICE_PROVIDER_ID = next((sp['metadata']['id'] for sp in existing_providers_dict \\\n",
    "                                if sp['entity']['name'] == SERVICE_PROVIDER_NAME))\n",
    "    print(f\"Service provider ID: {SERVICE_PROVIDER_ID}\")"
   ]
  }
 ],
 "metadata": {
  "kernelspec": {
   "display_name": "Python 3.8 with applications",
   "language": "python",
   "name": "python3"
  },
  "language_info": {
   "codemirror_mode": {
    "name": "ipython",
    "version": 3
   },
   "file_extension": ".py",
   "mimetype": "text/x-python",
   "name": "python",
   "nbconvert_exporter": "python",
   "pygments_lexer": "ipython3",
   "version": "3.8.11"
  }
 },
 "nbformat": 4,
 "nbformat_minor": 5
}
