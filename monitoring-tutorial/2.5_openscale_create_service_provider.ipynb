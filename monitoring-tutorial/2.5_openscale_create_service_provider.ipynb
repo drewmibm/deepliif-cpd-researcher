{
 "cells": [
  {
   "cell_type": "markdown",
   "id": "common-sheep",
   "metadata": {
    "id": "7f6cf08c-25d7-4216-88d5-b09a8b4630af"
   },
   "source": [
    "# Create Dummy Headless ML Provider in OpenScale\n",
    "\n",
    "A headless ML provider is a dummy provider that does not even have any endpoint. As a comparison, a regular ML provider usually has a couple of endpoints to provide information such as what deployments are available.\n",
    "\n",
    "Headless ML providers are useful when you do not need to monitor the performance of a deployment directly through its REST API endpoint, but **indirectly** through, for example, the payload and predictions you already kept somewhere.\n",
    "\n",
    "In some snese, a ML provider is the *source* of one or more deployments, and as a result, you do not need create/configure one provider for *each* deployment."
   ]
  },
  {
   "cell_type": "code",
   "execution_count": 1,
   "id": "silent-baltimore",
   "metadata": {
    "id": "176fb356-8001-4a6e-b2b5-c243734e4eaf",
    "tags": []
   },
   "outputs": [],
   "source": [
    "import os\n",
    "import wos_sdk_utils as wos_util"
   ]
  },
  {
   "cell_type": "code",
   "execution_count": 2,
   "id": "subjective-medicare",
   "metadata": {
    "id": "2e1b764f-965f-40fe-aa27-68debc3c0c5f",
    "tags": []
   },
   "outputs": [
    {
     "data": {
      "text/plain": [
       "'3.0.17'"
      ]
     },
     "execution_count": 2,
     "metadata": {},
     "output_type": "execute_result"
    }
   ],
   "source": [
    "wos_client = wos_util.get_client()\n",
    "wos_client.version"
   ]
  },
  {
   "cell_type": "code",
   "execution_count": 3,
   "id": "banned-respondent",
   "metadata": {
    "id": "c9e7db6a-c785-4f94-9bea-cee9f90c019c",
    "tags": []
   },
   "outputs": [
    {
     "data": {
      "text/html": [
       "<HTML>\n",
       "        <body>\n",
       "            <h3>Service Providers</h3>\n",
       "            <table style='border: 1px solid #dddddd; font-family: Courier'>\n",
       "                <th style='border: 1px solid #dddddd'>instance_id</th><th style='border: 1px solid #dddddd'>status</th><th style='border: 1px solid #dddddd'>name</th><th style='border: 1px solid #dddddd'>service_type</th><th style='border: 1px solid #dddddd'>created_at</th><th style='border: 1px solid #dddddd'>id</th>\n",
       "                <tr><td style='border: 1px solid #dddddd'>99999999-9999-9999-9999-999999999999</td><td style='border: 1px solid #dddddd'>active</td><td style='border: 1px solid #dddddd'>WOS ExpressPath WML pre_production binding</td><td style='border: 1px solid #dddddd'>watson_machine_learning</td><td style='border: 1px solid #dddddd'>2022-01-13 06:19:31.996000+00:00</td><td style='border: 1px solid #dddddd'>ae0d9dae-8599-400a-bcb9-0b5ab9e004f6</td></tr>\n",
       "            </table>\n",
       "        </body>\n",
       "        </HTML>"
      ],
      "text/plain": [
       "<IPython.core.display.HTML object>"
      ]
     },
     "metadata": {},
     "output_type": "display_data"
    }
   ],
   "source": [
    "wos_client.service_providers.show()"
   ]
  },
  {
   "cell_type": "code",
   "execution_count": 4,
   "id": "verified-russell",
   "metadata": {
    "id": "18058627-8cd3-4f4a-8f08-666457a8ed83",
    "tags": []
   },
   "outputs": [
    {
     "name": "stdout",
     "output_type": "stream",
     "text": [
      "0 existing service providers found with the same name OpenScale Headless Service Provider and type custom\n",
      "\n",
      "\n",
      "=================================================================================\n",
      "\n",
      " Waiting for end of adding service provider 42431cc1-115a-49b8-b6b7-b73527804739 \n",
      "\n",
      "=================================================================================\n",
      "\n",
      "\n",
      "\n",
      "active\n",
      "\n",
      "-----------------------------------------------\n",
      " Successfully finished adding service provider \n",
      "-----------------------------------------------\n",
      "\n",
      "\n"
     ]
    },
    {
     "data": {
      "text/plain": [
       "'42431cc1-115a-49b8-b6b7-b73527804739'"
      ]
     },
     "execution_count": 4,
     "metadata": {},
     "output_type": "execute_result"
    }
   ],
   "source": [
    "wos_util.service_provider_create(wos_client,\n",
    "                                 name=\"OpenScale Headless Service Provider\",\n",
    "                                 operational_stage='production',\n",
    "                                 service_provider_type='custom',\n",
    "                                 headless=True)"
   ]
  }
 ],
 "metadata": {
  "kernelspec": {
   "display_name": "Python 3.8 with applications",
   "language": "python",
   "name": "python3"
  },
  "language_info": {
   "codemirror_mode": {
    "name": "ipython",
    "version": 3
   },
   "file_extension": ".py",
   "mimetype": "text/x-python",
   "name": "python",
   "nbconvert_exporter": "python",
   "pygments_lexer": "ipython3",
   "version": "3.8.11"
  }
 },
 "nbformat": 4,
 "nbformat_minor": 5
}
