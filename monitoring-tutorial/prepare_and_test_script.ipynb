{
 "cells": [
  {
   "cell_type": "markdown",
   "id": "timely-circumstances",
   "metadata": {
    "id": "96ab0c85-0ee8-4aca-b9ad-d06704ffae88",
    "tags": []
   },
   "source": [
    "# Develop and Test Custom Metrics Provider Function\n",
    "\n",
    "WML deployable function can take a script, but not a set of scripts with dependency on each other. To bring in utility scripts, use the `scripts` argument in `wml_sdk_utils.prepare_function()`. It sends the content of each specified script as string to the deployable function script by inserting `d_scripts[{script_name}] = repr(script_content)`, and later you need a bit of code to write the string to a script, so that you could load your util scripts.\n",
    "\n",
    "If you want to bring in a whole module folder, you will need to adapt the `wml_sdk_utils.prepare_function()` to be able to comsume a folder of scripts, which should work."
   ]
  },
  {
   "cell_type": "code",
   "execution_count": 4,
   "id": "collaborative-usage",
   "metadata": {
    "id": "bdde5e0b-d78c-414a-99fa-2db098c2e143",
    "tags": []
   },
   "outputs": [],
   "source": [
    "import os\n",
    "\n",
    "path_custom_metrics_script = 'custom_metrics_generic_example.py'\n",
    "\n",
    "variables = {\"os.environ['RUNTIME_ENV_APSX_URL']\":os.environ['RUNTIME_ENV_APSX_URL'],\n",
    "             \"os.environ['USERNAME']\":'******',\n",
    "             \"os.environ['APIKEY']\":'*****',\n",
    "             'space_id':'81c825b4-a1ae-4c1e-8cf3-51b6e3b301b7'}\n",
    "\n",
    "scripts = ['wml_sdk_utils.py']"
   ]
  },
  {
   "cell_type": "code",
   "execution_count": 5,
   "id": "conscious-while",
   "metadata": {
    "id": "9051d742-892c-420c-b40a-95564138f08d",
    "tags": []
   },
   "outputs": [],
   "source": [
    "import wml_sdk_utils as wml_util\n",
    "\n",
    "wml_client = wml_util.get_client(space_id = '416d5be2-0964-4605-aa0a-e1764a78f916')"
   ]
  },
  {
   "cell_type": "code",
   "execution_count": 6,
   "id": "caroline-baghdad",
   "metadata": {
    "id": "2702da35-7bac-4669-a267-06e1f426fa3b",
    "tags": []
   },
   "outputs": [
    {
     "name": "stdout",
     "output_type": "stream",
     "text": [
      "Finished writing essential information into custom_metrics_generic_example_edited.py\n"
     ]
    }
   ],
   "source": [
    "wml_util.function_prepare(path_custom_metrics_script,variables,scripts)\n",
    "path_custom_metrics_script_final = path_custom_metrics_script.replace('.py','_edited.py')"
   ]
  },
  {
   "cell_type": "code",
   "execution_count": null,
   "id": "powerful-football",
   "metadata": {
    "id": "85d0bce8-d0e2-434d-b333-fee199800217",
    "tags": []
   },
   "outputs": [],
   "source": [
    "# wml_util.metadata_yml_load(wml_client)"
   ]
  },
  {
   "cell_type": "markdown",
   "id": "negative-rhythm",
   "metadata": {
    "id": "8ff67805-7949-47ca-8790-8c792dd2eefd"
   },
   "source": [
    "## test code outside of functions"
   ]
  },
  {
   "cell_type": "code",
   "execution_count": 7,
   "id": "urban-forward",
   "metadata": {
    "id": "f73cb869-db89-4c1a-85b6-5160bf380503",
    "tags": []
   },
   "outputs": [],
   "source": [
    "exec(open(path_custom_metrics_script_final,'r').read())"
   ]
  },
  {
   "cell_type": "markdown",
   "id": "acute-concentrate",
   "metadata": {
    "id": "1aa62a07-5de3-4c91-8411-1a736834efb6"
   },
   "source": [
    "## test the key metric-calculatioon function: get_metrics"
   ]
  },
  {
   "cell_type": "code",
   "execution_count": 8,
   "id": "negative-karaoke",
   "metadata": {
    "id": "76b36af6-e848-47c8-98e4-d44b69f95acf",
    "tags": []
   },
   "outputs": [],
   "source": [
    "exec(open(path_custom_metrics_script_final,'r').read())"
   ]
  },
  {
   "cell_type": "code",
   "execution_count": 10,
   "id": "cubic-restaurant",
   "metadata": {
    "id": "cd8483e4-2505-45ee-ac03-1efd4abdf9f3",
    "tags": []
   },
   "outputs": [
    {
     "name": "stdout",
     "output_type": "stream",
     "text": [
      "CPU times: user 3 µs, sys: 1 µs, total: 4 µs\n",
      "Wall time: 4.77 µs\n"
     ]
    },
    {
     "data": {
      "text/plain": [
       "{'specificity': 1.2, 'sensitivity': 0.85}"
      ]
     },
     "execution_count": 10,
     "metadata": {},
     "output_type": "execute_result"
    }
   ],
   "source": [
    "%%time\n",
    "get_metrics(subscription_id='',access_token='',data_mart_id='')"
   ]
  },
  {
   "cell_type": "markdown",
   "id": "detected-brazil",
   "metadata": {
    "id": "f51005a8-7b52-4f4f-b8f4-fef6485f9a3a",
    "tags": []
   },
   "source": [
    "## test a real call\n",
    "you can get an example `input_data` afer running notebook A3"
   ]
  },
  {
   "cell_type": "code",
   "execution_count": 9,
   "id": "handled-desire",
   "metadata": {
    "id": "db34a09b-0bab-4720-b9b2-62a8871bebd3",
    "tags": []
   },
   "outputs": [],
   "source": [
    "# input_data = {'input_data': [{'values': {'data_mart_id': '00000000-0000-0000-0000-000000000000',\n",
    "#     'subscription_id': '39e20506-75c9-4eb6-9831-859adc0fb921',\n",
    "#     'custom_monitor_id': 'segmentation_metrics',\n",
    "#     'custom_monitor_instance_id': '51b4c016-4f9e-44ca-8ca9-7386f5030d0a',\n",
    "#     'custom_monitor_instance_params': {'custom_metrics_provider_id': '9ebccdf3-efdf-4321-9505-42fb1ffe04ad',\n",
    "#      'custom_metrics_wait_time': 360,\n",
    "#      'run_details': {'run_id': '1e05b494-d7bc-4556-93f6-466ed7c79f5e',\n",
    "#       'run_status': 'Running'}}}}]}\n"
   ]
  },
  {
   "cell_type": "code",
   "execution_count": 10,
   "id": "lesser-armor",
   "metadata": {
    "id": "34731093-d219-4c94-9c03-f37545b512c2",
    "tags": []
   },
   "outputs": [],
   "source": [
    "# %%time\n",
    "# score(input_data)"
   ]
  }
 ],
 "metadata": {
  "kernelspec": {
   "display_name": "Python 3.8 with applications",
   "language": "python",
   "name": "python3"
  },
  "language_info": {
   "codemirror_mode": {
    "name": "ipython",
    "version": 3
   },
   "file_extension": ".py",
   "mimetype": "text/x-python",
   "name": "python",
   "nbconvert_exporter": "python",
   "pygments_lexer": "ipython3",
   "version": "3.8.11"
  }
 },
 "nbformat": 4,
 "nbformat_minor": 5
}
