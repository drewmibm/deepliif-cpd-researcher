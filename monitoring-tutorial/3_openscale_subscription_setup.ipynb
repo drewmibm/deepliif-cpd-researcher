{
 "cells": [
  {
   "cell_type": "code",
   "execution_count": 2,
   "id": "overall-parent",
   "metadata": {
    "id": "50721a5e-4659-439e-af38-693bafab73f0",
    "tags": []
   },
   "outputs": [
    {
     "name": "stdout",
     "output_type": "stream",
     "text": [
      "Successfully installed ibm-watson-openscale-3.0.14\n"
     ]
    }
   ],
   "source": [
    "#!pip install --upgrade ibm-watson-openscale --no-cache | tail -n 1"
   ]
  },
  {
   "cell_type": "code",
   "execution_count": 3,
   "id": "expressed-painting",
   "metadata": {
    "id": "176fb356-8001-4a6e-b2b5-c243734e4eaf",
    "tags": []
   },
   "outputs": [],
   "source": [
    "import os\n",
    "import json\n",
    "from datetime import datetime, timezone, timedelta\n",
    "import time\n",
    "import uuid\n",
    "from ibm_watson_openscale.base_classes.watson_open_scale_v2 import WMLCredentialsCP4D\n",
    "import urllib3\n",
    "urllib3.disable_warnings(urllib3.exceptions.InsecureRequestWarning)"
   ]
  },
  {
   "cell_type": "markdown",
   "id": "worldwide-expert",
   "metadata": {
    "id": "7f6cf08c-25d7-4216-88d5-b09a8b4630af"
   },
   "source": [
    "# Create Dummy Headless ML Provider in OpenScale\n",
    "\n",
    "This is used when there is no need for OpenScale to communicate with the deployment (e.g., send scoring request to the endpoint)."
   ]
  },
  {
   "cell_type": "code",
   "execution_count": 4,
   "id": "minimal-choice",
   "metadata": {
    "id": "deed361c-878c-4968-820a-5adc0bb246f2",
    "tags": []
   },
   "outputs": [],
   "source": [
    "from ibm_cloud_sdk_core.authenticators import BearerTokenAuthenticator\n",
    "from ibm_watson_openscale import *\n",
    "from ibm_watson_openscale.supporting_classes.enums import *\n",
    "from ibm_watson_openscale.supporting_classes import *\n",
    "from ibm_watson_openscale.base_classes.watson_open_scale_v2 import ScoringEndpointRequest\n",
    "from ibm_watson_openscale.base_classes.watson_open_scale_v2 import MonitorMeasurementRequest"
   ]
  },
  {
   "cell_type": "code",
   "execution_count": 5,
   "id": "entire-coupon",
   "metadata": {
    "id": "2e1b764f-965f-40fe-aa27-68debc3c0c5f",
    "tags": []
   },
   "outputs": [
    {
     "data": {
      "text/plain": [
       "'3.0.14'"
      ]
     },
     "execution_count": 5,
     "metadata": {},
     "output_type": "execute_result"
    }
   ],
   "source": [
    "authenticator = BearerTokenAuthenticator(\n",
    "        bearer_token=os.environ['USER_ACCESS_TOKEN']\n",
    "    )\n",
    "\n",
    "wos_client = APIClient(authenticator=authenticator, \n",
    "                       service_url=os.environ['RUNTIME_ENV_APSX_URL'])\n",
    "wos_client.version"
   ]
  },
  {
   "cell_type": "code",
   "execution_count": 6,
   "id": "unnecessary-laser",
   "metadata": {
    "id": "fdb1cd81-e7ab-4c7b-9964-55c7c3a36ebe",
    "tags": []
   },
   "outputs": [
    {
     "data": {
      "text/html": [
       "<HTML>\n",
       "        <body>\n",
       "            <h3>Data Marts</h3>\n",
       "            <table style='border: 1px solid #dddddd; font-family: Courier'>\n",
       "                <th style='border: 1px solid #dddddd'>name</th><th style='border: 1px solid #dddddd'>description</th><th style='border: 1px solid #dddddd'>internal_database</th><th style='border: 1px solid #dddddd'>status</th><th style='border: 1px solid #dddddd'>created_at</th><th style='border: 1px solid #dddddd'>id</th>\n",
       "                <tr><td style='border: 1px solid #dddddd'>AIOSFASTPATHICP-00000000-0000-0000-0000-000000000000</td><td style='border: 1px solid #dddddd'>Data Mart created by OpenScale ExpressPath</td><td style='border: 1px solid #dddddd'>False</td><td style='border: 1px solid #dddddd'>active</td><td style='border: 1px solid #dddddd'>2022-01-13 06:19:21.327000+00:00</td><td style='border: 1px solid #dddddd'>00000000-0000-0000-0000-000000000000</td></tr>\n",
       "            </table>\n",
       "        </body>\n",
       "        </HTML>"
      ],
      "text/plain": [
       "<IPython.core.display.HTML object>"
      ]
     },
     "metadata": {},
     "output_type": "display_data"
    }
   ],
   "source": [
    "wos_client.data_marts.show()"
   ]
  },
  {
   "cell_type": "code",
   "execution_count": 7,
   "id": "fourth-thanks",
   "metadata": {
    "id": "1ea4d8c6-e814-4030-921e-60f4b2d70f6f",
    "tags": []
   },
   "outputs": [
    {
     "name": "stdout",
     "output_type": "stream",
     "text": [
      "Data Mart ID: 00000000-0000-0000-0000-000000000000\n"
     ]
    }
   ],
   "source": [
    "data_marts = wos_client.data_marts.list().result.data_marts\n",
    "DATA_MART_ID = data_marts[0].metadata.id\n",
    "DATA_MART_ID \n",
    "print(\"Data Mart ID: {}\".format(DATA_MART_ID))"
   ]
  },
  {
   "cell_type": "markdown",
   "id": "happy-stanford",
   "metadata": {
    "id": "955f3287-ad4c-4399-a83a-034d920ac1f4"
   },
   "source": [
    "## Create headless service provider"
   ]
  },
  {
   "cell_type": "code",
   "execution_count": null,
   "id": "blind-senior",
   "metadata": {
    "id": "62981b35-0031-4615-910f-7f49e1a1f2d5"
   },
   "outputs": [],
   "source": [
    "SERVICE_PROVIDER_NAME = \"OpenScale Headless Service Provider\"\n",
    "SERVICE_PROVIDER_DESCRIPTION = \"\""
   ]
  },
  {
   "cell_type": "code",
   "execution_count": null,
   "id": "thorough-flour",
   "metadata": {
    "id": "2da26782-fe13-401b-9533-cc2305fb1aa5"
   },
   "outputs": [],
   "source": [
    "existing_providers_dict = wos_client.service_providers.list().get_result().to_dict()['service_providers']\n",
    "existing_providers = [sp['entity']['name'] for sp in existing_providers_dict]\n",
    "\n",
    "if not SERVICE_PROVIDER_NAME in existing_providers:\n",
    "    added_service_provider_result = wos_client.service_providers.add(\n",
    "        name=SERVICE_PROVIDER_NAME,\n",
    "        description=SERVICE_PROVIDER_DESCRIPTION,\n",
    "        service_type=ServiceTypes.CUSTOM_MACHINE_LEARNING,\n",
    "        operational_space_id = \"production\",\n",
    "        credentials=WMLCredentialsCP4D(),\n",
    "        background_mode=False\n",
    "     ).result\n",
    "    \n",
    "    SERVICE_PROVIDER_ID = added_service_provider_result.metadata.id\n",
    "    print(f\"Service provider ID: {SERVICE_PROVIDER_ID}\")\n",
    "else:\n",
    "    SERVICE_PROVIDER_ID = next((sp['metadata']['id'] for sp in existing_providers_dict \\\n",
    "                                if sp['entity']['name'] == SERVICE_PROVIDER_NAME))\n",
    "    print(f\"Service provider ID: {SERVICE_PROVIDER_ID}\")"
   ]
  },
  {
   "cell_type": "code",
   "execution_count": null,
   "id": "religious-volunteer",
   "metadata": {
    "id": "2b24371e-02bf-4956-a2cf-22b8d2e62ee1"
   },
   "outputs": [],
   "source": [
    "wos_client.service_providers.show()"
   ]
  },
  {
   "cell_type": "markdown",
   "id": "korean-selection",
   "metadata": {
    "id": "a8defdfb-ecda-4678-9d58-b5a839334534"
   },
   "source": [
    "# Create prod subscription"
   ]
  },
  {
   "cell_type": "code",
   "execution_count": 8,
   "id": "thorough-northern",
   "metadata": {
    "id": "df026d92-32cb-4c4c-8de8-7066a54605c8",
    "tags": []
   },
   "outputs": [],
   "source": [
    "import os\n",
    "import json\n",
    "from datetime import datetime, timezone, timedelta\n",
    "import time\n",
    "import uuid\n",
    "from ibm_watson_openscale.base_classes.watson_open_scale_v2 import WMLCredentialsCP4D\n",
    "import urllib3\n",
    "urllib3.disable_warnings(urllib3.exceptions.InsecureRequestWarning)\n",
    "\n",
    "import wos_sdk_utils as wos_util\n",
    "import wml_sdk_utils as wml_util"
   ]
  },
  {
   "cell_type": "markdown",
   "id": "rotary-ceremony",
   "metadata": {
    "id": "587ff657-bf84-42f6-9091-929a71b090c8"
   },
   "source": [
    "## Create prod subscription"
   ]
  },
  {
   "cell_type": "code",
   "execution_count": 32,
   "id": "tired-david",
   "metadata": {
    "id": "1563de8d-7c30-445f-a735-135fb9927e08",
    "tags": []
   },
   "outputs": [],
   "source": [
    "SERVICE_PROVIDER_NAME = \"OpenScale Headless Service Provider - Test\"\n",
    "SUBSCRIPTION_NAME = \"cifar monitor wendy\"\n",
    "\n",
    "#MODEL_ASSET_ID = \"\"\n",
    "WML_SPACE_ID = \"81c825b4-a1ae-4c1e-8cf3-51b6e3b301b7\"#\"416d5be2-0964-4605-aa0a-e1764a78f916\" \n",
    "\n",
    "WOS_GUID = \"00000000-0000-0000-0000-000000000000\""
   ]
  },
  {
   "cell_type": "code",
   "execution_count": 33,
   "id": "naughty-preservation",
   "metadata": {
    "id": "5383be0e-a711-4266-8878-4cfd98fc0795",
    "tags": []
   },
   "outputs": [],
   "source": [
    "wos_client = wos_util.get_client()\n",
    "wml_client = wml_util.get_client(space_id=WML_SPACE_ID)"
   ]
  },
  {
   "cell_type": "markdown",
   "id": "novel-richards",
   "metadata": {
    "id": "5493e970-37b7-4e44-9c57-89b5311b9173"
   },
   "source": [
    "### 1. Subscribe to Deployment"
   ]
  },
  {
   "cell_type": "code",
   "execution_count": 12,
   "id": "extra-invalid",
   "metadata": {
    "id": "71424570-c1d4-43b8-ab2b-bd7af44e6f05",
    "tags": []
   },
   "outputs": [],
   "source": [
    "from ibm_cloud_sdk_core.authenticators import BearerTokenAuthenticator\n",
    "from ibm_watson_openscale import *\n",
    "from ibm_watson_openscale.supporting_classes.enums import *\n",
    "from ibm_watson_openscale.supporting_classes import *\n",
    "from ibm_watson_openscale.base_classes.watson_open_scale_v2 import ScoringEndpointRequest\n",
    "from ibm_watson_openscale.base_classes.watson_open_scale_v2 import MonitorMeasurementRequest"
   ]
  },
  {
   "cell_type": "code",
   "execution_count": 19,
   "id": "superior-blend",
   "metadata": {
    "id": "dd35ec08-33ba-4e87-af92-518e9404926b",
    "tags": []
   },
   "outputs": [
    {
     "data": {
      "text/html": [
       "<HTML>\n",
       "        <body>\n",
       "            <h3>Service Providers</h3>\n",
       "            <table style='border: 1px solid #dddddd; font-family: Courier'>\n",
       "                <th style='border: 1px solid #dddddd'>instance_id</th><th style='border: 1px solid #dddddd'>status</th><th style='border: 1px solid #dddddd'>name</th><th style='border: 1px solid #dddddd'>service_type</th><th style='border: 1px solid #dddddd'>created_at</th><th style='border: 1px solid #dddddd'>id</th>\n",
       "                <tr><td style='border: 1px solid #dddddd'>None</td><td style='border: 1px solid #dddddd'>active</td><td style='border: 1px solid #dddddd'>OpenScale Headless Service Provider - Test</td><td style='border: 1px solid #dddddd'>custom_machine_learning</td><td style='border: 1px solid #dddddd'>2022-02-23 18:40:27.254000+00:00</td><td style='border: 1px solid #dddddd'>046a4364-6c34-4a66-ae25-ed83a9f764ec</td></tr><tr><td style='border: 1px solid #dddddd'>None</td><td style='border: 1px solid #dddddd'>active</td><td style='border: 1px solid #dddddd'>OpenScale Headless Service Provider</td><td style='border: 1px solid #dddddd'>custom_machine_learning</td><td style='border: 1px solid #dddddd'>2022-02-07 19:41:21.084000+00:00</td><td style='border: 1px solid #dddddd'>1059fa1d-7dfc-4d7b-8e40-ae8aef72afe1</td></tr><tr><td style='border: 1px solid #dddddd'>99999999-9999-9999-9999-999999999999</td><td style='border: 1px solid #dddddd'>active</td><td style='border: 1px solid #dddddd'>DeepLIIF WML Prod</td><td style='border: 1px solid #dddddd'>watson_machine_learning</td><td style='border: 1px solid #dddddd'>2022-01-13 19:11:00.897000+00:00</td><td style='border: 1px solid #dddddd'>09d6e718-c51f-41e2-9655-3991b6ac0104</td></tr><tr><td style='border: 1px solid #dddddd'>99999999-9999-9999-9999-999999999999</td><td style='border: 1px solid #dddddd'>active</td><td style='border: 1px solid #dddddd'>DeepLIIF WML Pre-Prod</td><td style='border: 1px solid #dddddd'>watson_machine_learning</td><td style='border: 1px solid #dddddd'>2022-01-13 19:10:38.638000+00:00</td><td style='border: 1px solid #dddddd'>1f4fab35-d955-4b91-a1f3-3dab72491116</td></tr><tr><td style='border: 1px solid #dddddd'>99999999-9999-9999-9999-999999999999</td><td style='border: 1px solid #dddddd'>active</td><td style='border: 1px solid #dddddd'>WOS ExpressPath WML pre_production binding</td><td style='border: 1px solid #dddddd'>watson_machine_learning</td><td style='border: 1px solid #dddddd'>2022-01-13 06:19:31.996000+00:00</td><td style='border: 1px solid #dddddd'>ae0d9dae-8599-400a-bcb9-0b5ab9e004f6</td></tr>\n",
       "            </table>\n",
       "        </body>\n",
       "        </HTML>"
      ],
      "text/plain": [
       "<IPython.core.display.HTML object>"
      ]
     },
     "metadata": {},
     "output_type": "display_data"
    }
   ],
   "source": [
    "wos_client.service_providers.show()"
   ]
  },
  {
   "cell_type": "code",
   "execution_count": 17,
   "id": "tamil-window",
   "metadata": {
    "id": "7204bbb3-cdcf-4d7f-8b92-a63386e2e083",
    "tags": []
   },
   "outputs": [
    {
     "name": "stdout",
     "output_type": "stream",
     "text": [
      "Service provider ID: 046a4364-6c34-4a66-ae25-ed83a9f764ec\n"
     ]
    }
   ],
   "source": [
    "existing_providers_dict = wos_client.service_providers.list().get_result().to_dict()['service_providers']\n",
    "existing_providers = [sp['entity']['name'] for sp in existing_providers_dict]\n",
    "\n",
    "SERVICE_PROVIDER_ID = next((sp['metadata']['id'] for sp in existing_providers_dict \\\n",
    "                            if sp['entity']['name'] == SERVICE_PROVIDER_NAME))\n",
    "print(f\"Service provider ID: {SERVICE_PROVIDER_ID}\")"
   ]
  },
  {
   "cell_type": "code",
   "execution_count": 20,
   "id": "needed-purpose",
   "metadata": {
    "id": "867db807-92c1-4217-b34c-ab22b46d3cc6",
    "tags": []
   },
   "outputs": [
    {
     "data": {
      "text/plain": [
       "['cifar monitor wendy',\n",
       " 'deepliif-wendy-test9 Monitor',\n",
       " 'deepliif-wendy Monitor',\n",
       " 'DeepLIIF Monitor drew',\n",
       " 'GermanCreditRiskModelPreProdICP',\n",
       " 'GermanCreditRiskModelChallengerICP']"
      ]
     },
     "execution_count": 20,
     "metadata": {},
     "output_type": "execute_result"
    }
   ],
   "source": [
    "existing_subscriptions_dict = wos_client.subscriptions.list().get_result().to_dict()['subscriptions']\n",
    "existing_subscriptions = [sp['entity']['asset']['name'] for sp in existing_subscriptions_dict]\n",
    "existing_subscriptions"
   ]
  },
  {
   "cell_type": "code",
   "execution_count": 22,
   "id": "loaded-default",
   "metadata": {
    "id": "aa82c771-b4fe-4447-ae8e-0c4708c1054b",
    "tags": []
   },
   "outputs": [
    {
     "name": "stdout",
     "output_type": "stream",
     "text": [
      "Subscription ID: 5c983c3c-6ea7-4c84-9915-988fe259fe52\n"
     ]
    }
   ],
   "source": [
    "existing_subscriptions_dict = wos_client.subscriptions.list().get_result().to_dict()['subscriptions']\n",
    "existing_subscriptions = [sp['entity']['asset']['name'] for sp in existing_subscriptions_dict]\n",
    "\n",
    "if not SUBSCRIPTION_NAME in existing_subscriptions:\n",
    "    ASSET_ID = str(uuid.uuid4())\n",
    "    ASSET_NAME = SUBSCRIPTION_NAME\n",
    "    url = ''\n",
    "\n",
    "    ASSET_DEPLOYMENT_ID = str(uuid.uuid4())\n",
    "    ASSET_DEPLOYMENT_NAME = SUBSCRIPTION_NAME\n",
    "    \n",
    "    subscription_details = wos_client.subscriptions.add(\n",
    "        data_mart_id=WOS_GUID,\n",
    "        service_provider_id=SERVICE_PROVIDER_ID,\n",
    "        asset=Asset(\n",
    "            asset_id=ASSET_ID,\n",
    "            name=ASSET_NAME,\n",
    "            url=url,\n",
    "            asset_type=AssetTypes.MODEL,\n",
    "            input_data_type=InputDataType.STRUCTURED,\n",
    "            problem_type=ProblemType.MULTICLASS_CLASSIFICATION\n",
    "        ),\n",
    "        deployment=AssetDeploymentRequest(\n",
    "            deployment_id=ASSET_DEPLOYMENT_ID,\n",
    "            name=ASSET_DEPLOYMENT_NAME,\n",
    "            deployment_type= DeploymentTypes.ONLINE\n",
    "        ),\n",
    "        asset_properties=AssetPropertiesRequest(\n",
    "            probability_fields=['probability']\n",
    "            )\n",
    "    ).result\n",
    "    \n",
    "    SUBSCRIPTION_ID = subscription_details.metadata.id\n",
    "    print(\"Subscription ID: {}\".format(SUBSCRIPTION_ID))\n",
    "else:\n",
    "    SUBSCRIPTION_ID = next((sp['metadata']['id'] for sp in existing_subscriptions_dict \\\n",
    "                            if sp['entity']['asset']['name'] == SUBSCRIPTION_NAME))\n",
    "    print(\"Subscription ID: {}\".format(SUBSCRIPTION_ID))"
   ]
  },
  {
   "cell_type": "code",
   "execution_count": 23,
   "id": "velvet-dubai",
   "metadata": {
    "id": "8c6b9225-7758-4de8-a535-93eaf08891fd",
    "tags": []
   },
   "outputs": [
    {
     "data": {
      "text/html": [
       "<HTML>\n",
       "        <body>\n",
       "            <h3>Subscriptions</h3>\n",
       "            <table style='border: 1px solid #dddddd; font-family: Courier'>\n",
       "                <th style='border: 1px solid #dddddd'>asset_id</th><th style='border: 1px solid #dddddd'>asset_name</th><th style='border: 1px solid #dddddd'>data_mart_id</th><th style='border: 1px solid #dddddd'>deployment_id</th><th style='border: 1px solid #dddddd'>deployment_name</th><th style='border: 1px solid #dddddd'>service_provider_id</th><th style='border: 1px solid #dddddd'>status</th><th style='border: 1px solid #dddddd'>created_at</th><th style='border: 1px solid #dddddd'>id</th>\n",
       "                <tr><td style='border: 1px solid #dddddd'>0a0931ad-2ce2-4435-90a8-0ed1467fefcf</td><td style='border: 1px solid #dddddd'>cifar monitor wendy</td><td style='border: 1px solid #dddddd'>00000000-0000-0000-0000-000000000000</td><td style='border: 1px solid #dddddd'>98e120b4-0677-4275-bad7-2423085dc932</td><td style='border: 1px solid #dddddd'>cifar monitor wendy</td><td style='border: 1px solid #dddddd'>1059fa1d-7dfc-4d7b-8e40-ae8aef72afe1</td><td style='border: 1px solid #dddddd'>active</td><td style='border: 1px solid #dddddd'>2022-03-31 20:49:19.363000+00:00</td><td style='border: 1px solid #dddddd'>5c983c3c-6ea7-4c84-9915-988fe259fe52</td></tr><tr><td style='border: 1px solid #dddddd'>59ca2dc0-5155-46aa-b625-3e3d2b823e77</td><td style='border: 1px solid #dddddd'>deepliif-wendy-test9 Monitor</td><td style='border: 1px solid #dddddd'>00000000-0000-0000-0000-000000000000</td><td style='border: 1px solid #dddddd'>1727641c-8d1a-4e0e-8e52-283cc8fd028c</td><td style='border: 1px solid #dddddd'>deepliif-wendy-test9 Monitor</td><td style='border: 1px solid #dddddd'>1059fa1d-7dfc-4d7b-8e40-ae8aef72afe1</td><td style='border: 1px solid #dddddd'>active</td><td style='border: 1px solid #dddddd'>2022-03-21 22:05:44.342000+00:00</td><td style='border: 1px solid #dddddd'>f359c41d-698e-4efa-9da0-222e8b50ced7</td></tr><tr><td style='border: 1px solid #dddddd'>80f88f3e-e7ed-41e0-8546-2a6732dea0e2</td><td style='border: 1px solid #dddddd'>deepliif-wendy Monitor</td><td style='border: 1px solid #dddddd'>00000000-0000-0000-0000-000000000000</td><td style='border: 1px solid #dddddd'>e06982a9-7e72-4d47-9656-6cb7e65bf9a4</td><td style='border: 1px solid #dddddd'>deepliif-wendy Monitor</td><td style='border: 1px solid #dddddd'>1059fa1d-7dfc-4d7b-8e40-ae8aef72afe1</td><td style='border: 1px solid #dddddd'>active</td><td style='border: 1px solid #dddddd'>2022-03-18 15:08:03.898000+00:00</td><td style='border: 1px solid #dddddd'>54f5e250-d12a-4f9a-89bd-423d0a2faeab</td></tr><tr><td style='border: 1px solid #dddddd'>9f2cd22a-15fc-4046-988a-5270a414a331</td><td style='border: 1px solid #dddddd'>DeepLIIF Monitor drew</td><td style='border: 1px solid #dddddd'>00000000-0000-0000-0000-000000000000</td><td style='border: 1px solid #dddddd'>6c562b7a-9a82-4a97-81ce-78857f71de79</td><td style='border: 1px solid #dddddd'>DeepLIIF Monitor drew</td><td style='border: 1px solid #dddddd'>1059fa1d-7dfc-4d7b-8e40-ae8aef72afe1</td><td style='border: 1px solid #dddddd'>active</td><td style='border: 1px solid #dddddd'>2022-03-09 18:42:29.239000+00:00</td><td style='border: 1px solid #dddddd'>ae81dd6d-19d1-4fae-96aa-b17768261997</td></tr><tr><td style='border: 1px solid #dddddd'>6eb7d805-d311-4bc3-878d-5d43edb76ad3</td><td style='border: 1px solid #dddddd'>GermanCreditRiskModelPreProdICP</td><td style='border: 1px solid #dddddd'>00000000-0000-0000-0000-000000000000</td><td style='border: 1px solid #dddddd'>5549aabc-ca61-46ce-ab8a-d7d33cc1b1d5</td><td style='border: 1px solid #dddddd'>GermanCreditRiskModelPreProdICP</td><td style='border: 1px solid #dddddd'>ae0d9dae-8599-400a-bcb9-0b5ab9e004f6</td><td style='border: 1px solid #dddddd'>active</td><td style='border: 1px solid #dddddd'>2022-01-13 06:23:13.902000+00:00</td><td style='border: 1px solid #dddddd'>3944c36d-c97d-4cbe-9066-d9637f4ec715</td></tr><tr><td style='border: 1px solid #dddddd'>a6e676d0-c9c3-4c7a-b1b3-5fdf10e2b22d</td><td style='border: 1px solid #dddddd'>GermanCreditRiskModelChallengerICP</td><td style='border: 1px solid #dddddd'>00000000-0000-0000-0000-000000000000</td><td style='border: 1px solid #dddddd'>641e28cf-ea00-4867-9562-5cb7bfaa281c</td><td style='border: 1px solid #dddddd'>GermanCreditRiskModelChallengerICP</td><td style='border: 1px solid #dddddd'>ae0d9dae-8599-400a-bcb9-0b5ab9e004f6</td><td style='border: 1px solid #dddddd'>active</td><td style='border: 1px solid #dddddd'>2022-01-13 06:21:41.540000+00:00</td><td style='border: 1px solid #dddddd'>ec94173d-6cfa-4f47-ae04-5fb1497710f5</td></tr>\n",
       "            </table>\n",
       "        </body>\n",
       "        </HTML>"
      ],
      "text/plain": [
       "<IPython.core.display.HTML object>"
      ]
     },
     "metadata": {},
     "output_type": "display_data"
    }
   ],
   "source": [
    "wos_client.subscriptions.show()"
   ]
  },
  {
   "cell_type": "markdown",
   "id": "eligible-course",
   "metadata": {
    "id": "bc2de1ca-a6eb-472a-a913-93882db5e2a1"
   },
   "source": [
    "## 2. Configure Custom Metric Monitors"
   ]
  },
  {
   "cell_type": "markdown",
   "id": "sealed-comedy",
   "metadata": {
    "id": "a5f49bab-a58c-4992-bc5d-db852bf82c7b"
   },
   "source": [
    "### Check existence of custom monitor instance\n"
   ]
  },
  {
   "cell_type": "code",
   "execution_count": 38,
   "id": "disturbed-frame",
   "metadata": {
    "id": "f2b844e8-9662-4fc4-a109-ad52148efe48",
    "tags": []
   },
   "outputs": [],
   "source": [
    "monitor_ids = ['specificity','sensitivity']"
   ]
  },
  {
   "cell_type": "code",
   "execution_count": null,
   "id": "interesting-chosen",
   "metadata": {
    "id": "ea953bd9-cccb-4790-aad3-2a6a96d0f800"
   },
   "outputs": [],
   "source": [
    "for monitor_id in monitor_ids:\n",
    "    print('*'*20,'checking',monitor_id,'*'*20)\n",
    "    print(wos_util.get_monitor_instance(monitor_id,SUBSCRIPTION_ID,wos_client))"
   ]
  },
  {
   "cell_type": "code",
   "execution_count": null,
   "id": "completed-rugby",
   "metadata": {
    "id": "ac16f805-e5df-4267-abb5-8410fbcc1cf3"
   },
   "outputs": [],
   "source": [
    "# Openscale MRM service invokes custom metrics deployment url during runtime and wait for the default time of 60 second's to \n",
    "# to check the run status ie finished/Failed and fetch the latest measurement. Increase the wait time, if the runtime deployment \n",
    "# takes more than 60 seconds to compute and publish the custom metrics \n",
    "\n",
    "#Update the wait time here.\n",
    "custom_metrics_wait_time = 360 #time in seconds <update the time here>"
   ]
  },
  {
   "cell_type": "markdown",
   "id": "domestic-contractor",
   "metadata": {
    "id": "f4b25c09-14bf-4b3b-8b85-f5b905c89704"
   },
   "source": [
    "### Create one custom monitor instance per monitor\n"
   ]
  },
  {
   "cell_type": "code",
   "execution_count": null,
   "id": "functioning-georgia",
   "metadata": {
    "id": "84170660-5200-43f2-b6b9-8469b9e7e60b"
   },
   "outputs": [],
   "source": [
    "for monitor_id in monitor_ids:\n",
    "    monitor_instance_details = wos_util.monitor_instance_create(monitor_id,\n",
    "                                                                metadata_deployment,\n",
    "                                                                metadata_monitor,\n",
    "                                                                custom_metrics_wait_time,\n",
    "                                                                wos_client)\n",
    "    print(monitor_instance_details)"
   ]
  },
  {
   "cell_type": "markdown",
   "id": "available-albert",
   "metadata": {
    "id": "6a2eab48-3667-4d63-8da8-c426f5852992"
   },
   "source": [
    "### Manual Evaluation\n"
   ]
  },
  {
   "cell_type": "code",
   "execution_count": null,
   "id": "native-freight",
   "metadata": {
    "id": "5fdfe8f0-4aff-4664-b332-439028a38c9f"
   },
   "outputs": [],
   "source": [
    "import uuid\n",
    "from pprint import pprint\n",
    "\n",
    "subscription_id = SUBSCRIPTION_ID\n",
    "for monitor_id in monitor_ids:\n",
    "    print('*'*30,monitor_id,'*'*30)\n",
    "    parameters = {\n",
    "        \"custom_metrics_provider_id\": metadata_monitor[monitor_id]['integrated_system_id'],\n",
    "        \"custom_metrics_wait_time\":   custom_metrics_wait_time,\n",
    "        \"run_details\": {\n",
    "        \"run_id\": str(uuid.uuid4()),\n",
    "        \"run_status\": \"Running\"\n",
    "        }\n",
    "    }\n",
    "\n",
    "    payload= {\n",
    "        \"data_mart_id\" : WOS_GUID,\n",
    "        \"subscription_id\" : subscription_id,\n",
    "        \"custom_monitor_id\" : monitor_id,\n",
    "        \"custom_monitor_instance_id\" : wos_util.get_monitor_instance(monitor_id,subscription_id,wos_client)['metadata']['id'],\n",
    "        \"custom_monitor_instance_params\": parameters\n",
    "\n",
    "    }\n",
    "\n",
    "    input_data= { \"input_data\": [ { \"values\": payload } ]\n",
    "                }\n",
    "\n",
    "    #     print(input_data)\n",
    "\n",
    "    job_details = wml_client.deployments.score(metadata_monitor[monitor_id]['wml_deployment_id'], input_data)\n",
    "    pprint(job_details)"
   ]
  }
 ],
 "metadata": {
  "kernelspec": {
   "display_name": "Python 3.8 with applications",
   "language": "python",
   "name": "python3"
  },
  "language_info": {
   "codemirror_mode": {
    "name": "ipython",
    "version": 3
   },
   "file_extension": ".py",
   "mimetype": "text/x-python",
   "name": "python",
   "nbconvert_exporter": "python",
   "pygments_lexer": "ipython3",
   "version": "3.8.11"
  }
 },
 "nbformat": 4,
 "nbformat_minor": 5
}
