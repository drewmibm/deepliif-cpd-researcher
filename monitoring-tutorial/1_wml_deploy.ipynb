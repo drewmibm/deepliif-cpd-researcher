{
 "cells": [
  {
   "cell_type": "markdown",
   "id": "perceived-electric",
   "metadata": {
    "id": "482cd097-e673-48fa-974b-a37911460a11"
   },
   "source": [
    "# Deploy Function in WML"
   ]
  },
  {
   "cell_type": "code",
   "execution_count": null,
   "id": "adult-accommodation",
   "metadata": {
    "id": "71e64a8e-dcc5-4a71-893f-688e6d00ac0c",
    "tags": []
   },
   "outputs": [],
   "source": [
    "import os\n",
    "import wml_sdk_utils as wml_util"
   ]
  },
  {
   "cell_type": "code",
   "execution_count": null,
   "id": "bright-leeds",
   "metadata": {
    "id": "2aa92c1b-d307-4abf-9d7a-d6f6fac796b5",
    "tags": []
   },
   "outputs": [],
   "source": [
    "WML_SPACE_ID = '416d5be2-0964-4605-aa0a-e1764a78f916'"
   ]
  },
  {
   "cell_type": "code",
   "execution_count": null,
   "id": "enhanced-bishop",
   "metadata": {
    "id": "58a1d42d-97ee-4a0b-8d10-a7bb431397aa",
    "tags": []
   },
   "outputs": [],
   "source": [
    "wml_client = wml_util.get_client(space_id=WML_SPACE_ID)\n",
    "wml_client.version"
   ]
  },
  {
   "cell_type": "code",
   "execution_count": null,
   "id": "native-smell",
   "metadata": {
    "id": "468f6d78-06a0-4db4-9902-6dd493064de6",
    "tags": []
   },
   "outputs": [],
   "source": [
    "wml_client.repository.list_functions()"
   ]
  },
  {
   "cell_type": "markdown",
   "id": "julian-oasis",
   "metadata": {
    "id": "c3e0d2ac-5999-4789-83e0-2e3bbf4b4f26"
   },
   "source": [
    "#### input schema\n",
    "`{\"input_data\":[{\"values\":[<something>]}]}`\n",
    "- the input has to have a field \"input_data\"\n",
    "- the list passed to \"values\" cannot be empty\n",
    "- you can have more name-value pairs as you wish, for example:\n",
    "```\n",
    "{\"input_data\": [{\"values\":[None],\"myparam\": \"abc\"}]}\n",
    "{\"input_data\": [{\"values\":[None]}], \"myparam\": \"abc\"}\n",
    "```\n",
    "\n",
    "\n",
    "#### output schema\n",
    "`{\"predictions\":[]}`\n",
    "- the output has to have a field \"predictions\"\n",
    "- you can add your own name-value pairs as you wish similar to the input schema:\n",
    "```\n",
    "{\"predictions\":[\"myparam\":\"abc\"]}\n",
    "{\"predictions\":[],\"myparam\":\"abc\"}\n",
    "```"
   ]
  },
  {
   "cell_type": "markdown",
   "id": "fixed-respondent",
   "metadata": {
    "id": "518ea06b-4527-400c-b5be-ab9116a31cae"
   },
   "source": [
    "## Deploy a Dummy Function"
   ]
  },
  {
   "cell_type": "code",
   "execution_count": null,
   "id": "cutting-length",
   "metadata": {
    "id": "ac1c92a2-fc9c-47c3-bc20-8270fcb40d9a",
    "tags": []
   },
   "outputs": [],
   "source": [
    "path_script = 'wml_deployable_function_dummy.py'\n",
    "function_name = 'wml dummy function wendy'\n",
    "deploy_name = 'wml dummy function deploy wendy'"
   ]
  },
  {
   "cell_type": "code",
   "execution_count": null,
   "id": "thirty-understanding",
   "metadata": {
    "id": "582e93f6-97c5-42e3-96c3-b670dbc7b4d5",
    "tags": []
   },
   "outputs": [],
   "source": [
    "function_asset_id = wml_util.function_store(path_script,wml_client,function_name=function_name)\n",
    "print(function_asset_id)"
   ]
  },
  {
   "cell_type": "code",
   "execution_count": null,
   "id": "dated-helen",
   "metadata": {
    "id": "c10b0de2-c082-4280-8eb5-700315662851",
    "tags": []
   },
   "outputs": [],
   "source": [
    "deployment_id,scoring_url = wml_util.function_deploy(function_asset_id,wml_client,function_deployment_name=deploy_name)\n",
    "print(deployment_id,scoring_url)"
   ]
  },
  {
   "cell_type": "code",
   "execution_count": null,
   "id": "higher-suggestion",
   "metadata": {
    "id": "edcd42c4-b952-4e33-978b-dd18da064576",
    "tags": []
   },
   "outputs": [],
   "source": [
    "import requests\n",
    "import json\n",
    "\n",
    "headers = {'Authorization':'Bearer '+os.environ['USER_ACCESS_TOKEN'],\n",
    "           'Content-Type':'application/json'}\n",
    "\n",
    "payload = {'input_data':[{'values':[None]}],\n",
    "           'batch_id':1,\n",
    "           'batch_label':114}\n",
    "\n",
    "res = requests.post(url=scoring_url,\n",
    "                    data=json.dumps(payload),\n",
    "                    headers=headers,\n",
    "                    verify=False)\n",
    "res"
   ]
  },
  {
   "cell_type": "code",
   "execution_count": null,
   "id": "secondary-visiting",
   "metadata": {
    "id": "343178e5-1f12-42ce-b866-4ed4def56b0c",
    "tags": []
   },
   "outputs": [],
   "source": [
    "res.content"
   ]
  },
  {
   "cell_type": "markdown",
   "id": "norwegian-logic",
   "metadata": {
    "id": "b774d2b2-df35-4751-b8b6-8a1f16705f7d"
   },
   "source": [
    "## Deploy A Dummy Custom Metric Provider"
   ]
  },
  {
   "cell_type": "code",
   "execution_count": null,
   "id": "falling-indonesia",
   "metadata": {
    "id": "34957c23-bbbb-4143-a2eb-31798178de85",
    "tags": []
   },
   "outputs": [],
   "source": [
    "path_script = 'custom_metrics_dummy.py'\n",
    "function_name = 'custom metrics dummy wendy'\n",
    "deploy_name = 'custom metrics dummy deploy wendy'"
   ]
  },
  {
   "cell_type": "code",
   "execution_count": null,
   "id": "shaped-consequence",
   "metadata": {
    "id": "9a64f3a6-def4-4d8b-9aaa-0e4026a5e207",
    "tags": []
   },
   "outputs": [],
   "source": [
    "function_asset_id = wml_util.function_store(path_script,wml_client,function_name=function_name)\n",
    "print(function_asset_id)"
   ]
  },
  {
   "cell_type": "code",
   "execution_count": null,
   "id": "swiss-plaintiff",
   "metadata": {
    "id": "429851d6-7fce-43ab-a86a-79150f472f19",
    "tags": []
   },
   "outputs": [],
   "source": [
    "deployment_id,scoring_url = wml_util.function_deploy(function_asset_id,wml_client,function_deployment_name=deploy_name)\n",
    "print(deployment_id,scoring_url)"
   ]
  },
  {
   "cell_type": "markdown",
   "id": "driven-seeking",
   "metadata": {
    "id": "4319ff9f-ced9-4c33-946c-48dbe128e6a3"
   },
   "source": [
    "#### Sadly you cannot really test this endpoint until you have a real openscale subscription."
   ]
  }
 ],
 "metadata": {
  "kernelspec": {
   "display_name": "Python 3.8 with applications",
   "language": "python",
   "name": "python3"
  },
  "language_info": {
   "codemirror_mode": {
    "name": "ipython",
    "version": 3
   },
   "file_extension": ".py",
   "mimetype": "text/x-python",
   "name": "python",
   "nbconvert_exporter": "python",
   "pygments_lexer": "ipython3",
   "version": "3.8.11"
  }
 },
 "nbformat": 4,
 "nbformat_minor": 5
}
