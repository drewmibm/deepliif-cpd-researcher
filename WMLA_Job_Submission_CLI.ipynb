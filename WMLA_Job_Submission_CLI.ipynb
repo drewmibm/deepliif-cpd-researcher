{
 "cells": [
  {
   "cell_type": "markdown",
   "metadata": {
    "id": "323c4a86-a69d-4b72-801e-ca3574399fc9"
   },
   "source": [
    "# WML-A Job Submission via WML-A CLI\n",
    "\n",
    "Offical examples can be found here: https://wmla-console-cpd-wmla.apps.datascienceelite.com/ui/#/cliTools"
   ]
  },
  {
   "cell_type": "code",
   "execution_count": null,
   "metadata": {
    "id": "9a0475e8-bcb3-4424-8c39-873935847fc4",
    "tags": []
   },
   "outputs": [],
   "source": [
    "%env DIR=/userfs\n",
    "%env NAMESPACE=cpd-wmla\n",
    "%env HOST=wmla-console-cpd-wmla.apps.cpd.mskcc.org\n",
    "%env BASE_URL=https://cpd-cpd.apps.cpd.mskcc.org\n",
    "\n",
    "%env VOLUME_DISPLAY_NAME=DeepLIIFData"
   ]
  },
  {
   "cell_type": "code",
   "execution_count": null,
   "metadata": {
    "id": "facb489c-de25-498d-81f2-f45f9716a09d",
    "tags": []
   },
   "outputs": [],
   "source": [
    "!du -sh /userfs"
   ]
  },
  {
   "cell_type": "code",
   "execution_count": null,
   "metadata": {
    "id": "a60e747d-1c2b-4d56-a5eb-c7f13ae8b5c7",
    "tags": []
   },
   "outputs": [],
   "source": [
    "!df -h /userfs"
   ]
  },
  {
   "cell_type": "markdown",
   "metadata": {
    "id": "5b383562-c544-48a5-8bc2-89001a46398b"
   },
   "source": [
    "### Submit Jobs\n",
    "#### PyTorch (single GPU or multiple GPUs on one node with multithreading)"
   ]
  },
  {
   "cell_type": "code",
   "execution_count": null,
   "metadata": {
    "id": "b58687a3-7084-416c-a2ac-e1dc3bd2a032",
    "tags": []
   },
   "outputs": [],
   "source": [
    "%env DIR_job_submission=/userfs/job_submission\n",
    "%env file_exec=train_command_consumer_local.py\n",
    "\n",
    "!rm -rf $DIR_job_submission\n",
    "!mkdir -p $DIR_job_submission\n",
    "\n",
    "!cp -r $DIR/deepliif-repo/deepliif $DIR_job_submission\n",
    "!cp $DIR/deepliif-repo/* $DIR_job_submission\n",
    "!cp $DIR/$file_exec $DIR_job_submission\n",
    "!cp $DIR/monitor_gpu.sh $DIR_job_submission\n",
    "!cp $DIR/storage_volume_utils.py $DIR_job_submission"
   ]
  },
  {
   "cell_type": "code",
   "execution_count": null,
   "metadata": {
    "id": "c35c45d6-49e2-4c08-9b65-006a52ff04a2",
    "tags": []
   },
   "outputs": [],
   "source": [
    "!python dlicmd.py --exec-start PyTorch --rest-host $HOST --rest-port -1 --jwt-token $USER_ACCESS_TOKEN \\\n",
    "                  --msd-env USER_ACCESS_TOKEN=$USER_ACCESS_TOKEN --msd-env BASE_URL=$BASE_URL \\\n",
    "                  --msd-env VOLUME_DISPLAY_NAME=$VOLUME_DISPLAY_NAME \\\n",
    "                  --workerDeviceNum 1 --workerMemory 8g \\\n",
    "                  --model-dir $DIR_job_submission --model-main $file_exec \\\n",
    "                  --cs-datastore-meta type=fs,data_path=DeepLIIF_Datasets/"
   ]
  },
  {
   "cell_type": "markdown",
   "metadata": {
    "id": "08726af6-6869-469d-9a1b-67b8af1dbe9c"
   },
   "source": [
    "### Submit Jobs\n",
    "#### distPyTorch (multiprocessing using DDP)"
   ]
  },
  {
   "cell_type": "code",
   "execution_count": null,
   "metadata": {
    "id": "fb7d476a-4793-40c3-987b-316ea42c222c",
    "tags": []
   },
   "outputs": [],
   "source": [
    "%env DIR_job_submission=/userfs/job_submission\n",
    "%env file_exec=train_command.py\n",
    "\n",
    "!rm -rf $DIR_job_submission\n",
    "!mkdir -p $DIR_job_submission\n",
    "\n",
    "!cp -r $DIR/deepliif-repo/deepliif $DIR_job_submission\n",
    "!cp $DIR/deepliif-repo/* $DIR_job_submission\n",
    "!cp $DIR/$file_exec $DIR_job_submission\n",
    "!cp $DIR/monitor_gpu.sh $DIR_job_submission\n",
    "!cp $DIR/storage_volume_utils.py $DIR_job_submission"
   ]
  },
  {
   "cell_type": "code",
   "execution_count": null,
   "metadata": {
    "id": "651534a9-82d7-492e-9ba6-5b85f93e47b0",
    "tags": []
   },
   "outputs": [],
   "source": [
    "%%writefile /userfs/conf_distPyTorch.py\n",
    "import os\n",
    "import torch.distributed as dist\n",
    "def init_process():\n",
    "    dist.init_process_group(\n",
    "        backend='nccl',\n",
    "        init_method='tcp://' + os.environ['MASTER_ADDR'] + ':' + os.environ['MASTER_PORT'],\n",
    "        rank=int(os.environ['RANK']),\n",
    "        world_size=int(os.environ['WORLD_SIZE']))\n",
    "    \n",
    "print('------ initiate process group... ------')\n",
    "init_process()"
   ]
  },
  {
   "cell_type": "code",
   "execution_count": null,
   "metadata": {
    "id": "fdc36f33-1cee-4dca-9d02-3160ae210a80",
    "tags": []
   },
   "outputs": [],
   "source": [
    "# cat cannot change file in place, so we create a new one and use it to overwrite cli.py\n",
    "!cat /userfs/conf_distPyTorch.py $DIR_job_submission/cli.py > $DIR_job_submission/cli_edited.py\n",
    "!mv $DIR_job_submission/cli_edited.py $DIR_job_submission/cli.py"
   ]
  },
  {
   "cell_type": "code",
   "execution_count": null,
   "metadata": {
    "id": "a90893c6-f5f9-4778-8f85-254a2ce53c96",
    "tags": []
   },
   "outputs": [],
   "source": [
    "!python dlicmd.py --exec-start distPyTorch --rest-host $HOST --rest-port -1 --jwt-token $USER_ACCESS_TOKEN \\\n",
    "                  --msd-env USER_ACCESS_TOKEN=$USER_ACCESS_TOKEN --msd-env BASE_URL=$BASE_URL \\\n",
    "                  --msd-env VOLUME_DISPLAY_NAME=$VOLUME_DISPLAY_NAME \\\n",
    "                  --numWorker 3 --workerMemory 8g \\\n",
    "                  --model-dir $DIR_job_submission --model-main $file_exec \\\n",
    "                  --cs-datastore-meta type=fs,data_path=DeepLIIF_Datasets/"
   ]
  },
  {
   "cell_type": "markdown",
   "metadata": {
    "id": "82024c2c-cb7a-413d-b6f4-42aa8beb4e84"
   },
   "source": [
    "#### Specify Job/App ID"
   ]
  },
  {
   "cell_type": "code",
   "execution_count": null,
   "metadata": {
    "id": "222dd2d5-57b3-4e6a-813f-f7bc9133c194"
   },
   "outputs": [],
   "source": [
    "%env APP_ID=cpd-wmla-212"
   ]
  },
  {
   "cell_type": "markdown",
   "metadata": {
    "id": "10ab43f9-45c9-443c-836e-70b8d93201a5"
   },
   "source": [
    "### Delete Jobs (and associated results/logs)\n",
    "#### delete one job"
   ]
  },
  {
   "cell_type": "code",
   "execution_count": null,
   "metadata": {
    "id": "9187399d-98df-4842-ae9f-03d83db495e7",
    "tags": []
   },
   "outputs": [],
   "source": [
    "# !python dlicmd.py --exec-delete $NAMESPACE-38 --rest-host $HOST --rest-port -1 --jwt-token $USER_ACCESS_TOKEN "
   ]
  },
  {
   "cell_type": "markdown",
   "metadata": {
    "id": "6bd3a390-7342-440f-9eab-9f81724edc34"
   },
   "source": [
    "#### delete multiple jobs in a loop"
   ]
  },
  {
   "cell_type": "code",
   "execution_count": null,
   "metadata": {
    "id": "839e4708-ebe6-47e9-824a-7ed55715859f",
    "tags": []
   },
   "outputs": [],
   "source": [
    "for i in range(140,160):\n",
    "    %env i=$i\n",
    "    !python dlicmd.py --exec-delete $NAMESPACE-$i --rest-host $HOST --rest-port -1 --jwt-token $USER_ACCESS_TOKEN "
   ]
  },
  {
   "cell_type": "markdown",
   "metadata": {
    "id": "a87fd618-0d5d-4f7d-b14c-abf160171a63"
   },
   "source": [
    "### Get Job Status"
   ]
  },
  {
   "cell_type": "code",
   "execution_count": null,
   "metadata": {
    "id": "5c1ffd65-e531-4fbc-9cef-7d9d47020d24",
    "tags": []
   },
   "outputs": [],
   "source": [
    "# !python dlicmd.py --exec-get $NAMESPACE-10 --rest-host $HOST --rest-port -1 --jwt-token $USER_ACCESS_TOKEN"
   ]
  },
  {
   "cell_type": "markdown",
   "metadata": {
    "id": "31923da7-9f80-4634-bd8e-4fd99b1ce687"
   },
   "source": [
    "### Get Job Log\n",
    "#### last 10 lines"
   ]
  },
  {
   "cell_type": "code",
   "execution_count": null,
   "metadata": {
    "id": "90b9325a-6aa6-402f-872d-91e2482c5025",
    "tags": []
   },
   "outputs": [],
   "source": [
    "!python dlicmd.py --exec-outlogs $APP_ID --rest-host $HOST --rest-port -1 --jwt-token $USER_ACCESS_TOKEN"
   ]
  },
  {
   "cell_type": "markdown",
   "metadata": {
    "id": "2d33b3ca-a56c-4087-86f8-396ce81588a5"
   },
   "source": [
    "#### full log files"
   ]
  },
  {
   "cell_type": "code",
   "execution_count": null,
   "metadata": {
    "id": "a84e3f7e-71f8-402e-89ec-81a2ed43633f",
    "tags": []
   },
   "outputs": [],
   "source": [
    "!python dlicmd.py --exec-trainerrlogs $APP_ID --rest-host $HOST --rest-port -1 --jwt-token $USER_ACCESS_TOKEN"
   ]
  },
  {
   "cell_type": "code",
   "execution_count": null,
   "metadata": {
    "id": "bebbeaca-3020-4513-aac6-b64fdb3aa595"
   },
   "outputs": [],
   "source": [
    "!python dlicmd.py --exec-trainoutlogs $APP_ID --rest-host $HOST --rest-port -1 --jwt-token $USER_ACCESS_TOKEN"
   ]
  },
  {
   "cell_type": "markdown",
   "metadata": {
    "id": "5321d505-05ba-4d61-a52d-88ba20574aaa"
   },
   "source": [
    "## Others - Visualizer Application"
   ]
  },
  {
   "cell_type": "code",
   "execution_count": 1,
   "metadata": {
    "id": "2081395a-4eb3-4c2f-a95c-cb6015e3d883",
    "tags": []
   },
   "outputs": [],
   "source": [
    "from ws_applications import display_link"
   ]
  },
  {
   "cell_type": "code",
   "execution_count": 8,
   "metadata": {
    "id": "cb16229e-003c-4bab-967e-0a0f58c451b7",
    "tags": []
   },
   "outputs": [
    {
     "data": {
      "text/html": [
       "<h3>Apps currently running (experimental)</h3>"
      ],
      "text/plain": [
       "<IPython.core.display.HTML object>"
      ]
     },
     "metadata": {},
     "output_type": "display_data"
    },
    {
     "data": {
      "text/html": [
       "These apps have been detected automatically."
      ],
      "text/plain": [
       "<IPython.core.display.HTML object>"
      ]
     },
     "metadata": {},
     "output_type": "display_data"
    },
    {
     "data": {
      "text/html": [
       "<br>"
      ],
      "text/plain": [
       "<IPython.core.display.HTML object>"
      ]
     },
     "metadata": {},
     "output_type": "display_data"
    },
    {
     "data": {
      "text/html": [
       "\n",
       "    <table>\n",
       "      <tr>\n",
       "        <th>Application Type</th>\n",
       "        <th>Process Name</th>\n",
       "        <th>Port</th>\n",
       "        <th>Link</th>\n",
       "      </tr>\n",
       "    \n",
       "        <tr>\n",
       "            <td>\n",
       "            <svg xmlns=\"http://www.w3.org/2000/svg\" height=\"20\" fill=\"currentColor\" class=\"bi bi-question-circle\" viewBox=\"0 0 16 16\">\n",
       "                <path d=\"M8 15A7 7 0 1 1 8 1a7 7 0 0 1 0 14zm0 1A8 8 0 1 0 8 0a8 8 0 0 0 0 16z\"/>\n",
       "                <path d=\"M5.255 5.786a.237.237 0 0 0 .241.247h.825c.138 0 .248-.113.266-.25.09-.656.54-1.134 1.342-1.134.686 0 1.314.343 1.314 1.168 0 .635-.374.927-.965 1.371-.673.489-1.206 1.06-1.168 1.987l.003.217a.25.25 0 0 0 .25.246h.811a.25.25 0 0 0 .25-.25v-.105c0-.718.273-.927 1.01-1.486.609-.463 1.244-.977 1.244-2.056 0-1.511-1.276-2.241-2.673-2.241-1.267 0-2.655.59-2.75 2.286zm1.557 5.763c0 .533.425.927 1.01.927.609 0 1.028-.394 1.028-.927 0-.552-.42-.94-1.029-.94-.584 0-1.009.388-1.009.94z\"/>\n",
       "            </svg>\n",
       "            </td>\n",
       "            <td>python</td>\n",
       "            <td>37657</td>\n",
       "            <td>\n",
       "        <form action=/dsx-jupyter-lab-py38gpu/ibmdsxuser-1000331006/90b5a4a5-f05a-48cf-833e-33c63933d890/jupyter-lab-py38gpu-e17f2578-4d5e-4ce9-b44c-a2ee46c49f45/proxy/37657/ target='_blank'>\n",
       "            <input type=\"submit\" value=\"Open app\" />\n",
       "        </form>\n",
       "        </td>\n",
       "        </tr>\n",
       "        \n",
       "        <tr>\n",
       "            <td>\n",
       "            <svg xmlns=\"http://www.w3.org/2000/svg\" height=\"20\" fill=\"currentColor\" class=\"bi bi-question-circle\" viewBox=\"0 0 16 16\">\n",
       "                <path d=\"M8 15A7 7 0 1 1 8 1a7 7 0 0 1 0 14zm0 1A8 8 0 1 0 8 0a8 8 0 0 0 0 16z\"/>\n",
       "                <path d=\"M5.255 5.786a.237.237 0 0 0 .241.247h.825c.138 0 .248-.113.266-.25.09-.656.54-1.134 1.342-1.134.686 0 1.314.343 1.314 1.168 0 .635-.374.927-.965 1.371-.673.489-1.206 1.06-1.168 1.987l.003.217a.25.25 0 0 0 .25.246h.811a.25.25 0 0 0 .25-.25v-.105c0-.718.273-.927 1.01-1.486.609-.463 1.244-.977 1.244-2.056 0-1.511-1.276-2.241-2.673-2.241-1.267 0-2.655.59-2.75 2.286zm1.557 5.763c0 .533.425.927 1.01.927.609 0 1.028-.394 1.028-.927 0-.552-.42-.94-1.029-.94-.584 0-1.009.388-1.009.94z\"/>\n",
       "            </svg>\n",
       "            </td>\n",
       "            <td>python</td>\n",
       "            <td>47787</td>\n",
       "            <td>\n",
       "        <form action=/dsx-jupyter-lab-py38gpu/ibmdsxuser-1000331006/90b5a4a5-f05a-48cf-833e-33c63933d890/jupyter-lab-py38gpu-e17f2578-4d5e-4ce9-b44c-a2ee46c49f45/proxy/47787/ target='_blank'>\n",
       "            <input type=\"submit\" value=\"Open app\" />\n",
       "        </form>\n",
       "        </td>\n",
       "        </tr>\n",
       "        \n",
       "        <tr>\n",
       "            <td>\n",
       "            <svg xmlns=\"http://www.w3.org/2000/svg\" height=\"20\" fill=\"currentColor\" class=\"bi bi-question-circle\" viewBox=\"0 0 16 16\">\n",
       "                <path d=\"M8 15A7 7 0 1 1 8 1a7 7 0 0 1 0 14zm0 1A8 8 0 1 0 8 0a8 8 0 0 0 0 16z\"/>\n",
       "                <path d=\"M5.255 5.786a.237.237 0 0 0 .241.247h.825c.138 0 .248-.113.266-.25.09-.656.54-1.134 1.342-1.134.686 0 1.314.343 1.314 1.168 0 .635-.374.927-.965 1.371-.673.489-1.206 1.06-1.168 1.987l.003.217a.25.25 0 0 0 .25.246h.811a.25.25 0 0 0 .25-.25v-.105c0-.718.273-.927 1.01-1.486.609-.463 1.244-.977 1.244-2.056 0-1.511-1.276-2.241-2.673-2.241-1.267 0-2.655.59-2.75 2.286zm1.557 5.763c0 .533.425.927 1.01.927.609 0 1.028-.394 1.028-.927 0-.552-.42-.94-1.029-.94-.584 0-1.009.388-1.009.94z\"/>\n",
       "            </svg>\n",
       "            </td>\n",
       "            <td>python</td>\n",
       "            <td>8097</td>\n",
       "            <td>\n",
       "        <form action=/dsx-jupyter-lab-py38gpu/ibmdsxuser-1000331006/90b5a4a5-f05a-48cf-833e-33c63933d890/jupyter-lab-py38gpu-e17f2578-4d5e-4ce9-b44c-a2ee46c49f45/proxy/8097/ target='_blank'>\n",
       "            <input type=\"submit\" value=\"Open app\" />\n",
       "        </form>\n",
       "        </td>\n",
       "        </tr>\n",
       "        \n",
       "        <tr>\n",
       "            <td>\n",
       "            <svg xmlns=\"http://www.w3.org/2000/svg\" height=\"20\" fill=\"currentColor\" class=\"bi bi-question-circle\" viewBox=\"0 0 16 16\">\n",
       "                <path d=\"M8 15A7 7 0 1 1 8 1a7 7 0 0 1 0 14zm0 1A8 8 0 1 0 8 0a8 8 0 0 0 0 16z\"/>\n",
       "                <path d=\"M5.255 5.786a.237.237 0 0 0 .241.247h.825c.138 0 .248-.113.266-.25.09-.656.54-1.134 1.342-1.134.686 0 1.314.343 1.314 1.168 0 .635-.374.927-.965 1.371-.673.489-1.206 1.06-1.168 1.987l.003.217a.25.25 0 0 0 .25.246h.811a.25.25 0 0 0 .25-.25v-.105c0-.718.273-.927 1.01-1.486.609-.463 1.244-.977 1.244-2.056 0-1.511-1.276-2.241-2.673-2.241-1.267 0-2.655.59-2.75 2.286zm1.557 5.763c0 .533.425.927 1.01.927.609 0 1.028-.394 1.028-.927 0-.552-.42-.94-1.029-.94-.584 0-1.009.388-1.009.94z\"/>\n",
       "            </svg>\n",
       "            </td>\n",
       "            <td>python</td>\n",
       "            <td>58961</td>\n",
       "            <td>\n",
       "        <form action=/dsx-jupyter-lab-py38gpu/ibmdsxuser-1000331006/90b5a4a5-f05a-48cf-833e-33c63933d890/jupyter-lab-py38gpu-e17f2578-4d5e-4ce9-b44c-a2ee46c49f45/proxy/58961/ target='_blank'>\n",
       "            <input type=\"submit\" value=\"Open app\" />\n",
       "        </form>\n",
       "        </td>\n",
       "        </tr>\n",
       "        \n",
       "        <tr>\n",
       "            <td>\n",
       "            <svg xmlns=\"http://www.w3.org/2000/svg\" height=\"20\" fill=\"currentColor\" class=\"bi bi-question-circle\" viewBox=\"0 0 16 16\">\n",
       "                <path d=\"M8 15A7 7 0 1 1 8 1a7 7 0 0 1 0 14zm0 1A8 8 0 1 0 8 0a8 8 0 0 0 0 16z\"/>\n",
       "                <path d=\"M5.255 5.786a.237.237 0 0 0 .241.247h.825c.138 0 .248-.113.266-.25.09-.656.54-1.134 1.342-1.134.686 0 1.314.343 1.314 1.168 0 .635-.374.927-.965 1.371-.673.489-1.206 1.06-1.168 1.987l.003.217a.25.25 0 0 0 .25.246h.811a.25.25 0 0 0 .25-.25v-.105c0-.718.273-.927 1.01-1.486.609-.463 1.244-.977 1.244-2.056 0-1.511-1.276-2.241-2.673-2.241-1.267 0-2.655.59-2.75 2.286zm1.557 5.763c0 .533.425.927 1.01.927.609 0 1.028-.394 1.028-.927 0-.552-.42-.94-1.029-.94-.584 0-1.009.388-1.009.94z\"/>\n",
       "            </svg>\n",
       "            </td>\n",
       "            <td>python</td>\n",
       "            <td>56869</td>\n",
       "            <td>\n",
       "        <form action=/dsx-jupyter-lab-py38gpu/ibmdsxuser-1000331006/90b5a4a5-f05a-48cf-833e-33c63933d890/jupyter-lab-py38gpu-e17f2578-4d5e-4ce9-b44c-a2ee46c49f45/proxy/56869/ target='_blank'>\n",
       "            <input type=\"submit\" value=\"Open app\" />\n",
       "        </form>\n",
       "        </td>\n",
       "        </tr>\n",
       "        \n",
       "        <tr>\n",
       "            <td>\n",
       "            <svg xmlns=\"http://www.w3.org/2000/svg\" height=\"20\" fill=\"currentColor\" class=\"bi bi-question-circle\" viewBox=\"0 0 16 16\">\n",
       "                <path d=\"M8 15A7 7 0 1 1 8 1a7 7 0 0 1 0 14zm0 1A8 8 0 1 0 8 0a8 8 0 0 0 0 16z\"/>\n",
       "                <path d=\"M5.255 5.786a.237.237 0 0 0 .241.247h.825c.138 0 .248-.113.266-.25.09-.656.54-1.134 1.342-1.134.686 0 1.314.343 1.314 1.168 0 .635-.374.927-.965 1.371-.673.489-1.206 1.06-1.168 1.987l.003.217a.25.25 0 0 0 .25.246h.811a.25.25 0 0 0 .25-.25v-.105c0-.718.273-.927 1.01-1.486.609-.463 1.244-.977 1.244-2.056 0-1.511-1.276-2.241-2.673-2.241-1.267 0-2.655.59-2.75 2.286zm1.557 5.763c0 .533.425.927 1.01.927.609 0 1.028-.394 1.028-.927 0-.552-.42-.94-1.029-.94-.584 0-1.009.388-1.009.94z\"/>\n",
       "            </svg>\n",
       "            </td>\n",
       "            <td>python</td>\n",
       "            <td>43107</td>\n",
       "            <td>\n",
       "        <form action=/dsx-jupyter-lab-py38gpu/ibmdsxuser-1000331006/90b5a4a5-f05a-48cf-833e-33c63933d890/jupyter-lab-py38gpu-e17f2578-4d5e-4ce9-b44c-a2ee46c49f45/proxy/43107/ target='_blank'>\n",
       "            <input type=\"submit\" value=\"Open app\" />\n",
       "        </form>\n",
       "        </td>\n",
       "        </tr>\n",
       "        \n",
       "        <tr>\n",
       "            <td>\n",
       "            <svg xmlns=\"http://www.w3.org/2000/svg\" height=\"20\" fill=\"currentColor\" class=\"bi bi-question-circle\" viewBox=\"0 0 16 16\">\n",
       "                <path d=\"M8 15A7 7 0 1 1 8 1a7 7 0 0 1 0 14zm0 1A8 8 0 1 0 8 0a8 8 0 0 0 0 16z\"/>\n",
       "                <path d=\"M5.255 5.786a.237.237 0 0 0 .241.247h.825c.138 0 .248-.113.266-.25.09-.656.54-1.134 1.342-1.134.686 0 1.314.343 1.314 1.168 0 .635-.374.927-.965 1.371-.673.489-1.206 1.06-1.168 1.987l.003.217a.25.25 0 0 0 .25.246h.811a.25.25 0 0 0 .25-.25v-.105c0-.718.273-.927 1.01-1.486.609-.463 1.244-.977 1.244-2.056 0-1.511-1.276-2.241-2.673-2.241-1.267 0-2.655.59-2.75 2.286zm1.557 5.763c0 .533.425.927 1.01.927.609 0 1.028-.394 1.028-.927 0-.552-.42-.94-1.029-.94-.584 0-1.009.388-1.009.94z\"/>\n",
       "            </svg>\n",
       "            </td>\n",
       "            <td>python</td>\n",
       "            <td>8097</td>\n",
       "            <td>\n",
       "        <form action=/dsx-jupyter-lab-py38gpu/ibmdsxuser-1000331006/90b5a4a5-f05a-48cf-833e-33c63933d890/jupyter-lab-py38gpu-e17f2578-4d5e-4ce9-b44c-a2ee46c49f45/proxy/8097/ target='_blank'>\n",
       "            <input type=\"submit\" value=\"Open app\" />\n",
       "        </form>\n",
       "        </td>\n",
       "        </tr>\n",
       "        \n",
       "        <tr>\n",
       "            <td>\n",
       "            <svg xmlns=\"http://www.w3.org/2000/svg\" height=\"20\" fill=\"currentColor\" class=\"bi bi-question-circle\" viewBox=\"0 0 16 16\">\n",
       "                <path d=\"M8 15A7 7 0 1 1 8 1a7 7 0 0 1 0 14zm0 1A8 8 0 1 0 8 0a8 8 0 0 0 0 16z\"/>\n",
       "                <path d=\"M5.255 5.786a.237.237 0 0 0 .241.247h.825c.138 0 .248-.113.266-.25.09-.656.54-1.134 1.342-1.134.686 0 1.314.343 1.314 1.168 0 .635-.374.927-.965 1.371-.673.489-1.206 1.06-1.168 1.987l.003.217a.25.25 0 0 0 .25.246h.811a.25.25 0 0 0 .25-.25v-.105c0-.718.273-.927 1.01-1.486.609-.463 1.244-.977 1.244-2.056 0-1.511-1.276-2.241-2.673-2.241-1.267 0-2.655.59-2.75 2.286zm1.557 5.763c0 .533.425.927 1.01.927.609 0 1.028-.394 1.028-.927 0-.552-.42-.94-1.029-.94-.584 0-1.009.388-1.009.94z\"/>\n",
       "            </svg>\n",
       "            </td>\n",
       "            <td>python</td>\n",
       "            <td>34081</td>\n",
       "            <td>\n",
       "        <form action=/dsx-jupyter-lab-py38gpu/ibmdsxuser-1000331006/90b5a4a5-f05a-48cf-833e-33c63933d890/jupyter-lab-py38gpu-e17f2578-4d5e-4ce9-b44c-a2ee46c49f45/proxy/34081/ target='_blank'>\n",
       "            <input type=\"submit\" value=\"Open app\" />\n",
       "        </form>\n",
       "        </td>\n",
       "        </tr>\n",
       "        \n",
       "        <tr>\n",
       "            <td>\n",
       "            <svg xmlns=\"http://www.w3.org/2000/svg\" height=\"20\" fill=\"currentColor\" class=\"bi bi-question-circle\" viewBox=\"0 0 16 16\">\n",
       "                <path d=\"M8 15A7 7 0 1 1 8 1a7 7 0 0 1 0 14zm0 1A8 8 0 1 0 8 0a8 8 0 0 0 0 16z\"/>\n",
       "                <path d=\"M5.255 5.786a.237.237 0 0 0 .241.247h.825c.138 0 .248-.113.266-.25.09-.656.54-1.134 1.342-1.134.686 0 1.314.343 1.314 1.168 0 .635-.374.927-.965 1.371-.673.489-1.206 1.06-1.168 1.987l.003.217a.25.25 0 0 0 .25.246h.811a.25.25 0 0 0 .25-.25v-.105c0-.718.273-.927 1.01-1.486.609-.463 1.244-.977 1.244-2.056 0-1.511-1.276-2.241-2.673-2.241-1.267 0-2.655.59-2.75 2.286zm1.557 5.763c0 .533.425.927 1.01.927.609 0 1.028-.394 1.028-.927 0-.552-.42-.94-1.029-.94-.584 0-1.009.388-1.009.94z\"/>\n",
       "            </svg>\n",
       "            </td>\n",
       "            <td>python</td>\n",
       "            <td>58847</td>\n",
       "            <td>\n",
       "        <form action=/dsx-jupyter-lab-py38gpu/ibmdsxuser-1000331006/90b5a4a5-f05a-48cf-833e-33c63933d890/jupyter-lab-py38gpu-e17f2578-4d5e-4ce9-b44c-a2ee46c49f45/proxy/58847/ target='_blank'>\n",
       "            <input type=\"submit\" value=\"Open app\" />\n",
       "        </form>\n",
       "        </td>\n",
       "        </tr>\n",
       "        \n",
       "        <tr>\n",
       "            <td>\n",
       "            <svg xmlns=\"http://www.w3.org/2000/svg\" height=\"20\" fill=\"currentColor\" class=\"bi bi-question-circle\" viewBox=\"0 0 16 16\">\n",
       "                <path d=\"M8 15A7 7 0 1 1 8 1a7 7 0 0 1 0 14zm0 1A8 8 0 1 0 8 0a8 8 0 0 0 0 16z\"/>\n",
       "                <path d=\"M5.255 5.786a.237.237 0 0 0 .241.247h.825c.138 0 .248-.113.266-.25.09-.656.54-1.134 1.342-1.134.686 0 1.314.343 1.314 1.168 0 .635-.374.927-.965 1.371-.673.489-1.206 1.06-1.168 1.987l.003.217a.25.25 0 0 0 .25.246h.811a.25.25 0 0 0 .25-.25v-.105c0-.718.273-.927 1.01-1.486.609-.463 1.244-.977 1.244-2.056 0-1.511-1.276-2.241-2.673-2.241-1.267 0-2.655.59-2.75 2.286zm1.557 5.763c0 .533.425.927 1.01.927.609 0 1.028-.394 1.028-.927 0-.552-.42-.94-1.029-.94-.584 0-1.009.388-1.009.94z\"/>\n",
       "            </svg>\n",
       "            </td>\n",
       "            <td>python</td>\n",
       "            <td>34591</td>\n",
       "            <td>\n",
       "        <form action=/dsx-jupyter-lab-py38gpu/ibmdsxuser-1000331006/90b5a4a5-f05a-48cf-833e-33c63933d890/jupyter-lab-py38gpu-e17f2578-4d5e-4ce9-b44c-a2ee46c49f45/proxy/34591/ target='_blank'>\n",
       "            <input type=\"submit\" value=\"Open app\" />\n",
       "        </form>\n",
       "        </td>\n",
       "        </tr>\n",
       "        \n",
       "        <tr>\n",
       "            <td>\n",
       "            <svg xmlns=\"http://www.w3.org/2000/svg\" height=\"20\" fill=\"currentColor\" class=\"bi bi-question-circle\" viewBox=\"0 0 16 16\">\n",
       "                <path d=\"M8 15A7 7 0 1 1 8 1a7 7 0 0 1 0 14zm0 1A8 8 0 1 0 8 0a8 8 0 0 0 0 16z\"/>\n",
       "                <path d=\"M5.255 5.786a.237.237 0 0 0 .241.247h.825c.138 0 .248-.113.266-.25.09-.656.54-1.134 1.342-1.134.686 0 1.314.343 1.314 1.168 0 .635-.374.927-.965 1.371-.673.489-1.206 1.06-1.168 1.987l.003.217a.25.25 0 0 0 .25.246h.811a.25.25 0 0 0 .25-.25v-.105c0-.718.273-.927 1.01-1.486.609-.463 1.244-.977 1.244-2.056 0-1.511-1.276-2.241-2.673-2.241-1.267 0-2.655.59-2.75 2.286zm1.557 5.763c0 .533.425.927 1.01.927.609 0 1.028-.394 1.028-.927 0-.552-.42-.94-1.029-.94-.584 0-1.009.388-1.009.94z\"/>\n",
       "            </svg>\n",
       "            </td>\n",
       "            <td>python</td>\n",
       "            <td>38399</td>\n",
       "            <td>\n",
       "        <form action=/dsx-jupyter-lab-py38gpu/ibmdsxuser-1000331006/90b5a4a5-f05a-48cf-833e-33c63933d890/jupyter-lab-py38gpu-e17f2578-4d5e-4ce9-b44c-a2ee46c49f45/proxy/38399/ target='_blank'>\n",
       "            <input type=\"submit\" value=\"Open app\" />\n",
       "        </form>\n",
       "        </td>\n",
       "        </tr>\n",
       "        \n",
       "        <tr>\n",
       "            <td>\n",
       "            <svg xmlns=\"http://www.w3.org/2000/svg\" height=\"20\" fill=\"currentColor\" class=\"bi bi-question-circle\" viewBox=\"0 0 16 16\">\n",
       "                <path d=\"M8 15A7 7 0 1 1 8 1a7 7 0 0 1 0 14zm0 1A8 8 0 1 0 8 0a8 8 0 0 0 0 16z\"/>\n",
       "                <path d=\"M5.255 5.786a.237.237 0 0 0 .241.247h.825c.138 0 .248-.113.266-.25.09-.656.54-1.134 1.342-1.134.686 0 1.314.343 1.314 1.168 0 .635-.374.927-.965 1.371-.673.489-1.206 1.06-1.168 1.987l.003.217a.25.25 0 0 0 .25.246h.811a.25.25 0 0 0 .25-.25v-.105c0-.718.273-.927 1.01-1.486.609-.463 1.244-.977 1.244-2.056 0-1.511-1.276-2.241-2.673-2.241-1.267 0-2.655.59-2.75 2.286zm1.557 5.763c0 .533.425.927 1.01.927.609 0 1.028-.394 1.028-.927 0-.552-.42-.94-1.029-.94-.584 0-1.009.388-1.009.94z\"/>\n",
       "            </svg>\n",
       "            </td>\n",
       "            <td>python</td>\n",
       "            <td>52299</td>\n",
       "            <td>\n",
       "        <form action=/dsx-jupyter-lab-py38gpu/ibmdsxuser-1000331006/90b5a4a5-f05a-48cf-833e-33c63933d890/jupyter-lab-py38gpu-e17f2578-4d5e-4ce9-b44c-a2ee46c49f45/proxy/52299/ target='_blank'>\n",
       "            <input type=\"submit\" value=\"Open app\" />\n",
       "        </form>\n",
       "        </td>\n",
       "        </tr>\n",
       "        \n",
       "        <tr>\n",
       "            <td>\n",
       "            <svg xmlns=\"http://www.w3.org/2000/svg\" height=\"20\" fill=\"currentColor\" class=\"bi bi-question-circle\" viewBox=\"0 0 16 16\">\n",
       "                <path d=\"M8 15A7 7 0 1 1 8 1a7 7 0 0 1 0 14zm0 1A8 8 0 1 0 8 0a8 8 0 0 0 0 16z\"/>\n",
       "                <path d=\"M5.255 5.786a.237.237 0 0 0 .241.247h.825c.138 0 .248-.113.266-.25.09-.656.54-1.134 1.342-1.134.686 0 1.314.343 1.314 1.168 0 .635-.374.927-.965 1.371-.673.489-1.206 1.06-1.168 1.987l.003.217a.25.25 0 0 0 .25.246h.811a.25.25 0 0 0 .25-.25v-.105c0-.718.273-.927 1.01-1.486.609-.463 1.244-.977 1.244-2.056 0-1.511-1.276-2.241-2.673-2.241-1.267 0-2.655.59-2.75 2.286zm1.557 5.763c0 .533.425.927 1.01.927.609 0 1.028-.394 1.028-.927 0-.552-.42-.94-1.029-.94-.584 0-1.009.388-1.009.94z\"/>\n",
       "            </svg>\n",
       "            </td>\n",
       "            <td>python</td>\n",
       "            <td>45727</td>\n",
       "            <td>\n",
       "        <form action=/dsx-jupyter-lab-py38gpu/ibmdsxuser-1000331006/90b5a4a5-f05a-48cf-833e-33c63933d890/jupyter-lab-py38gpu-e17f2578-4d5e-4ce9-b44c-a2ee46c49f45/proxy/45727/ target='_blank'>\n",
       "            <input type=\"submit\" value=\"Open app\" />\n",
       "        </form>\n",
       "        </td>\n",
       "        </tr>\n",
       "        \n",
       "        <tr>\n",
       "            <td>\n",
       "            <svg xmlns=\"http://www.w3.org/2000/svg\" height=\"20\" fill=\"currentColor\" class=\"bi bi-question-circle\" viewBox=\"0 0 16 16\">\n",
       "                <path d=\"M8 15A7 7 0 1 1 8 1a7 7 0 0 1 0 14zm0 1A8 8 0 1 0 8 0a8 8 0 0 0 0 16z\"/>\n",
       "                <path d=\"M5.255 5.786a.237.237 0 0 0 .241.247h.825c.138 0 .248-.113.266-.25.09-.656.54-1.134 1.342-1.134.686 0 1.314.343 1.314 1.168 0 .635-.374.927-.965 1.371-.673.489-1.206 1.06-1.168 1.987l.003.217a.25.25 0 0 0 .25.246h.811a.25.25 0 0 0 .25-.25v-.105c0-.718.273-.927 1.01-1.486.609-.463 1.244-.977 1.244-2.056 0-1.511-1.276-2.241-2.673-2.241-1.267 0-2.655.59-2.75 2.286zm1.557 5.763c0 .533.425.927 1.01.927.609 0 1.028-.394 1.028-.927 0-.552-.42-.94-1.029-.94-.584 0-1.009.388-1.009.94z\"/>\n",
       "            </svg>\n",
       "            </td>\n",
       "            <td>python</td>\n",
       "            <td>33417</td>\n",
       "            <td>\n",
       "        <form action=/dsx-jupyter-lab-py38gpu/ibmdsxuser-1000331006/90b5a4a5-f05a-48cf-833e-33c63933d890/jupyter-lab-py38gpu-e17f2578-4d5e-4ce9-b44c-a2ee46c49f45/proxy/33417/ target='_blank'>\n",
       "            <input type=\"submit\" value=\"Open app\" />\n",
       "        </form>\n",
       "        </td>\n",
       "        </tr>\n",
       "        </table>"
      ],
      "text/plain": [
       "<IPython.core.display.HTML object>"
      ]
     },
     "metadata": {},
     "output_type": "display_data"
    },
    {
     "data": {
      "text/html": [
       "<br><br>"
      ],
      "text/plain": [
       "<IPython.core.display.HTML object>"
      ]
     },
     "metadata": {},
     "output_type": "display_data"
    },
    {
     "data": {
      "text/html": [
       "<h3>Link builder</h3>"
      ],
      "text/plain": [
       "<IPython.core.display.HTML object>"
      ]
     },
     "metadata": {},
     "output_type": "display_data"
    },
    {
     "data": {
      "text/html": [
       "Once your application is running, click on the link generated below.<br>"
      ],
      "text/plain": [
       "<IPython.core.display.HTML object>"
      ]
     },
     "metadata": {},
     "output_type": "display_data"
    },
    {
     "data": {
      "application/vnd.jupyter.widget-view+json": {
       "model_id": "effe45e6221f4e9f97dc0b5d9eb4575a",
       "version_major": 2,
       "version_minor": 0
      },
      "text/plain": [
       "Dropdown(description='Application type', options=(('Plotly Dash (port 8050)', 8050), ('Streamlit (port 8501)',…"
      ]
     },
     "metadata": {},
     "output_type": "display_data"
    },
    {
     "data": {
      "application/vnd.jupyter.widget-view+json": {
       "model_id": "9fce9865301a433d8945e435b1e73e26",
       "version_major": 2,
       "version_minor": 0
      },
      "text/plain": [
       "interactive(children=(BoundedIntText(value=8050, description='Port where application is exposed', max=9999, st…"
      ]
     },
     "metadata": {},
     "output_type": "display_data"
    }
   ],
   "source": [
    "display_link()"
   ]
  },
  {
   "cell_type": "code",
   "execution_count": null,
   "metadata": {
    "id": "a7e9d133-80c1-4acc-b9ff-51fea652482a"
   },
   "outputs": [],
   "source": []
  }
 ],
 "metadata": {
  "kernelspec": {
   "display_name": "Python 3.8 + GPU with applications",
   "language": "python",
   "name": "python3"
  },
  "language_info": {
   "codemirror_mode": {
    "name": "ipython",
    "version": 3
   },
   "file_extension": ".py",
   "mimetype": "text/x-python",
   "name": "python",
   "nbconvert_exporter": "python",
   "pygments_lexer": "ipython3",
   "version": "3.8.11"
  }
 },
 "nbformat": 4,
 "nbformat_minor": 4
}
